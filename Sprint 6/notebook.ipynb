{
 "cells": [
  {
   "cell_type": "markdown",
   "id": "11f67dd1",
   "metadata": {},
   "source": [
    "# Proyecto\n",
    "## Tienda online **`ice`**\n",
    "#### Descripción del proyecto\n",
    "\n",
    "Trabajas para la tienda online **Ice** que vende videojuegos por todo el mundo. Las reseñas de usuarios y expertos, los géneros, las plataformas (por ejemplo, Xbox o PlayStation) y los datos históricos sobre las ventas de juegos están disponibles en fuentes abiertas. Tienes que **identificar patrones** que determinen si un juego tiene éxito o no. Esto te permitirá detectar proyectos prometedores y planificar campañas publicitarias.\n",
    "\n",
    "Delante de ti hay **datos que se remontan a 2016**. Imaginemos que es diciembre de 2016 y estás planeando una campaña para 2017.\n",
    "\n",
    "Lo importante es adquirir experiencia de trabajo con datos. Realmente no importa si estás pronosticando las ventas de 2017 en función de los datos de 2016 o las ventas de 2027 en función de los datos de 2026.\n",
    "\n",
    "El dataset contiene una columna \"`rating`\" que almacena la clasificación ESRB de cada juego. El Entertainment Software Rating Board (la Junta de clasificación de software de entretenimiento) evalúa el contenido de un juego y asigna una clasificación de edad como Adolescente o Adulto."
   ]
  },
  {
   "cell_type": "markdown",
   "id": "9292639c",
   "metadata": {},
   "source": [
    "### Paso 1. Abrir archivo y estudiar información general"
   ]
  },
  {
   "cell_type": "code",
   "execution_count": 1,
   "id": "b59e44e3",
   "metadata": {},
   "outputs": [],
   "source": [
    "# Primero voy a importar las librerías\n",
    "from scipy import stats as st\n",
    "import pandas as pd\n",
    "import numpy as np\n",
    "import matplotlib.pyplot as plt\n",
    "import seaborn as sns"
   ]
  },
  {
   "cell_type": "code",
   "execution_count": 2,
   "id": "16274bd2",
   "metadata": {},
   "outputs": [],
   "source": [
    "# Importar información\n",
    "df_games = pd.read_csv('datasets/games.csv')"
   ]
  },
  {
   "cell_type": "code",
   "execution_count": null,
   "id": "5c6d547f",
   "metadata": {},
   "outputs": [],
   "source": [
    "df_games.info()\n",
    "\n",
    "df_games.head(10)"
   ]
  },
  {
   "cell_type": "markdown",
   "id": "5125c590",
   "metadata": {},
   "source": [
    "### Paso 2. Preparar los datos"
   ]
  },
  {
   "cell_type": "code",
   "execution_count": null,
   "id": "58a85da3",
   "metadata": {},
   "outputs": [],
   "source": [
    "# Reemplazar los nombres de las columnas\n"
   ]
  },
  {
   "cell_type": "code",
   "execution_count": null,
   "id": "b31a1a61",
   "metadata": {},
   "outputs": [],
   "source": [
    "# Convertir los tipos de datos a los correspondientes\n"
   ]
  },
  {
   "cell_type": "markdown",
   "id": "38e08187",
   "metadata": {},
   "source": [
    "Estos tipos de datos los convertí así porque"
   ]
  },
  {
   "cell_type": "code",
   "execution_count": null,
   "id": "16169e4f",
   "metadata": {},
   "outputs": [],
   "source": [
    "# Valores ausentes"
   ]
  },
  {
   "cell_type": "code",
   "execution_count": null,
   "id": "4e6aa16f",
   "metadata": {},
   "outputs": [],
   "source": [
    "# Calcular ventas totales con todas las regiones"
   ]
  },
  {
   "cell_type": "markdown",
   "id": "5809e647",
   "metadata": {},
   "source": [
    "### Paso 3. Analizar datos\n",
    "\n",
    "- Mira cuántos juegos fueron lanzados en diferentes años. ¿Son significativos los datos de cada período?\n",
    "- Observa cómo varían las ventas de una plataforma a otra. Elige las plataformas con las mayores ventas totales y construye una distribución basada en los datos de cada año. Busca las plataformas que solían ser populares pero que ahora no tienen ventas. ¿Cuánto tardan generalmente las nuevas plataformas en aparecer y las antiguas en desaparecer?\n",
    "- Determina para qué período debes tomar datos. Para hacerlo mira tus respuestas a las preguntas anteriores. Los datos deberían permitirte construir un modelo para 2017.\n",
    "- Trabaja solo con los datos que consideras relevantes. Ignora los datos de años anteriores.\n",
    "- ¿Qué plataformas son líderes en ventas? ¿Cuáles crecen y cuáles se reducen? Elige varias plataformas potencialmente rentables.\n",
    "- Crea un diagrama de caja para las ventas globales de todos los juegos, desglosados por plataforma. ¿Son significativas las diferencias en las ventas? ¿Qué sucede con las ventas promedio en varias plataformas? Describe tus hallazgos.\n",
    "- Mira cómo las reseñas de usuarios y profesionales afectan las ventas de una plataforma popular (tu elección). Crea un gráfico de dispersión y calcula la correlación entre las reseñas y las ventas. Saca conclusiones.\n",
    "- Teniendo en cuenta tus conclusiones compara las ventas de los mismos juegos en otras plataformas.\n",
    "- Echa un vistazo a la distribución general de los juegos por género. ¿Qué se puede decir de los géneros más rentables? ¿Puedes generalizar acerca de los géneros con ventas altas y bajas?"
   ]
  },
  {
   "cell_type": "markdown",
   "id": "13556789",
   "metadata": {},
   "source": [
    "### Paso 4. Crear un perfil de usuario para cada region\n",
    "\n",
    "Para cada región (NA, UE, JP) determina:\n",
    "\n",
    "- Las cinco plataformas principales. Describe las variaciones en sus cuotas de mercado de una región a otra.\n",
    "- Los cinco géneros principales. Explica la diferencia.\n",
    "- Si las clasificaciones de ESRB afectan a las ventas en regiones individuales."
   ]
  },
  {
   "cell_type": "markdown",
   "id": "ed8faf8b",
   "metadata": {},
   "source": [
    "### Paso 5. Prueba de hipótesis\n",
    "\n",
    "- Las calificaciones promedio de los usuarios para las plataformas Xbox One y PC son las mismas.\n",
    "\n",
    "- Las calificaciones promedio de los usuarios para los géneros de Acción y Deportes son diferentes.\n",
    "\n",
    "Establece tu mismo el valor de umbral alfa.\n",
    "\n",
    "Explica:\n",
    "\n",
    "- Cómo formulaste las hipótesis nula y alternativa.\n",
    "\n",
    "- Qué criterio utilizaste para probar las hipótesis y por qué."
   ]
  },
  {
   "cell_type": "markdown",
   "id": "fb973fac",
   "metadata": {},
   "source": [
    "### Paso 6. Conclusión general"
   ]
  }
 ],
 "metadata": {
  "kernelspec": {
   "display_name": ".venv (3.12.3)",
   "language": "python",
   "name": "python3"
  },
  "language_info": {
   "codemirror_mode": {
    "name": "ipython",
    "version": 3
   },
   "file_extension": ".py",
   "mimetype": "text/x-python",
   "name": "python",
   "nbconvert_exporter": "python",
   "pygments_lexer": "ipython3",
   "version": "3.12.3"
  }
 },
 "nbformat": 4,
 "nbformat_minor": 5
}

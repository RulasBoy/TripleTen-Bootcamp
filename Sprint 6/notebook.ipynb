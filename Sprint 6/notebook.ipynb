{
 "cells": [
  {
   "cell_type": "markdown",
   "id": "11f67dd1",
   "metadata": {},
   "source": [
    "# Proyecto\n",
    "## Tienda online **`ice`**\n",
    "#### Descripción del proyecto\n",
    "\n",
    "Trabajas para la tienda online **Ice** que vende videojuegos por todo el mundo. Las reseñas de usuarios y expertos, los géneros, las plataformas (por ejemplo, Xbox o PlayStation) y los datos históricos sobre las ventas de juegos están disponibles en fuentes abiertas. Tienes que **identificar patrones** que determinen si un juego tiene éxito o no. Esto te permitirá detectar proyectos prometedores y planificar campañas publicitarias.\n",
    "\n",
    "Delante de ti hay **datos que se remontan a 2016**. Imaginemos que es diciembre de 2016 y estás planeando una campaña para 2017.\n",
    "\n",
    "Lo importante es adquirir experiencia de trabajo con datos. Realmente no importa si estás pronosticando las ventas de 2017 en función de los datos de 2016 o las ventas de 2027 en función de los datos de 2026.\n",
    "\n",
    "El dataset contiene una columna \"`rating`\" que almacena la clasificación ESRB de cada juego. El Entertainment Software Rating Board (la Junta de clasificación de software de entretenimiento) evalúa el contenido de un juego y asigna una clasificación de edad como Adolescente o Adulto."
   ]
  },
  {
   "cell_type": "markdown",
   "id": "9292639c",
   "metadata": {},
   "source": [
    "### Paso 1. Abrir archivo y estudiar información general"
   ]
  },
  {
   "cell_type": "code",
   "execution_count": 1,
   "id": "b59e44e3",
   "metadata": {},
   "outputs": [],
   "source": [
    "# Primero voy a importar las librerías\n",
    "from scipy import stats as st\n",
    "import pandas as pd\n",
    "import numpy as np\n",
    "import matplotlib.pyplot as plt\n",
    "import seaborn as sns"
   ]
  },
  {
   "cell_type": "code",
   "execution_count": 2,
   "id": "16274bd2",
   "metadata": {},
   "outputs": [],
   "source": [
    "# Importar información\n",
    "df_games = pd.read_csv('datasets/games.csv')"
   ]
  },
  {
   "cell_type": "code",
   "execution_count": 3,
   "id": "5c6d547f",
   "metadata": {},
   "outputs": [
    {
     "name": "stdout",
     "output_type": "stream",
     "text": [
      "<class 'pandas.core.frame.DataFrame'>\n",
      "RangeIndex: 16715 entries, 0 to 16714\n",
      "Data columns (total 11 columns):\n",
      " #   Column           Non-Null Count  Dtype  \n",
      "---  ------           --------------  -----  \n",
      " 0   Name             16713 non-null  object \n",
      " 1   Platform         16715 non-null  object \n",
      " 2   Year_of_Release  16446 non-null  float64\n",
      " 3   Genre            16713 non-null  object \n",
      " 4   NA_sales         16715 non-null  float64\n",
      " 5   EU_sales         16715 non-null  float64\n",
      " 6   JP_sales         16715 non-null  float64\n",
      " 7   Other_sales      16715 non-null  float64\n",
      " 8   Critic_Score     8137 non-null   float64\n",
      " 9   User_Score       10014 non-null  object \n",
      " 10  Rating           9949 non-null   object \n",
      "dtypes: float64(6), object(5)\n",
      "memory usage: 1.4+ MB\n"
     ]
    },
    {
     "data": {
      "application/vnd.microsoft.datawrangler.viewer.v0+json": {
       "columns": [
        {
         "name": "index",
         "rawType": "int64",
         "type": "integer"
        },
        {
         "name": "Name",
         "rawType": "object",
         "type": "string"
        },
        {
         "name": "Platform",
         "rawType": "object",
         "type": "string"
        },
        {
         "name": "Year_of_Release",
         "rawType": "float64",
         "type": "float"
        },
        {
         "name": "Genre",
         "rawType": "object",
         "type": "string"
        },
        {
         "name": "NA_sales",
         "rawType": "float64",
         "type": "float"
        },
        {
         "name": "EU_sales",
         "rawType": "float64",
         "type": "float"
        },
        {
         "name": "JP_sales",
         "rawType": "float64",
         "type": "float"
        },
        {
         "name": "Other_sales",
         "rawType": "float64",
         "type": "float"
        },
        {
         "name": "Critic_Score",
         "rawType": "float64",
         "type": "float"
        },
        {
         "name": "User_Score",
         "rawType": "object",
         "type": "unknown"
        },
        {
         "name": "Rating",
         "rawType": "object",
         "type": "unknown"
        }
       ],
       "ref": "0c13699c-bdfc-45d0-8970-f5046b0d0665",
       "rows": [
        [
         "0",
         "Wii Sports",
         "Wii",
         "2006.0",
         "Sports",
         "41.36",
         "28.96",
         "3.77",
         "8.45",
         "76.0",
         "8",
         "E"
        ],
        [
         "1",
         "Super Mario Bros.",
         "NES",
         "1985.0",
         "Platform",
         "29.08",
         "3.58",
         "6.81",
         "0.77",
         null,
         null,
         null
        ],
        [
         "2",
         "Mario Kart Wii",
         "Wii",
         "2008.0",
         "Racing",
         "15.68",
         "12.76",
         "3.79",
         "3.29",
         "82.0",
         "8.3",
         "E"
        ],
        [
         "3",
         "Wii Sports Resort",
         "Wii",
         "2009.0",
         "Sports",
         "15.61",
         "10.93",
         "3.28",
         "2.95",
         "80.0",
         "8",
         "E"
        ],
        [
         "4",
         "Pokemon Red/Pokemon Blue",
         "GB",
         "1996.0",
         "Role-Playing",
         "11.27",
         "8.89",
         "10.22",
         "1.0",
         null,
         null,
         null
        ],
        [
         "5",
         "Tetris",
         "GB",
         "1989.0",
         "Puzzle",
         "23.2",
         "2.26",
         "4.22",
         "0.58",
         null,
         null,
         null
        ],
        [
         "6",
         "New Super Mario Bros.",
         "DS",
         "2006.0",
         "Platform",
         "11.28",
         "9.14",
         "6.5",
         "2.88",
         "89.0",
         "8.5",
         "E"
        ],
        [
         "7",
         "Wii Play",
         "Wii",
         "2006.0",
         "Misc",
         "13.96",
         "9.18",
         "2.93",
         "2.84",
         "58.0",
         "6.6",
         "E"
        ],
        [
         "8",
         "New Super Mario Bros. Wii",
         "Wii",
         "2009.0",
         "Platform",
         "14.44",
         "6.94",
         "4.7",
         "2.24",
         "87.0",
         "8.4",
         "E"
        ],
        [
         "9",
         "Duck Hunt",
         "NES",
         "1984.0",
         "Shooter",
         "26.93",
         "0.63",
         "0.28",
         "0.47",
         null,
         null,
         null
        ]
       ],
       "shape": {
        "columns": 11,
        "rows": 10
       }
      },
      "text/html": [
       "<div>\n",
       "<style scoped>\n",
       "    .dataframe tbody tr th:only-of-type {\n",
       "        vertical-align: middle;\n",
       "    }\n",
       "\n",
       "    .dataframe tbody tr th {\n",
       "        vertical-align: top;\n",
       "    }\n",
       "\n",
       "    .dataframe thead th {\n",
       "        text-align: right;\n",
       "    }\n",
       "</style>\n",
       "<table border=\"1\" class=\"dataframe\">\n",
       "  <thead>\n",
       "    <tr style=\"text-align: right;\">\n",
       "      <th></th>\n",
       "      <th>Name</th>\n",
       "      <th>Platform</th>\n",
       "      <th>Year_of_Release</th>\n",
       "      <th>Genre</th>\n",
       "      <th>NA_sales</th>\n",
       "      <th>EU_sales</th>\n",
       "      <th>JP_sales</th>\n",
       "      <th>Other_sales</th>\n",
       "      <th>Critic_Score</th>\n",
       "      <th>User_Score</th>\n",
       "      <th>Rating</th>\n",
       "    </tr>\n",
       "  </thead>\n",
       "  <tbody>\n",
       "    <tr>\n",
       "      <th>0</th>\n",
       "      <td>Wii Sports</td>\n",
       "      <td>Wii</td>\n",
       "      <td>2006.0</td>\n",
       "      <td>Sports</td>\n",
       "      <td>41.36</td>\n",
       "      <td>28.96</td>\n",
       "      <td>3.77</td>\n",
       "      <td>8.45</td>\n",
       "      <td>76.0</td>\n",
       "      <td>8</td>\n",
       "      <td>E</td>\n",
       "    </tr>\n",
       "    <tr>\n",
       "      <th>1</th>\n",
       "      <td>Super Mario Bros.</td>\n",
       "      <td>NES</td>\n",
       "      <td>1985.0</td>\n",
       "      <td>Platform</td>\n",
       "      <td>29.08</td>\n",
       "      <td>3.58</td>\n",
       "      <td>6.81</td>\n",
       "      <td>0.77</td>\n",
       "      <td>NaN</td>\n",
       "      <td>NaN</td>\n",
       "      <td>NaN</td>\n",
       "    </tr>\n",
       "    <tr>\n",
       "      <th>2</th>\n",
       "      <td>Mario Kart Wii</td>\n",
       "      <td>Wii</td>\n",
       "      <td>2008.0</td>\n",
       "      <td>Racing</td>\n",
       "      <td>15.68</td>\n",
       "      <td>12.76</td>\n",
       "      <td>3.79</td>\n",
       "      <td>3.29</td>\n",
       "      <td>82.0</td>\n",
       "      <td>8.3</td>\n",
       "      <td>E</td>\n",
       "    </tr>\n",
       "    <tr>\n",
       "      <th>3</th>\n",
       "      <td>Wii Sports Resort</td>\n",
       "      <td>Wii</td>\n",
       "      <td>2009.0</td>\n",
       "      <td>Sports</td>\n",
       "      <td>15.61</td>\n",
       "      <td>10.93</td>\n",
       "      <td>3.28</td>\n",
       "      <td>2.95</td>\n",
       "      <td>80.0</td>\n",
       "      <td>8</td>\n",
       "      <td>E</td>\n",
       "    </tr>\n",
       "    <tr>\n",
       "      <th>4</th>\n",
       "      <td>Pokemon Red/Pokemon Blue</td>\n",
       "      <td>GB</td>\n",
       "      <td>1996.0</td>\n",
       "      <td>Role-Playing</td>\n",
       "      <td>11.27</td>\n",
       "      <td>8.89</td>\n",
       "      <td>10.22</td>\n",
       "      <td>1.00</td>\n",
       "      <td>NaN</td>\n",
       "      <td>NaN</td>\n",
       "      <td>NaN</td>\n",
       "    </tr>\n",
       "    <tr>\n",
       "      <th>5</th>\n",
       "      <td>Tetris</td>\n",
       "      <td>GB</td>\n",
       "      <td>1989.0</td>\n",
       "      <td>Puzzle</td>\n",
       "      <td>23.20</td>\n",
       "      <td>2.26</td>\n",
       "      <td>4.22</td>\n",
       "      <td>0.58</td>\n",
       "      <td>NaN</td>\n",
       "      <td>NaN</td>\n",
       "      <td>NaN</td>\n",
       "    </tr>\n",
       "    <tr>\n",
       "      <th>6</th>\n",
       "      <td>New Super Mario Bros.</td>\n",
       "      <td>DS</td>\n",
       "      <td>2006.0</td>\n",
       "      <td>Platform</td>\n",
       "      <td>11.28</td>\n",
       "      <td>9.14</td>\n",
       "      <td>6.50</td>\n",
       "      <td>2.88</td>\n",
       "      <td>89.0</td>\n",
       "      <td>8.5</td>\n",
       "      <td>E</td>\n",
       "    </tr>\n",
       "    <tr>\n",
       "      <th>7</th>\n",
       "      <td>Wii Play</td>\n",
       "      <td>Wii</td>\n",
       "      <td>2006.0</td>\n",
       "      <td>Misc</td>\n",
       "      <td>13.96</td>\n",
       "      <td>9.18</td>\n",
       "      <td>2.93</td>\n",
       "      <td>2.84</td>\n",
       "      <td>58.0</td>\n",
       "      <td>6.6</td>\n",
       "      <td>E</td>\n",
       "    </tr>\n",
       "    <tr>\n",
       "      <th>8</th>\n",
       "      <td>New Super Mario Bros. Wii</td>\n",
       "      <td>Wii</td>\n",
       "      <td>2009.0</td>\n",
       "      <td>Platform</td>\n",
       "      <td>14.44</td>\n",
       "      <td>6.94</td>\n",
       "      <td>4.70</td>\n",
       "      <td>2.24</td>\n",
       "      <td>87.0</td>\n",
       "      <td>8.4</td>\n",
       "      <td>E</td>\n",
       "    </tr>\n",
       "    <tr>\n",
       "      <th>9</th>\n",
       "      <td>Duck Hunt</td>\n",
       "      <td>NES</td>\n",
       "      <td>1984.0</td>\n",
       "      <td>Shooter</td>\n",
       "      <td>26.93</td>\n",
       "      <td>0.63</td>\n",
       "      <td>0.28</td>\n",
       "      <td>0.47</td>\n",
       "      <td>NaN</td>\n",
       "      <td>NaN</td>\n",
       "      <td>NaN</td>\n",
       "    </tr>\n",
       "  </tbody>\n",
       "</table>\n",
       "</div>"
      ],
      "text/plain": [
       "                        Name Platform  Year_of_Release         Genre  \\\n",
       "0                 Wii Sports      Wii           2006.0        Sports   \n",
       "1          Super Mario Bros.      NES           1985.0      Platform   \n",
       "2             Mario Kart Wii      Wii           2008.0        Racing   \n",
       "3          Wii Sports Resort      Wii           2009.0        Sports   \n",
       "4   Pokemon Red/Pokemon Blue       GB           1996.0  Role-Playing   \n",
       "5                     Tetris       GB           1989.0        Puzzle   \n",
       "6      New Super Mario Bros.       DS           2006.0      Platform   \n",
       "7                   Wii Play      Wii           2006.0          Misc   \n",
       "8  New Super Mario Bros. Wii      Wii           2009.0      Platform   \n",
       "9                  Duck Hunt      NES           1984.0       Shooter   \n",
       "\n",
       "   NA_sales  EU_sales  JP_sales  Other_sales  Critic_Score User_Score Rating  \n",
       "0     41.36     28.96      3.77         8.45          76.0          8      E  \n",
       "1     29.08      3.58      6.81         0.77           NaN        NaN    NaN  \n",
       "2     15.68     12.76      3.79         3.29          82.0        8.3      E  \n",
       "3     15.61     10.93      3.28         2.95          80.0          8      E  \n",
       "4     11.27      8.89     10.22         1.00           NaN        NaN    NaN  \n",
       "5     23.20      2.26      4.22         0.58           NaN        NaN    NaN  \n",
       "6     11.28      9.14      6.50         2.88          89.0        8.5      E  \n",
       "7     13.96      9.18      2.93         2.84          58.0        6.6      E  \n",
       "8     14.44      6.94      4.70         2.24          87.0        8.4      E  \n",
       "9     26.93      0.63      0.28         0.47           NaN        NaN    NaN  "
      ]
     },
     "execution_count": 3,
     "metadata": {},
     "output_type": "execute_result"
    }
   ],
   "source": [
    "df_games.info()\n",
    "\n",
    "df_games.head(10)"
   ]
  },
  {
   "cell_type": "markdown",
   "id": "cc9e4149",
   "metadata": {},
   "source": [
    "De cajón se puede observar que hay 2 juegos con nombres ausentes. Lo veré más adelante en la preparación de datos.\n",
    "\n",
    "Con respecto a *plataforma, género y ventas de todas las regiones* **no hay valores nulos**, lo cual es un alivio.\n",
    "\n",
    "El año de lanzamiento es flotante, lo cual se tiene que cambiar por obvias razones.\n",
    "\n",
    "Los puntajes no son consistentes, algunos son de 0 a 100 y el otro de 0 a 10. Esto se tiene que arreglar. Además de que tienen bastantes valores ausentes.\n",
    "\n",
    "El rating también tiene valores ausentes lo cual puede ser un problema. También se tiene que resolver."
   ]
  },
  {
   "cell_type": "markdown",
   "id": "5125c590",
   "metadata": {},
   "source": [
    "### Paso 2. Preparar los datos"
   ]
  },
  {
   "cell_type": "markdown",
   "id": "97a4f7ad",
   "metadata": {},
   "source": [
    "#### Funciones\n",
    "Voy a escribir unas funciones para optimizar un poco el código"
   ]
  },
  {
   "cell_type": "code",
   "execution_count": 4,
   "id": "4168ae04",
   "metadata": {},
   "outputs": [],
   "source": [
    "# Función para retornar una proporción, redondeado a 2 dígitos\n",
    "def calcularProporcion(faltante, total):\n",
    "    return round(faltante / total * 100, 2)"
   ]
  },
  {
   "cell_type": "markdown",
   "id": "6c59e265",
   "metadata": {},
   "source": [
    "#### Nombres de las columnas"
   ]
  },
  {
   "cell_type": "code",
   "execution_count": 5,
   "id": "58a85da3",
   "metadata": {},
   "outputs": [],
   "source": [
    "# Reemplazar los nombres de las columnas\n",
    "df_games.columns = df_games.columns.str.lower()"
   ]
  },
  {
   "cell_type": "markdown",
   "id": "7917c167",
   "metadata": {},
   "source": [
    "#### Valores ausentes\n",
    "##### Columna nombres"
   ]
  },
  {
   "cell_type": "code",
   "execution_count": 6,
   "id": "16169e4f",
   "metadata": {},
   "outputs": [
    {
     "name": "stdout",
     "output_type": "stream",
     "text": [
      "Cantidad de nombres faltantes: 2\n"
     ]
    }
   ],
   "source": [
    "# Valores ausentes en nombres\n",
    "print(f\"Cantidad de nombres faltantes: {df_games['name'].isna().sum()}\")"
   ]
  },
  {
   "cell_type": "markdown",
   "id": "de3b803f",
   "metadata": {},
   "source": [
    "Solamente hay 2 registros con nombre nulo, por lo que no nos tenemos que preocupar por esto."
   ]
  },
  {
   "cell_type": "code",
   "execution_count": 7,
   "id": "ad0dd1ef",
   "metadata": {},
   "outputs": [],
   "source": [
    "# Borrar estos registros con valores nulos, ya que son irrelevantes\n",
    "df_games = df_games[~df_games['name'].isna()]"
   ]
  },
  {
   "cell_type": "markdown",
   "id": "70331e57",
   "metadata": {},
   "source": [
    "##### Columna del año de lanzamiento"
   ]
  },
  {
   "cell_type": "code",
   "execution_count": 8,
   "id": "d66e3b0f",
   "metadata": {},
   "outputs": [
    {
     "name": "stdout",
     "output_type": "stream",
     "text": [
      "Proporcion de columnas de año de lanzamiento con valores nulos: %1.61\n"
     ]
    }
   ],
   "source": [
    "# Contar el total de juegos\n",
    "total_games_count = len(df_games)\n",
    "\n",
    "# Calcular la cantidad de registros con año de lanzamiento nulo\n",
    "años_faltantes = df_games['year_of_release'].isna().sum()\n",
    "\n",
    "# Proporción de faltantes\n",
    "prop_años = calcularProporcion(años_faltantes, total_games_count)\n",
    "print(f\"Proporcion de columnas de año de lanzamiento con valores nulos: %{prop_años}\")"
   ]
  },
  {
   "cell_type": "markdown",
   "id": "64474760",
   "metadata": {},
   "source": [
    "El %1.61 de registros no tienen el año de lanzamiento, no es una proporcion significativa, vamos a eliminarlos porque no representaría una alteración significativa para nuestros cálculos."
   ]
  },
  {
   "cell_type": "code",
   "execution_count": 9,
   "id": "f88ce6b0",
   "metadata": {},
   "outputs": [],
   "source": [
    "# Borrar estos registros con valores nulos, ya que son irrelevantes\n",
    "df_games = df_games[~df_games['year_of_release'].isna()]"
   ]
  },
  {
   "cell_type": "markdown",
   "id": "ea8758dc",
   "metadata": {},
   "source": [
    "##### Columna de crítica"
   ]
  },
  {
   "cell_type": "code",
   "execution_count": 10,
   "id": "704532ae",
   "metadata": {},
   "outputs": [
    {
     "name": "stdout",
     "output_type": "stream",
     "text": [
      "Proporcion de columnas de calificación de la crítica con valores nulos: %50.63\n"
     ]
    }
   ],
   "source": [
    "# Calcular cantidad de registros con calificaciones nulas\n",
    "cal_crit_faltante = df_games['critic_score'].isna().sum()\n",
    "\n",
    "# Calcular proporciones\n",
    "prop_crit = calcularProporcion(cal_crit_faltante, total_games_count)\n",
    "\n",
    "print(f\"Proporcion de columnas de calificación de la crítica con valores nulos: %{prop_crit}\")"
   ]
  },
  {
   "cell_type": "markdown",
   "id": "c22db865",
   "metadata": {},
   "source": [
    "Podemos ver que hay un porcentaje significativamente alto en proporción a la cantidad de registros con valores nulos, sería muy costoso para nuestros calculos, por esto no los podemos ignorar. Voy a reemplazar los valores nulos con promedios."
   ]
  },
  {
   "cell_type": "code",
   "execution_count": 11,
   "id": "fab18cb2",
   "metadata": {},
   "outputs": [],
   "source": [
    "# Rellena los valores nulos con las calificaciones promedio dependiendo del género del juego\n",
    "df_games['critic_score'] = df_games.groupby('genre')['critic_score'].transform(\n",
    "    lambda x: x.fillna(x.mean())\n",
    ")"
   ]
  },
  {
   "cell_type": "markdown",
   "id": "3ac6d513",
   "metadata": {},
   "source": [
    "##### Columna de calificaciones de usuarios"
   ]
  },
  {
   "cell_type": "code",
   "execution_count": 12,
   "id": "a29e2505",
   "metadata": {},
   "outputs": [
    {
     "name": "stdout",
     "output_type": "stream",
     "text": [
      "Proporcion de columnas de calificación de usuarios con valores nulos: %39.52\n"
     ]
    }
   ],
   "source": [
    "# Calcular cantidad de registros con calificaciones nulas\n",
    "cal_user_faltante = df_games['user_score'].isna().sum()\n",
    "\n",
    "# Calcular proporciones\n",
    "prop_user = calcularProporcion(cal_user_faltante, total_games_count)\n",
    "\n",
    "print(f\"Proporcion de columnas de calificación de usuarios con valores nulos: %{prop_user}\")"
   ]
  },
  {
   "cell_type": "markdown",
   "id": "e913f973",
   "metadata": {},
   "source": [
    "Aquí también tenemos un porcentaje significativo de valores nulos, pero no solo eso, también tenemos muchos valores con 'tbd'."
   ]
  },
  {
   "cell_type": "code",
   "execution_count": 13,
   "id": "5ed7b1d4",
   "metadata": {},
   "outputs": [
    {
     "name": "stdout",
     "output_type": "stream",
     "text": [
      "Proporcion de registros con 'tbd': %14.22\n"
     ]
    }
   ],
   "source": [
    "# Registros con 'tbd'\n",
    "count_tbd = (df_games['user_score'] == 'tbd').sum()\n",
    "\n",
    "# Calcular proporcion con valores 'tbd'\n",
    "prop_tbd = calcularProporcion(count_tbd, total_games_count)\n",
    "\n",
    "print(f\"Proporcion de registros con 'tbd': %{prop_tbd}\")"
   ]
  },
  {
   "cell_type": "markdown",
   "id": "0e46f6f3",
   "metadata": {},
   "source": [
    "Tenemos más de un %50 de registros con valores que NO son calificaciones.\n",
    "\n",
    "No creo que pueda asignar algún valor a estos registros porque podría dar pie a sesgos en los cálculos. Voy a optar por **hacer que los 'tbd' sean valores nulos**, y voy a usar esta columna como variable secundaria, sólo lo voy a usar para análisis donde esté disponible.\n",
    "\n",
    "Siendo que hay demasiados registros con esta columna nula, no puedo simplemente eliminar esos registros, pero tampoco voy a usar esta columna para cosas tan relevantes por el hecho de que más de la mitad de esta columna es inútil."
   ]
  },
  {
   "cell_type": "code",
   "execution_count": 14,
   "id": "8997f5a2",
   "metadata": {},
   "outputs": [],
   "source": [
    "# Cambiar 'tbd' a nulos\n",
    "df_games['user_score'] = df_games['user_score'].replace('tbd', np.nan)"
   ]
  },
  {
   "cell_type": "markdown",
   "id": "7eb05d05",
   "metadata": {},
   "source": [
    "##### Columna de rating"
   ]
  },
  {
   "cell_type": "code",
   "execution_count": 15,
   "id": "43a5d191",
   "metadata": {},
   "outputs": [
    {
     "name": "stdout",
     "output_type": "stream",
     "text": [
      "Proporcion de columnas de rating con valores nulos: %39.94\n"
     ]
    }
   ],
   "source": [
    "# Calcular cantidad de registros con rating nulos\n",
    "rating_faltante = df_games['rating'].isna().sum()\n",
    "\n",
    "# Calcular proporciones\n",
    "prop_rating = calcularProporcion(rating_faltante, total_games_count)\n",
    "\n",
    "print(f\"Proporcion de columnas de rating con valores nulos: %{prop_rating}\")"
   ]
  },
  {
   "cell_type": "markdown",
   "id": "a0d55fd7",
   "metadata": {},
   "source": [
    "Hay un porcentaje significativo de juegos sin rating, no se pueden simplemente ignorar.\n",
    "\n",
    "Analizando los datos más a fondo veo que no hay algún patrón claro para poder hacer calificaciones intuitivas, por ejemplo, podría asumir que los Shooter automáticamente los puedo marcar con rating M, pero hay juegos que son Shooter calificados como E10+ y T, así que no se puede rellenar intuitivamente esta columna, por lo que voy a dejar estos juegos con rating `unrated`, ya que es transparente para análisis posteriores."
   ]
  },
  {
   "cell_type": "code",
   "execution_count": 16,
   "id": "e75c86e0",
   "metadata": {},
   "outputs": [],
   "source": [
    "df_games['rating'] = df_games['rating'].fillna('Unrated')"
   ]
  },
  {
   "cell_type": "markdown",
   "id": "4a763898",
   "metadata": {},
   "source": [
    "##### ¿Por qué hay valores nulos?\n",
    "\n",
    "Con respecto al `year_of_release` puede que los valores nulos se deban a que pueden haber juegos muy antiguos sin registro exacto de lanzamientos, por ports/remasters que tienen fechas ambiguas resultado de la reutilización de código base en versiones anteriores.\n",
    "\n",
    "Con `critic_score` puede tener valores nulos debido a la cobertura de las organizaciones de crítica, tal vez no cubren juegos indies. Tal vez depende del lanzamiento regional, tal vez hay títulos lanzados en japón o europa y no hay registros de medios globales que califiquen los juegos, o por lo menos no según la información extraída para este análisis.\n",
    "\n",
    "En `user_score` puede tener una mezcla de factores como la columna anterior, o puede haber diferentes factores como la anitüedad de los juegos, en los juegos más antiguos es donde más se ven valores nulos. Con respecto a 'tbd', teniendo en cuenta que los valores son de 2016 y los estamos usando para hacer estimaciones para 2017 **podríamos** especular que al momento de extracción de la información se encuentra desactualizada la información debido a que es muy reciente, PERO analizando más a fondo los registros con 'tbd' puedo ver que hay cientos de juegos con bastante antigüedad, algunos teniendo ya 5 años de antiguedad a la extracción de los datos. Aquí solamente me resta especular que hay una falta de dedicación por parte de las organizaciones correspondientes para recopilar las calificaciones de los usuarios, o de a plano hay incompetencia para determinar el mismo.\n",
    "\n",
    "Y con `rating` puede haber valores nulos debido a que hay juegos en las que no calsifica el rating ESRB, ya sea porque son bundles o por alguna otra razón específica como ediciones especiales con versión física limitadas sin proceso formal de rating. Pero dado que hay una cantidad significativa de valores nulos en esta columna, es difícil especular.\n",
    "\n",
    "En general algunos de los valores nulos correspondientes a calificaciones se puede deber al tipo de cobertura que tenga el juego, sea por la region donde fue vendida, tanto como la categoría del juego, por ejemplo cuando un juego se vende como bundle o paquete de 2 o más juegos en una venta.\n",
    "\n",
    "Como sea, a algunos de los valore nulos se podría atribuir a error de captura o extracción de información sea por cuestiones técnicas o por recolección de múltiples fuentes, pero eso es difícil de determinar."
   ]
  },
  {
   "cell_type": "markdown",
   "id": "89df4e90",
   "metadata": {},
   "source": [
    "#### Conversión de datos a los correspondientes"
   ]
  },
  {
   "cell_type": "code",
   "execution_count": null,
   "id": "b31a1a61",
   "metadata": {},
   "outputs": [],
   "source": [
    "# year_of_release float -> int\n",
    "df_games['year_of_release'] = df_games['year_of_release'].astype(int)\n",
    "\n",
    "# critic_score float -> int\n",
    "df_games['critic_score'] = np.round(df_games['critic_score']).astype('Int64')\n",
    "\n",
    "# user_score primero convertir object -> float, multiplicar por 10 y entonces float -> int\n",
    "user_score_float = pd.to_numeric(df_games['user_score'])\n",
    "df_games['user_score'] = (user_score_float * 10).astype('Int64')"
   ]
  },
  {
   "cell_type": "code",
   "execution_count": 18,
   "id": "ea953058",
   "metadata": {},
   "outputs": [
    {
     "name": "stdout",
     "output_type": "stream",
     "text": [
      "<class 'pandas.core.frame.DataFrame'>\n",
      "Index: 16444 entries, 0 to 16714\n",
      "Data columns (total 11 columns):\n",
      " #   Column           Non-Null Count  Dtype  \n",
      "---  ------           --------------  -----  \n",
      " 0   name             16444 non-null  object \n",
      " 1   platform         16444 non-null  object \n",
      " 2   year_of_release  16444 non-null  int64  \n",
      " 3   genre            16444 non-null  object \n",
      " 4   na_sales         16444 non-null  float64\n",
      " 5   eu_sales         16444 non-null  float64\n",
      " 6   jp_sales         16444 non-null  float64\n",
      " 7   other_sales      16444 non-null  float64\n",
      " 8   critic_score     16444 non-null  Int64  \n",
      " 9   user_score       7463 non-null   Int64  \n",
      " 10  rating           16444 non-null  object \n",
      "dtypes: Int64(2), float64(4), int64(1), object(4)\n",
      "memory usage: 1.5+ MB\n"
     ]
    }
   ],
   "source": [
    "df_games.info()"
   ]
  },
  {
   "cell_type": "markdown",
   "id": "38e08187",
   "metadata": {},
   "source": [
    "Estos tipos de datos los convertí así por las siguientes razones:\n",
    "- `year_of_release` no necesita explicación, no tiene sentido que sea float.\n",
    "- `critic_score` lo cambié a entero siendo que no es necesario el uso de decimales siendo que es una escala de 0 a 100, además de que ningún registro tiene decimales en esta columna.\n",
    "- `user_score` lo cambié a enteros igual, pero como era una escala de 0 a 10 con decimales, lo multipliqué por 10 por 2 razones; al hacerlo escala de 0 a 100 ya se puede convertir a entero sin perder calificaciones (ya que de todas formas seguía una escala de calificación igual de 0 a 100, pero con decimales), y también esto nos va a servir para poder hacer cálculos y comparaciones con la columna 'critic_score', ya que al finales tienen propósitos afines.\n",
    "\n",
    "**¿Por qué no cambié el formato de ventas?**\n",
    "\n",
    "No vi necesario hacer ningún tipo de movimientos a esos ya que tenemos a nuestra disposición que esos números \"pequeños\" son representaciones de millones de su valor. Además no veo ningún problema con los números que ya hay, no veo inconsistencias ni valores nulos."
   ]
  },
  {
   "cell_type": "code",
   "execution_count": 20,
   "id": "4e6aa16f",
   "metadata": {},
   "outputs": [
    {
     "data": {
      "application/vnd.microsoft.datawrangler.viewer.v0+json": {
       "columns": [
        {
         "name": "index",
         "rawType": "int64",
         "type": "integer"
        },
        {
         "name": "name",
         "rawType": "object",
         "type": "string"
        },
        {
         "name": "na_sales",
         "rawType": "float64",
         "type": "float"
        },
        {
         "name": "eu_sales",
         "rawType": "float64",
         "type": "float"
        },
        {
         "name": "jp_sales",
         "rawType": "float64",
         "type": "float"
        },
        {
         "name": "other_sales",
         "rawType": "float64",
         "type": "float"
        },
        {
         "name": "global_sales",
         "rawType": "float64",
         "type": "float"
        }
       ],
       "ref": "390383f8-798e-4428-ad46-fc6f015944a8",
       "rows": [
        [
         "0",
         "Wii Sports",
         "41.36",
         "28.96",
         "3.77",
         "8.45",
         "82.54"
        ],
        [
         "1",
         "Super Mario Bros.",
         "29.08",
         "3.58",
         "6.81",
         "0.77",
         "40.24"
        ],
        [
         "2",
         "Mario Kart Wii",
         "15.68",
         "12.76",
         "3.79",
         "3.29",
         "35.52"
        ],
        [
         "3",
         "Wii Sports Resort",
         "15.61",
         "10.93",
         "3.28",
         "2.95",
         "32.77"
        ],
        [
         "4",
         "Pokemon Red/Pokemon Blue",
         "11.27",
         "8.89",
         "10.22",
         "1.0",
         "31.38"
        ],
        [
         "5",
         "Tetris",
         "23.2",
         "2.26",
         "4.22",
         "0.58",
         "30.26"
        ],
        [
         "6",
         "New Super Mario Bros.",
         "11.28",
         "9.14",
         "6.5",
         "2.88",
         "29.8"
        ],
        [
         "7",
         "Wii Play",
         "13.96",
         "9.18",
         "2.93",
         "2.84",
         "28.91"
        ],
        [
         "8",
         "New Super Mario Bros. Wii",
         "14.44",
         "6.94",
         "4.7",
         "2.24",
         "28.32"
        ],
        [
         "9",
         "Duck Hunt",
         "26.93",
         "0.63",
         "0.28",
         "0.47",
         "28.31"
        ]
       ],
       "shape": {
        "columns": 6,
        "rows": 10
       }
      },
      "text/html": [
       "<div>\n",
       "<style scoped>\n",
       "    .dataframe tbody tr th:only-of-type {\n",
       "        vertical-align: middle;\n",
       "    }\n",
       "\n",
       "    .dataframe tbody tr th {\n",
       "        vertical-align: top;\n",
       "    }\n",
       "\n",
       "    .dataframe thead th {\n",
       "        text-align: right;\n",
       "    }\n",
       "</style>\n",
       "<table border=\"1\" class=\"dataframe\">\n",
       "  <thead>\n",
       "    <tr style=\"text-align: right;\">\n",
       "      <th></th>\n",
       "      <th>name</th>\n",
       "      <th>na_sales</th>\n",
       "      <th>eu_sales</th>\n",
       "      <th>jp_sales</th>\n",
       "      <th>other_sales</th>\n",
       "      <th>global_sales</th>\n",
       "    </tr>\n",
       "  </thead>\n",
       "  <tbody>\n",
       "    <tr>\n",
       "      <th>0</th>\n",
       "      <td>Wii Sports</td>\n",
       "      <td>41.36</td>\n",
       "      <td>28.96</td>\n",
       "      <td>3.77</td>\n",
       "      <td>8.45</td>\n",
       "      <td>82.54</td>\n",
       "    </tr>\n",
       "    <tr>\n",
       "      <th>1</th>\n",
       "      <td>Super Mario Bros.</td>\n",
       "      <td>29.08</td>\n",
       "      <td>3.58</td>\n",
       "      <td>6.81</td>\n",
       "      <td>0.77</td>\n",
       "      <td>40.24</td>\n",
       "    </tr>\n",
       "    <tr>\n",
       "      <th>2</th>\n",
       "      <td>Mario Kart Wii</td>\n",
       "      <td>15.68</td>\n",
       "      <td>12.76</td>\n",
       "      <td>3.79</td>\n",
       "      <td>3.29</td>\n",
       "      <td>35.52</td>\n",
       "    </tr>\n",
       "    <tr>\n",
       "      <th>3</th>\n",
       "      <td>Wii Sports Resort</td>\n",
       "      <td>15.61</td>\n",
       "      <td>10.93</td>\n",
       "      <td>3.28</td>\n",
       "      <td>2.95</td>\n",
       "      <td>32.77</td>\n",
       "    </tr>\n",
       "    <tr>\n",
       "      <th>4</th>\n",
       "      <td>Pokemon Red/Pokemon Blue</td>\n",
       "      <td>11.27</td>\n",
       "      <td>8.89</td>\n",
       "      <td>10.22</td>\n",
       "      <td>1.00</td>\n",
       "      <td>31.38</td>\n",
       "    </tr>\n",
       "    <tr>\n",
       "      <th>5</th>\n",
       "      <td>Tetris</td>\n",
       "      <td>23.20</td>\n",
       "      <td>2.26</td>\n",
       "      <td>4.22</td>\n",
       "      <td>0.58</td>\n",
       "      <td>30.26</td>\n",
       "    </tr>\n",
       "    <tr>\n",
       "      <th>6</th>\n",
       "      <td>New Super Mario Bros.</td>\n",
       "      <td>11.28</td>\n",
       "      <td>9.14</td>\n",
       "      <td>6.50</td>\n",
       "      <td>2.88</td>\n",
       "      <td>29.80</td>\n",
       "    </tr>\n",
       "    <tr>\n",
       "      <th>7</th>\n",
       "      <td>Wii Play</td>\n",
       "      <td>13.96</td>\n",
       "      <td>9.18</td>\n",
       "      <td>2.93</td>\n",
       "      <td>2.84</td>\n",
       "      <td>28.91</td>\n",
       "    </tr>\n",
       "    <tr>\n",
       "      <th>8</th>\n",
       "      <td>New Super Mario Bros. Wii</td>\n",
       "      <td>14.44</td>\n",
       "      <td>6.94</td>\n",
       "      <td>4.70</td>\n",
       "      <td>2.24</td>\n",
       "      <td>28.32</td>\n",
       "    </tr>\n",
       "    <tr>\n",
       "      <th>9</th>\n",
       "      <td>Duck Hunt</td>\n",
       "      <td>26.93</td>\n",
       "      <td>0.63</td>\n",
       "      <td>0.28</td>\n",
       "      <td>0.47</td>\n",
       "      <td>28.31</td>\n",
       "    </tr>\n",
       "  </tbody>\n",
       "</table>\n",
       "</div>"
      ],
      "text/plain": [
       "                        name  na_sales  eu_sales  jp_sales  other_sales  \\\n",
       "0                 Wii Sports     41.36     28.96      3.77         8.45   \n",
       "1          Super Mario Bros.     29.08      3.58      6.81         0.77   \n",
       "2             Mario Kart Wii     15.68     12.76      3.79         3.29   \n",
       "3          Wii Sports Resort     15.61     10.93      3.28         2.95   \n",
       "4   Pokemon Red/Pokemon Blue     11.27      8.89     10.22         1.00   \n",
       "5                     Tetris     23.20      2.26      4.22         0.58   \n",
       "6      New Super Mario Bros.     11.28      9.14      6.50         2.88   \n",
       "7                   Wii Play     13.96      9.18      2.93         2.84   \n",
       "8  New Super Mario Bros. Wii     14.44      6.94      4.70         2.24   \n",
       "9                  Duck Hunt     26.93      0.63      0.28         0.47   \n",
       "\n",
       "   global_sales  \n",
       "0         82.54  \n",
       "1         40.24  \n",
       "2         35.52  \n",
       "3         32.77  \n",
       "4         31.38  \n",
       "5         30.26  \n",
       "6         29.80  \n",
       "7         28.91  \n",
       "8         28.32  \n",
       "9         28.31  "
      ]
     },
     "execution_count": 20,
     "metadata": {},
     "output_type": "execute_result"
    }
   ],
   "source": [
    "# Calcular ventas totales con todas las regiones\n",
    "df_games['global_sales'] = np.round(df_games[['na_sales', 'eu_sales', 'jp_sales', 'other_sales']].sum(axis=1), 2)\n",
    "\n",
    "df_games[['name', 'na_sales', 'eu_sales', 'jp_sales', 'other_sales', 'global_sales']].head(10)"
   ]
  },
  {
   "cell_type": "markdown",
   "id": "5809e647",
   "metadata": {},
   "source": [
    "### Paso 3. Analizar datos"
   ]
  },
  {
   "cell_type": "markdown",
   "id": "21fdd13f",
   "metadata": {},
   "source": [
    "**Mira cuántos juegos fueron lanzados en diferentes años. ¿Son significativos los datos de cada período?**"
   ]
  },
  {
   "cell_type": "code",
   "execution_count": 23,
   "id": "cc193fa0",
   "metadata": {},
   "outputs": [
    {
     "data": {
      "image/png": "[encoded data removed]",
      "text/plain": [
       "<Figure size 1000x500 with 1 Axes>"
      ]
     },
     "metadata": {},
     "output_type": "display_data"
    }
   ],
   "source": [
    "#df_games['year_of_release'].value_counts().sort_index()\n",
    "\n",
    "df_games['year_of_release'].plot(\n",
    "    kind='hist',\n",
    "    bins=37,\n",
    "    edgecolor='black',\n",
    "    figsize=(10, 5),\n",
    "    title='Distribución de lanzamientos de juegos por año'\n",
    ")\n",
    "plt.xlabel('Año de lanzamiento')\n",
    "plt.ylabel('Cantidad de juegos lanzados')\n",
    "plt.grid(True)\n",
    "plt.show()"
   ]
  },
  {
   "cell_type": "markdown",
   "id": "6068661c",
   "metadata": {},
   "source": [
    "Se puede ver que en la década de los 80's casi es insignificativo la cantidad de lanzamientos que hay enc omparación al resto del histograma.\n",
    "\n",
    "Empieza a empezar el auge de los videojuegos en la década de los 90's, subiendo gradualmente teniendo un pico entre 2005 y 2010, en concreto parece tener pico en 2008, superando los 1400 lanzamientos por año.\n",
    "\n",
    "Hay una caída de lanzamientos después de 2010, manteniendose relativamente estable alrededor de 600 lanzamientos por año."
   ]
  },
  {
   "cell_type": "markdown",
   "id": "bf89c282",
   "metadata": {},
   "source": [
    "**Observa cómo varían las ventas de una plataforma a otra. Elige las plataformas con las mayores ventas totales y construye una distribución basada en los datos de cada año. Busca las plataformas que solían ser populares pero que ahora no tienen ventas. ¿Cuánto tardan generalmente las nuevas plataformas en aparecer y las antiguas en desaparecer?**"
   ]
  },
  {
   "cell_type": "code",
   "execution_count": 32,
   "id": "6399b8d9",
   "metadata": {},
   "outputs": [
    {
     "data": {
      "image/png": "[encoded data removed]",
      "text/plain": [
       "<Figure size 1200x600 with 1 Axes>"
      ]
     },
     "metadata": {},
     "output_type": "display_data"
    }
   ],
   "source": [
    "# Ver ventas totales por plataforma en orden\n",
    "platform_sales = df_games.groupby('platform')['global_sales'].sum().sort_values(ascending=False)\n",
    "\n",
    "# Sleccionar las mejores plataformas\n",
    "top_platforms = platform_sales.head(10).index.tolist()\n",
    "\n",
    "# Filtrar el df\n",
    "sales_filtered_df = df_games[df_games['platform'].isin(top_platforms)]\n",
    "\n",
    "# Agrupar por año y plataforma\n",
    "yearly_sales = sales_filtered_df.groupby(['year_of_release', 'platform'])['global_sales'].sum().unstack().loc[1990:2016]\n",
    "\n",
    "# Graficar\n",
    "yearly_sales.plot(\n",
    "    kind=\"line\",\n",
    "    marker=\"o\",\n",
    "    figsize=(12, 6),\n",
    "    title=\"Ventas globales por año para las plataformas más exitosas\"\n",
    ")\n",
    "plt.xlabel(\"Año de lanzamiento\")\n",
    "plt.ylabel(\"Ventas globales (millones)\")\n",
    "plt.grid(True)\n",
    "plt.legend(title=\"Plataforma\")\n",
    "plt.tight_layout()\n",
    "plt.show()"
   ]
  },
  {
   "cell_type": "markdown",
   "id": "ab56542d",
   "metadata": {},
   "source": [
    "En la gráfica se pueden aprecias las ventas de las mejores 10 consolas que tenemos registros.\n",
    "\n",
    "Prestando atención podemos darnos cuenta de que las ventas de las consolas solían mantenerse más en épocas anteriores, por tomar un ejemplo en concreto podemos mencionar el caso de la Playstation, Su primera tiene buenas ventas, acorde a lo revolucionario que fue en su moemnto, la PS2 tiene las mejores ventas, acorde a su mérito de ser la consola con más ventas en la historia, pero podemos ver como las ventas van cayendo con PS3 y la PS4.\n",
    "\n",
    "No podemos decir lo mismo con las ventas de las consolas de Nintendo, ya que las ventas del GBA son algo decentes, pero no a comparación de su siguiente entrega; la DS, siendo que esta consola revolucionó la industria, hace sentido el pico de ventas que tiene esta consola en comparación a su predecesor.\n",
    "\n",
    "Con respecto a cuánto tiempo se mantienen, podemos ver cómo los juegos de antes mantenían bastante retención con extensos años de desarrollo en cada respectiva consola, aunque pueda tener ventas bajas a comparación del resto (como se ve en la gráfica, el PSP) se mantiene las ventas por bastantes años. Pero no podemos decir lo mismo de la PS4, que es la única consola que tenemos con mejores ventas que su uso de vida ha sido considerablemente corto en comparación con el resto de consolas."
   ]
  },
  {
   "cell_type": "markdown",
   "id": "d59b6051",
   "metadata": {},
   "source": [
    "**Determina para qué período debes tomar datos. Para hacerlo mira tus respuestas a las preguntas anteriores. Los datos deberían permitirte construir un modelo para 2017.**"
   ]
  },
  {
   "cell_type": "markdown",
   "id": "9818fb7b",
   "metadata": {},
   "source": [
    "**Trabaja solo con los datos que consideras relevantes. Ignora los datos de años anteriores.**"
   ]
  },
  {
   "cell_type": "markdown",
   "id": "49facbb3",
   "metadata": {},
   "source": [
    "**¿Qué plataformas son líderes en ventas? ¿Cuáles crecen y cuáles se reducen? Elige varias plataformas potencialmente rentables.**"
   ]
  },
  {
   "cell_type": "markdown",
   "id": "9fdb50e5",
   "metadata": {},
   "source": [
    "**Crea un diagrama de caja para las ventas globales de todos los juegos, desglosados por plataforma. ¿Son significativas las diferencias en las ventas? ¿Qué sucede con las ventas promedio en varias plataformas? Describe tus hallazgos.**"
   ]
  },
  {
   "cell_type": "markdown",
   "id": "4b1d1694",
   "metadata": {},
   "source": [
    "**Mira cómo las reseñas de usuarios y profesionales afectan las ventas de una plataforma popular (tu elección). Crea un gráfico de dispersión y calcula la correlación entre las reseñas y las ventas. Saca conclusiones.**"
   ]
  },
  {
   "cell_type": "markdown",
   "id": "5a53ea6b",
   "metadata": {},
   "source": [
    "**Teniendo en cuenta tus conclusiones compara las ventas de los mismos juegos en otras plataformas.**"
   ]
  },
  {
   "cell_type": "markdown",
   "id": "fe991552",
   "metadata": {},
   "source": [
    "**Echa un vistazo a la distribución general de los juegos por género. ¿Qué se puede decir de los géneros más rentables? ¿Puedes generalizar acerca de los géneros con ventas altas y bajas?**"
   ]
  },
  {
   "cell_type": "markdown",
   "id": "13556789",
   "metadata": {},
   "source": [
    "### Paso 4. Crear un perfil de usuario para cada region\n",
    "\n",
    "Para cada región (NA, UE, JP) determina:\n",
    "\n",
    "- Las cinco plataformas principales. Describe las variaciones en sus cuotas de mercado de una región a otra.\n",
    "- Los cinco géneros principales. Explica la diferencia.\n",
    "- Si las clasificaciones de ESRB afectan a las ventas en regiones individuales."
   ]
  },
  {
   "cell_type": "markdown",
   "id": "ed8faf8b",
   "metadata": {},
   "source": [
    "### Paso 5. Prueba de hipótesis\n",
    "\n",
    "- Las calificaciones promedio de los usuarios para las plataformas Xbox One y PC son las mismas.\n",
    "\n",
    "- Las calificaciones promedio de los usuarios para los géneros de Acción y Deportes son diferentes.\n",
    "\n",
    "Establece tu mismo el valor de umbral alfa.\n",
    "\n",
    "Explica:\n",
    "\n",
    "- Cómo formulaste las hipótesis nula y alternativa.\n",
    "\n",
    "- Qué criterio utilizaste para probar las hipótesis y por qué."
   ]
  },
  {
   "cell_type": "markdown",
   "id": "fb973fac",
   "metadata": {},
   "source": [
    "### Paso 6. Conclusión general"
   ]
  }
 ],
 "metadata": {
  "kernelspec": {
   "display_name": ".venv (3.12.3)",
   "language": "python",
   "name": "python3"
  },
  "language_info": {
   "codemirror_mode": {
    "name": "ipython",
    "version": 3
   },
   "file_extension": ".py",
   "mimetype": "text/x-python",
   "name": "python",
   "nbconvert_exporter": "python",
   "pygments_lexer": "ipython3",
   "version": "3.12.3"
  }
 },
 "nbformat": 4,
 "nbformat_minor": 5
}

{
 "cells": [
  {
   "cell_type": "markdown",
   "id": "3Xg_RQfnafXz",
   "metadata": {
    "id": "3Xg_RQfnafXz"
   },
   "source": [
    "# ¡Llena ese carrito!"
   ]
  },
  {
   "cell_type": "markdown",
   "id": "mhIvmmkW414q",
   "metadata": {
    "id": "mhIvmmkW414q"
   },
   "source": [
    "# Introducción\n",
    "\n",
    "Instacart es una plataforma de entregas de comestibles donde la clientela puede registrar un pedido y hacer que se lo entreguen, similar a Uber Eats y Door Dash.\n",
    "El conjunto de datos que te hemos proporcionado tiene modificaciones del original. Redujimos el tamaño del conjunto para que tus cálculos se hicieran más rápido e introdujimos valores ausentes y duplicados. Tuvimos cuidado de conservar las distribuciones de los datos originales cuando hicimos los cambios.\n",
    "\n",
    "Debes completar tres pasos. Para cada uno de ellos, escribe una breve introducción que refleje con claridad cómo pretendes resolver cada paso, y escribe párrafos explicatorios que justifiquen tus decisiones al tiempo que avanzas en tu solución.  También escribe una conclusión que resuma tus hallazgos y elecciones.\n"
   ]
  },
  {
   "cell_type": "markdown",
   "id": "3MbyzpOQZ5Or",
   "metadata": {
    "id": "3MbyzpOQZ5Or"
   },
   "source": [
    "## Diccionario de datos\n",
    "\n",
    "Hay cinco tablas en el conjunto de datos, y tendrás que usarlas todas para hacer el preprocesamiento de datos y el análisis exploratorio de datos. A continuación se muestra un diccionario de datos que enumera las columnas de cada tabla y describe los datos que contienen.\n",
    "\n",
    "- `instacart_orders.csv`: cada fila corresponde a un pedido en la aplicación Instacart.\n",
    "    - `'order_id'`: número de ID que identifica de manera única cada pedido.\n",
    "    - `'user_id'`: número de ID que identifica de manera única la cuenta de cada cliente.\n",
    "    - `'order_number'`: el número de veces que este cliente ha hecho un pedido.\n",
    "    - `'order_dow'`: día de la semana en que se hizo el pedido (0 si es domingo).\n",
    "    - `'order_hour_of_day'`: hora del día en que se hizo el pedido.\n",
    "    - `'days_since_prior_order'`: número de días transcurridos desde que este cliente hizo su pedido anterior.\n",
    "- `products.csv`: cada fila corresponde a un producto único que pueden comprar los clientes.\n",
    "    - `'product_id'`: número ID que identifica de manera única cada producto.\n",
    "    - `'product_name'`: nombre del producto.\n",
    "    - `'aisle_id'`: número ID que identifica de manera única cada categoría de pasillo de víveres.\n",
    "    - `'department_id'`: número ID que identifica de manera única cada departamento de víveres.\n",
    "- `order_products.csv`: cada fila corresponde a un artículo pedido en un pedido.\n",
    "    - `'order_id'`: número de ID que identifica de manera única cada pedido.\n",
    "    - `'product_id'`: número ID que identifica de manera única cada producto.\n",
    "    - `'add_to_cart_order'`: el orden secuencial en el que se añadió cada artículo en el carrito.\n",
    "    - `'reordered'`: 0 si el cliente nunca ha pedido este producto antes, 1 si lo ha pedido.\n",
    "- `aisles.csv`\n",
    "    - `'aisle_id'`: número ID que identifica de manera única cada categoría de pasillo de víveres.\n",
    "    - `'aisle'`: nombre del pasillo.\n",
    "- `departments.csv`\n",
    "    - `'department_id'`: número ID que identifica de manera única cada departamento de víveres.\n",
    "    - `'department'`: nombre del departamento."
   ]
  },
  {
   "cell_type": "markdown",
   "id": "n3Ha_cNSZ8lK",
   "metadata": {
    "id": "n3Ha_cNSZ8lK"
   },
   "source": [
    "# Paso 1. Descripción de los datos\n",
    "\n",
    "Lee los archivos de datos (`/datasets/instacart_orders.csv`, `/datasets/products.csv`, `/datasets/aisles.csv`, `/datasets/departments.csv` y `/datasets/order_products.csv`) con `pd.read_csv()` usando los parámetros adecuados para leer los datos correctamente. Verifica la información para cada DataFrame creado.\n"
   ]
  },
  {
   "cell_type": "markdown",
   "id": "OmlQPLlyaAfR",
   "metadata": {
    "id": "OmlQPLlyaAfR"
   },
   "source": [
    "## Plan de solución\n",
    "\n",
    "Escribe aquí tu plan de solución para el Paso 1. Descripción de los datos."
   ]
  },
  {
   "cell_type": "code",
   "execution_count": 1,
   "id": "fbf1adab",
   "metadata": {
    "id": "fbf1adab"
   },
   "outputs": [],
   "source": [
    "# importar librerías\n",
    "import pandas as pd\n",
    "from matplotlib import pyplot as plt"
   ]
  },
  {
   "cell_type": "code",
   "execution_count": 2,
   "id": "ad36396d",
   "metadata": {
    "id": "ad36396d"
   },
   "outputs": [],
   "source": [
    "# leer conjuntos de datos en los DataFrames\n",
    "df_orders = pd.read_csv('datasets/instacart_orders.csv', sep=';')\n",
    "df_products = pd.read_csv('datasets/products.csv', sep=';')\n",
    "df_aisles = pd.read_csv('datasets/aisles.csv', sep=';')\n",
    "df_departments = pd.read_csv('datasets/departments.csv', sep=';')\n",
    "df_order_products = pd.read_csv('datasets/order_products.csv', sep=';')\n",
    "\n",
    "# ```\n",
    "# Para los DataFrames de productos, aisles & departments la primer\n",
    "# columna que son los de id los tomo como indice ya que es secuencial\n",
    "# y estos empiezan desde 1.\n",
    "# Los otros dos; orders y order_products los voy a tomar como están y no\n",
    "# voy a seleccionar index ya que estos id no son secuenciales y no tiene\n",
    "# sentido tomarlos como index.\n",
    "# ```"
   ]
  },
  {
   "cell_type": "code",
   "execution_count": 3,
   "id": "ad6a1efa",
   "metadata": {
    "id": "ad6a1efa"
   },
   "outputs": [
    {
     "name": "stdout",
     "output_type": "stream",
     "text": [
      "<class 'pandas.core.frame.DataFrame'>\n",
      "RangeIndex: 478967 entries, 0 to 478966\n",
      "Data columns (total 6 columns):\n",
      " #   Column                  Non-Null Count   Dtype  \n",
      "---  ------                  --------------   -----  \n",
      " 0   order_id                478967 non-null  int64  \n",
      " 1   user_id                 478967 non-null  int64  \n",
      " 2   order_number            478967 non-null  int64  \n",
      " 3   order_dow               478967 non-null  int64  \n",
      " 4   order_hour_of_day       478967 non-null  int64  \n",
      " 5   days_since_prior_order  450148 non-null  float64\n",
      "dtypes: float64(1), int64(5)\n",
      "memory usage: 21.9 MB\n"
     ]
    }
   ],
   "source": [
    "# mostrar información del DataFrame de ordenes\n",
    "df_orders.info()"
   ]
  },
  {
   "cell_type": "code",
   "execution_count": 4,
   "id": "5130e05e",
   "metadata": {
    "id": "5130e05e"
   },
   "outputs": [
    {
     "name": "stdout",
     "output_type": "stream",
     "text": [
      "<class 'pandas.core.frame.DataFrame'>\n",
      "RangeIndex: 49694 entries, 0 to 49693\n",
      "Data columns (total 4 columns):\n",
      " #   Column         Non-Null Count  Dtype \n",
      "---  ------         --------------  ----- \n",
      " 0   product_id     49694 non-null  int64 \n",
      " 1   product_name   48436 non-null  object\n",
      " 2   aisle_id       49694 non-null  int64 \n",
      " 3   department_id  49694 non-null  int64 \n",
      "dtypes: int64(3), object(1)\n",
      "memory usage: 1.5+ MB\n"
     ]
    }
   ],
   "source": [
    "# mostrar información del DataFrame de productos\n",
    "df_products.info()"
   ]
  },
  {
   "cell_type": "code",
   "execution_count": 5,
   "id": "d8370c05",
   "metadata": {
    "id": "d8370c05"
   },
   "outputs": [
    {
     "name": "stdout",
     "output_type": "stream",
     "text": [
      "<class 'pandas.core.frame.DataFrame'>\n",
      "RangeIndex: 134 entries, 0 to 133\n",
      "Data columns (total 2 columns):\n",
      " #   Column    Non-Null Count  Dtype \n",
      "---  ------    --------------  ----- \n",
      " 0   aisle_id  134 non-null    int64 \n",
      " 1   aisle     134 non-null    object\n",
      "dtypes: int64(1), object(1)\n",
      "memory usage: 2.2+ KB\n"
     ]
    }
   ],
   "source": [
    "# mostrar información del DataFrame de pasillos\n",
    "df_aisles.info()"
   ]
  },
  {
   "cell_type": "code",
   "execution_count": 6,
   "id": "59e2090f",
   "metadata": {
    "id": "59e2090f"
   },
   "outputs": [
    {
     "name": "stdout",
     "output_type": "stream",
     "text": [
      "<class 'pandas.core.frame.DataFrame'>\n",
      "RangeIndex: 21 entries, 0 to 20\n",
      "Data columns (total 2 columns):\n",
      " #   Column         Non-Null Count  Dtype \n",
      "---  ------         --------------  ----- \n",
      " 0   department_id  21 non-null     int64 \n",
      " 1   department     21 non-null     object\n",
      "dtypes: int64(1), object(1)\n",
      "memory usage: 464.0+ bytes\n"
     ]
    }
   ],
   "source": [
    "# mostrar información del DataFrame de departamentos\n",
    "df_departments.info()"
   ]
  },
  {
   "cell_type": "code",
   "execution_count": 7,
   "id": "6fc81694",
   "metadata": {
    "id": "6fc81694"
   },
   "outputs": [
    {
     "name": "stdout",
     "output_type": "stream",
     "text": [
      "<class 'pandas.core.frame.DataFrame'>\n",
      "RangeIndex: 4545007 entries, 0 to 4545006\n",
      "Data columns (total 4 columns):\n",
      " #   Column             Non-Null Count    Dtype  \n",
      "---  ------             --------------    -----  \n",
      " 0   order_id           4545007 non-null  int64  \n",
      " 1   product_id         4545007 non-null  int64  \n",
      " 2   add_to_cart_order  4544171 non-null  float64\n",
      " 3   reordered          4545007 non-null  int64  \n",
      "dtypes: float64(1), int64(3)\n",
      "memory usage: 138.7 MB\n"
     ]
    }
   ],
   "source": [
    "# mostrar información del DataFrame de articulos pedidos en un pedido\n",
    "df_order_products.info(show_counts=True)"
   ]
  },
  {
   "cell_type": "markdown",
   "id": "t75BD19oaR5f",
   "metadata": {
    "id": "t75BD19oaR5f"
   },
   "source": [
    "## Conclusiones\n",
    "\n",
    "*Escribe aquí tus conclusiones intermedias sobre el Paso 1. Descripción de los datos.*\n",
    "\n",
    "Veo que en el DataFrame de órdenes tiene un registro casi perfecto, siendo que están llenos casi todos los datos sin falta de información a excepción de la última columna 'days_since_prior_order', en estoy hay unos cuantos miles de registros que no tienen valor en esta columna, esto podría deberse a un error de ingreso de información ya que no me imagino una situación en a que no sería relevante guardar esta información.\n",
    "\n",
    "En el DataFrame de productos sucede algo similar, todas las columnas están bien excepto 'product_name' que almacena el nombre de los productos, lo cual potencialmente es fatal porque quiere decir que existen productos sin nombre, en consecuencia no sabemos qué son, pero a pesar de eso, esos registros no les faltó el id de departamento ni pasillo.\n",
    "\n",
    "Esto mismo pasa en el DataFrame de artículos pedidos en un pedido, en la columna 'add_to_cart_order' el que nos indica la orden secuencial en la que se agregaron productos al carrito, lo cual no es tan grave ya que trata temas estéticos, puede que los valores nulos sean producidos a raíz de un error, o tal vez por diseño en la situación en la que una orden específica no sea necesaria, como cuando solamente se ordena un producto, aunque igual esta última posibilidad lo veo poco probable.\n",
    "\n",
    "Y por último, los DataFrames de productos, pasillos y departamentos, como todas las primeras columnas de estos DataFrames eran números identificadores que iban en orden numérico del 1 hasta el final de la información, decidí tomar esos números como índices, ya que eran literalmente los mismos númeos que iban a terminar adoptando como índice y solamente iban a haber información redundante."
   ]
  },
  {
   "cell_type": "markdown",
   "id": "8RJHqxVmaVsF",
   "metadata": {
    "id": "8RJHqxVmaVsF"
   },
   "source": [
    "# Paso 2. Preprocesamiento de los datos\n",
    "\n",
    "Preprocesa los datos de la siguiente manera:\n",
    "\n",
    "- Verifica y corrige los tipos de datos (por ejemplo, asegúrate de que las columnas de ID sean números enteros).\n",
    "- Identifica y completa los valores ausentes.\n",
    "- Identifica y elimina los valores duplicados.\n",
    "\n",
    "Asegúrate de explicar qué tipos de valores ausentes y duplicados encontraste, cómo los completaste o eliminaste y por qué usaste esos métodos. ¿Por qué crees que estos valores ausentes y duplicados pueden haber estado presentes en el conjunto de datos?"
   ]
  },
  {
   "cell_type": "markdown",
   "id": "p6poABZQaZYb",
   "metadata": {
    "id": "p6poABZQaZYb"
   },
   "source": [
    "## Plan de solución\n",
    "\n",
    "Escribe aquí tu plan para el Paso 2. Preprocesamiento de los datos.\n",
    "\n",
    "### Plan de solución para el preprocesamiento de datos\n",
    "\n",
    "#### 1. Verificación y corrección de tipos de datos\n",
    "**Objetivo**:\n",
    "Asegurar que cada columna tenga el tipo de dato correcto (IDs como enteros, fechas como `datetime`, categorías como `category`).\n",
    "\n",
    "**Acciones**:\n",
    "- Usar `df.dtypes` para identificar los tipos actuales.\n",
    "- Convertir columnas incorrectas con:\n",
    "  - `pd.to_numeric()` para números.\n",
    "  - `pd.to_datetime()` para fechas.\n",
    "  - `astype(\"category\")` para variables categóricas.\n",
    "\n",
    "**Justificación**:\n",
    "Evitar errores de análisis posteriores.\n",
    "\n",
    "#### 2. Identificacion y manejo de datos ausentes/nulos\n",
    "\n",
    "**Objetivo**:\n",
    "Detectar y completar los datos faltantes o descartar las líneas con los datos faltantes.\n",
    "\n",
    "**Acciones**:\n",
    "- Usar `df.isnull().sum()` para contar valores nulos por columna.\n",
    "- **Estrategias según el caso:**\n",
    "  - **Elimiar filas/columnas**: Si los NaN son pocos y aleatorios (`df.dropna()`)\n",
    "  - **Completar con promedio/mediana**: Para datos numéricos (`df.fillna(df.mean())`)\n",
    "  - **Completar con moda o \"Desconocido\"/\"Unknown\"**: para categóricos (`df.fillna(\"Unknown\")`)\n",
    "\n",
    "#### 3. Identificación y eliminación de valores duplicados\n",
    "\n",
    "**Objetivo**:\n",
    "Evitar sesgos en el análisis por registros repetidos.\n",
    "\n",
    "**Acciones**:\n",
    "- Usar `df.duplicated().sum()` para contar duplicados.\n",
    "- Eliminar duplicados con `df.drop_duplicates()`.\n",
    "\n",
    "#### 4. Documentación de cambios\n",
    "**Registro**:\n",
    "- Crear un resumen de los cambios aplicados.\n",
    "- Explicar el impacto de cada decisión.\n",
    "\n",
    "#### 5. Validación final\n",
    "- Verificar que:\n",
    "  - No hayan tipos de datos incorrectos (`df.info()`).\n",
    "  - Los NaN han sido tratados (`df.isnull().sum().sum() == 0`).\n",
    "  - No existan duplicados (`df.duplicated().sum() == 0`)."
   ]
  },
  {
   "cell_type": "markdown",
   "id": "07357848-dc64-4156-9cc3-01ff4365226d",
   "metadata": {
    "id": "07357848-dc64-4156-9cc3-01ff4365226d"
   },
   "source": [
    "## Encuentra y elimina los valores duplicados (y describe cómo tomaste tus decisiones)."
   ]
  },
  {
   "cell_type": "markdown",
   "id": "f179f0a9",
   "metadata": {
    "id": "f179f0a9"
   },
   "source": [
    "### `orders` data frame"
   ]
  },
  {
   "cell_type": "code",
   "execution_count": 8,
   "id": "b99297a5-405a-463d-8535-9adc3da4ad74",
   "metadata": {
    "id": "b99297a5-405a-463d-8535-9adc3da4ad74"
   },
   "outputs": [
    {
     "data": {
      "application/vnd.microsoft.datawrangler.viewer.v0+json": {
       "columns": [
        {
         "name": "index",
         "rawType": "int64",
         "type": "integer"
        },
        {
         "name": "order_id",
         "rawType": "int64",
         "type": "integer"
        },
        {
         "name": "user_id",
         "rawType": "int64",
         "type": "integer"
        },
        {
         "name": "order_number",
         "rawType": "int64",
         "type": "integer"
        },
        {
         "name": "order_dow",
         "rawType": "int64",
         "type": "integer"
        },
        {
         "name": "order_hour_of_day",
         "rawType": "int64",
         "type": "integer"
        },
        {
         "name": "days_since_prior_order",
         "rawType": "float64",
         "type": "float"
        }
       ],
       "conversionMethod": "pd.DataFrame",
       "ref": "7da21759-fdf7-4a73-91f1-c5ab55d96c1b",
       "rows": [
        [
         "371905",
         "391768",
         "57671",
         "19",
         "3",
         "2",
         "10.0"
        ],
        [
         "321100",
         "408114",
         "68324",
         "4",
         "3",
         "2",
         "18.0"
        ],
        [
         "394347",
         "467134",
         "63189",
         "21",
         "3",
         "2",
         "2.0"
        ],
        [
         "145574",
         "794638",
         "50898",
         "24",
         "3",
         "2",
         "2.0"
        ],
        [
         "311713",
         "1021560",
         "53767",
         "3",
         "3",
         "2",
         "9.0"
        ],
        [
         "273805",
         "1112182",
         "202304",
         "84",
         "3",
         "2",
         "6.0"
        ],
        [
         "411408",
         "1286742",
         "183220",
         "48",
         "3",
         "2",
         "4.0"
        ],
        [
         "266232",
         "1782114",
         "106752",
         "1",
         "3",
         "2",
         null
        ],
        [
         "230807",
         "1918001",
         "188546",
         "14",
         "3",
         "2",
         "16.0"
        ],
        [
         "323900",
         "1919531",
         "191501",
         "32",
         "3",
         "2",
         "7.0"
        ],
        [
         "441599",
         "2125197",
         "14050",
         "48",
         "3",
         "2",
         "3.0"
        ],
        [
         "223105",
         "2160484",
         "107525",
         "16",
         "3",
         "2",
         "30.0"
        ],
        [
         "345917",
         "2232988",
         "82565",
         "1",
         "3",
         "2",
         null
        ],
        [
         "415163",
         "2282673",
         "86751",
         "49",
         "3",
         "2",
         "2.0"
        ],
        [
         "284038",
         "2845099",
         "31189",
         "11",
         "3",
         "2",
         "7.0"
        ]
       ],
       "shape": {
        "columns": 6,
        "rows": 15
       }
      },
      "text/html": [
       "<div>\n",
       "<style scoped>\n",
       "    .dataframe tbody tr th:only-of-type {\n",
       "        vertical-align: middle;\n",
       "    }\n",
       "\n",
       "    .dataframe tbody tr th {\n",
       "        vertical-align: top;\n",
       "    }\n",
       "\n",
       "    .dataframe thead th {\n",
       "        text-align: right;\n",
       "    }\n",
       "</style>\n",
       "<table border=\"1\" class=\"dataframe\">\n",
       "  <thead>\n",
       "    <tr style=\"text-align: right;\">\n",
       "      <th></th>\n",
       "      <th>order_id</th>\n",
       "      <th>user_id</th>\n",
       "      <th>order_number</th>\n",
       "      <th>order_dow</th>\n",
       "      <th>order_hour_of_day</th>\n",
       "      <th>days_since_prior_order</th>\n",
       "    </tr>\n",
       "  </thead>\n",
       "  <tbody>\n",
       "    <tr>\n",
       "      <th>371905</th>\n",
       "      <td>391768</td>\n",
       "      <td>57671</td>\n",
       "      <td>19</td>\n",
       "      <td>3</td>\n",
       "      <td>2</td>\n",
       "      <td>10.0</td>\n",
       "    </tr>\n",
       "    <tr>\n",
       "      <th>321100</th>\n",
       "      <td>408114</td>\n",
       "      <td>68324</td>\n",
       "      <td>4</td>\n",
       "      <td>3</td>\n",
       "      <td>2</td>\n",
       "      <td>18.0</td>\n",
       "    </tr>\n",
       "    <tr>\n",
       "      <th>394347</th>\n",
       "      <td>467134</td>\n",
       "      <td>63189</td>\n",
       "      <td>21</td>\n",
       "      <td>3</td>\n",
       "      <td>2</td>\n",
       "      <td>2.0</td>\n",
       "    </tr>\n",
       "    <tr>\n",
       "      <th>145574</th>\n",
       "      <td>794638</td>\n",
       "      <td>50898</td>\n",
       "      <td>24</td>\n",
       "      <td>3</td>\n",
       "      <td>2</td>\n",
       "      <td>2.0</td>\n",
       "    </tr>\n",
       "    <tr>\n",
       "      <th>311713</th>\n",
       "      <td>1021560</td>\n",
       "      <td>53767</td>\n",
       "      <td>3</td>\n",
       "      <td>3</td>\n",
       "      <td>2</td>\n",
       "      <td>9.0</td>\n",
       "    </tr>\n",
       "    <tr>\n",
       "      <th>273805</th>\n",
       "      <td>1112182</td>\n",
       "      <td>202304</td>\n",
       "      <td>84</td>\n",
       "      <td>3</td>\n",
       "      <td>2</td>\n",
       "      <td>6.0</td>\n",
       "    </tr>\n",
       "    <tr>\n",
       "      <th>411408</th>\n",
       "      <td>1286742</td>\n",
       "      <td>183220</td>\n",
       "      <td>48</td>\n",
       "      <td>3</td>\n",
       "      <td>2</td>\n",
       "      <td>4.0</td>\n",
       "    </tr>\n",
       "    <tr>\n",
       "      <th>266232</th>\n",
       "      <td>1782114</td>\n",
       "      <td>106752</td>\n",
       "      <td>1</td>\n",
       "      <td>3</td>\n",
       "      <td>2</td>\n",
       "      <td>NaN</td>\n",
       "    </tr>\n",
       "    <tr>\n",
       "      <th>230807</th>\n",
       "      <td>1918001</td>\n",
       "      <td>188546</td>\n",
       "      <td>14</td>\n",
       "      <td>3</td>\n",
       "      <td>2</td>\n",
       "      <td>16.0</td>\n",
       "    </tr>\n",
       "    <tr>\n",
       "      <th>323900</th>\n",
       "      <td>1919531</td>\n",
       "      <td>191501</td>\n",
       "      <td>32</td>\n",
       "      <td>3</td>\n",
       "      <td>2</td>\n",
       "      <td>7.0</td>\n",
       "    </tr>\n",
       "    <tr>\n",
       "      <th>441599</th>\n",
       "      <td>2125197</td>\n",
       "      <td>14050</td>\n",
       "      <td>48</td>\n",
       "      <td>3</td>\n",
       "      <td>2</td>\n",
       "      <td>3.0</td>\n",
       "    </tr>\n",
       "    <tr>\n",
       "      <th>223105</th>\n",
       "      <td>2160484</td>\n",
       "      <td>107525</td>\n",
       "      <td>16</td>\n",
       "      <td>3</td>\n",
       "      <td>2</td>\n",
       "      <td>30.0</td>\n",
       "    </tr>\n",
       "    <tr>\n",
       "      <th>345917</th>\n",
       "      <td>2232988</td>\n",
       "      <td>82565</td>\n",
       "      <td>1</td>\n",
       "      <td>3</td>\n",
       "      <td>2</td>\n",
       "      <td>NaN</td>\n",
       "    </tr>\n",
       "    <tr>\n",
       "      <th>415163</th>\n",
       "      <td>2282673</td>\n",
       "      <td>86751</td>\n",
       "      <td>49</td>\n",
       "      <td>3</td>\n",
       "      <td>2</td>\n",
       "      <td>2.0</td>\n",
       "    </tr>\n",
       "    <tr>\n",
       "      <th>284038</th>\n",
       "      <td>2845099</td>\n",
       "      <td>31189</td>\n",
       "      <td>11</td>\n",
       "      <td>3</td>\n",
       "      <td>2</td>\n",
       "      <td>7.0</td>\n",
       "    </tr>\n",
       "  </tbody>\n",
       "</table>\n",
       "</div>"
      ],
      "text/plain": [
       "        order_id  user_id  order_number  order_dow  order_hour_of_day  \\\n",
       "371905    391768    57671            19          3                  2   \n",
       "321100    408114    68324             4          3                  2   \n",
       "394347    467134    63189            21          3                  2   \n",
       "145574    794638    50898            24          3                  2   \n",
       "311713   1021560    53767             3          3                  2   \n",
       "273805   1112182   202304            84          3                  2   \n",
       "411408   1286742   183220            48          3                  2   \n",
       "266232   1782114   106752             1          3                  2   \n",
       "230807   1918001   188546            14          3                  2   \n",
       "323900   1919531   191501            32          3                  2   \n",
       "441599   2125197    14050            48          3                  2   \n",
       "223105   2160484   107525            16          3                  2   \n",
       "345917   2232988    82565             1          3                  2   \n",
       "415163   2282673    86751            49          3                  2   \n",
       "284038   2845099    31189            11          3                  2   \n",
       "\n",
       "        days_since_prior_order  \n",
       "371905                    10.0  \n",
       "321100                    18.0  \n",
       "394347                     2.0  \n",
       "145574                     2.0  \n",
       "311713                     9.0  \n",
       "273805                     6.0  \n",
       "411408                     4.0  \n",
       "266232                     NaN  \n",
       "230807                    16.0  \n",
       "323900                     7.0  \n",
       "441599                     3.0  \n",
       "223105                    30.0  \n",
       "345917                     NaN  \n",
       "415163                     2.0  \n",
       "284038                     7.0  "
      ]
     },
     "execution_count": 8,
     "metadata": {},
     "output_type": "execute_result"
    }
   ],
   "source": [
    "# Revisa si hay pedidos duplicados\n",
    "df_orders[df_orders['order_id'].duplicated()].sort_values(by='order_id')"
   ]
  },
  {
   "cell_type": "markdown",
   "id": "PEkwUX_gvt5A",
   "metadata": {
    "id": "PEkwUX_gvt5A"
   },
   "source": [
    "**¿Tienes líneas duplicadas? Si sí, ¿qué tienen en común?**\n",
    "\n",
    "Después de una revisión detenida, veo que todos los registros son del día miércoles y fueron a las 2 AM."
   ]
  },
  {
   "cell_type": "code",
   "execution_count": 9,
   "id": "0d44de5d",
   "metadata": {
    "id": "0d44de5d"
   },
   "outputs": [
    {
     "data": {
      "application/vnd.microsoft.datawrangler.viewer.v0+json": {
       "columns": [
        {
         "name": "index",
         "rawType": "int64",
         "type": "integer"
        },
        {
         "name": "order_id",
         "rawType": "int64",
         "type": "integer"
        },
        {
         "name": "user_id",
         "rawType": "int64",
         "type": "integer"
        },
        {
         "name": "order_number",
         "rawType": "int64",
         "type": "integer"
        },
        {
         "name": "order_dow",
         "rawType": "int64",
         "type": "integer"
        },
        {
         "name": "order_hour_of_day",
         "rawType": "int64",
         "type": "integer"
        },
        {
         "name": "days_since_prior_order",
         "rawType": "float64",
         "type": "float"
        }
       ],
       "conversionMethod": "pd.DataFrame",
       "ref": "930c55a0-5197-422e-a512-1e301b84f738",
       "rows": [
        [
         "452265",
         "191",
         "176417",
         "44",
         "3",
         "2",
         "6.0"
        ],
        [
         "468324",
         "222962",
         "54979",
         "59",
         "3",
         "2",
         "3.0"
        ],
        [
         "247867",
         "238782",
         "196224",
         "6",
         "3",
         "2",
         "3.0"
        ],
        [
         "417106",
         "248760",
         "204961",
         "25",
         "3",
         "2",
         "15.0"
        ],
        [
         "328565",
         "264348",
         "34806",
         "6",
         "3",
         "2",
         "5.0"
        ],
        [
         "316583",
         "272079",
         "121263",
         "7",
         "3",
         "2",
         "3.0"
        ],
        [
         "210068",
         "284770",
         "137352",
         "7",
         "3",
         "2",
         "8.0"
        ],
        [
         "359625",
         "332561",
         "201301",
         "1",
         "3",
         "2",
         null
        ],
        [
         "195093",
         "350018",
         "142887",
         "6",
         "3",
         "2",
         "1.0"
        ],
        [
         "29129",
         "353088",
         "46038",
         "4",
         "3",
         "2",
         "11.0"
        ],
        [
         "18420",
         "382357",
         "120200",
         "19",
         "3",
         "2",
         "11.0"
        ],
        [
         "371905",
         "391768",
         "57671",
         "19",
         "3",
         "2",
         "10.0"
        ],
        [
         "354993",
         "391768",
         "57671",
         "19",
         "3",
         "2",
         "10.0"
        ],
        [
         "275163",
         "401662",
         "15693",
         "2",
         "3",
         "2",
         "29.0"
        ],
        [
         "188541",
         "404972",
         "144464",
         "2",
         "3",
         "2",
         "19.0"
        ],
        [
         "119251",
         "408114",
         "68324",
         "4",
         "3",
         "2",
         "18.0"
        ],
        [
         "321100",
         "408114",
         "68324",
         "4",
         "3",
         "2",
         "18.0"
        ],
        [
         "155154",
         "449909",
         "198005",
         "19",
         "3",
         "2",
         "30.0"
        ],
        [
         "250626",
         "467134",
         "63189",
         "21",
         "3",
         "2",
         "2.0"
        ],
        [
         "394347",
         "467134",
         "63189",
         "21",
         "3",
         "2",
         "2.0"
        ],
        [
         "328609",
         "494201",
         "3510",
         "23",
         "3",
         "2",
         "16.0"
        ],
        [
         "441694",
         "508008",
         "82399",
         "3",
         "3",
         "2",
         "4.0"
        ],
        [
         "420254",
         "522496",
         "79672",
         "7",
         "3",
         "2",
         "6.0"
        ],
        [
         "15506",
         "553049",
         "58599",
         "13",
         "3",
         "2",
         "7.0"
        ],
        [
         "255538",
         "577527",
         "5253",
         "96",
         "3",
         "2",
         "2.0"
        ],
        [
         "74991",
         "592699",
         "175625",
         "2",
         "3",
         "2",
         "30.0"
        ],
        [
         "256910",
         "593561",
         "134463",
         "12",
         "3",
         "2",
         "2.0"
        ],
        [
         "294699",
         "596062",
         "168453",
         "26",
         "3",
         "2",
         "7.0"
        ],
        [
         "307317",
         "632042",
         "189369",
         "6",
         "3",
         "2",
         "8.0"
        ],
        [
         "24691",
         "690242",
         "77357",
         "2",
         "3",
         "2",
         "9.0"
        ],
        [
         "307518",
         "736983",
         "11556",
         "4",
         "3",
         "2",
         "16.0"
        ],
        [
         "189211",
         "738145",
         "37225",
         "4",
         "3",
         "2",
         "9.0"
        ],
        [
         "400167",
         "774488",
         "66195",
         "16",
         "3",
         "2",
         "2.0"
        ],
        [
         "443590",
         "781491",
         "51960",
         "5",
         "3",
         "2",
         "30.0"
        ],
        [
         "145574",
         "794638",
         "50898",
         "24",
         "3",
         "2",
         "2.0"
        ],
        [
         "99462",
         "794638",
         "50898",
         "24",
         "3",
         "2",
         "2.0"
        ],
        [
         "245787",
         "819551",
         "29545",
         "15",
         "3",
         "2",
         "4.0"
        ],
        [
         "109466",
         "851025",
         "168387",
         "54",
         "3",
         "2",
         "15.0"
        ],
        [
         "334384",
         "898850",
         "14380",
         "4",
         "3",
         "2",
         "30.0"
        ],
        [
         "238176",
         "908991",
         "86620",
         "8",
         "3",
         "2",
         "5.0"
        ],
        [
         "458816",
         "910166",
         "164782",
         "18",
         "3",
         "2",
         "4.0"
        ],
        [
         "242618",
         "1021560",
         "53767",
         "3",
         "3",
         "2",
         "9.0"
        ],
        [
         "311713",
         "1021560",
         "53767",
         "3",
         "3",
         "2",
         "9.0"
        ],
        [
         "395002",
         "1090993",
         "30945",
         "5",
         "3",
         "2",
         "9.0"
        ],
        [
         "262169",
         "1099720",
         "57529",
         "1",
         "3",
         "2",
         null
        ],
        [
         "164581",
         "1112182",
         "202304",
         "84",
         "3",
         "2",
         "6.0"
        ],
        [
         "273805",
         "1112182",
         "202304",
         "84",
         "3",
         "2",
         "6.0"
        ],
        [
         "241805",
         "1121635",
         "74808",
         "16",
         "3",
         "2",
         "30.0"
        ],
        [
         "197305",
         "1135733",
         "110438",
         "15",
         "3",
         "2",
         "14.0"
        ],
        [
         "450906",
         "1171914",
         "81860",
         "29",
         "3",
         "2",
         "5.0"
        ]
       ],
       "shape": {
        "columns": 6,
        "rows": 121
       }
      },
      "text/html": [
       "<div>\n",
       "<style scoped>\n",
       "    .dataframe tbody tr th:only-of-type {\n",
       "        vertical-align: middle;\n",
       "    }\n",
       "\n",
       "    .dataframe tbody tr th {\n",
       "        vertical-align: top;\n",
       "    }\n",
       "\n",
       "    .dataframe thead th {\n",
       "        text-align: right;\n",
       "    }\n",
       "</style>\n",
       "<table border=\"1\" class=\"dataframe\">\n",
       "  <thead>\n",
       "    <tr style=\"text-align: right;\">\n",
       "      <th></th>\n",
       "      <th>order_id</th>\n",
       "      <th>user_id</th>\n",
       "      <th>order_number</th>\n",
       "      <th>order_dow</th>\n",
       "      <th>order_hour_of_day</th>\n",
       "      <th>days_since_prior_order</th>\n",
       "    </tr>\n",
       "  </thead>\n",
       "  <tbody>\n",
       "    <tr>\n",
       "      <th>452265</th>\n",
       "      <td>191</td>\n",
       "      <td>176417</td>\n",
       "      <td>44</td>\n",
       "      <td>3</td>\n",
       "      <td>2</td>\n",
       "      <td>6.0</td>\n",
       "    </tr>\n",
       "    <tr>\n",
       "      <th>468324</th>\n",
       "      <td>222962</td>\n",
       "      <td>54979</td>\n",
       "      <td>59</td>\n",
       "      <td>3</td>\n",
       "      <td>2</td>\n",
       "      <td>3.0</td>\n",
       "    </tr>\n",
       "    <tr>\n",
       "      <th>247867</th>\n",
       "      <td>238782</td>\n",
       "      <td>196224</td>\n",
       "      <td>6</td>\n",
       "      <td>3</td>\n",
       "      <td>2</td>\n",
       "      <td>3.0</td>\n",
       "    </tr>\n",
       "    <tr>\n",
       "      <th>417106</th>\n",
       "      <td>248760</td>\n",
       "      <td>204961</td>\n",
       "      <td>25</td>\n",
       "      <td>3</td>\n",
       "      <td>2</td>\n",
       "      <td>15.0</td>\n",
       "    </tr>\n",
       "    <tr>\n",
       "      <th>328565</th>\n",
       "      <td>264348</td>\n",
       "      <td>34806</td>\n",
       "      <td>6</td>\n",
       "      <td>3</td>\n",
       "      <td>2</td>\n",
       "      <td>5.0</td>\n",
       "    </tr>\n",
       "    <tr>\n",
       "      <th>...</th>\n",
       "      <td>...</td>\n",
       "      <td>...</td>\n",
       "      <td>...</td>\n",
       "      <td>...</td>\n",
       "      <td>...</td>\n",
       "      <td>...</td>\n",
       "    </tr>\n",
       "    <tr>\n",
       "      <th>97378</th>\n",
       "      <td>3226444</td>\n",
       "      <td>149996</td>\n",
       "      <td>3</td>\n",
       "      <td>3</td>\n",
       "      <td>2</td>\n",
       "      <td>23.0</td>\n",
       "    </tr>\n",
       "    <tr>\n",
       "      <th>416198</th>\n",
       "      <td>3275652</td>\n",
       "      <td>169225</td>\n",
       "      <td>7</td>\n",
       "      <td>3</td>\n",
       "      <td>2</td>\n",
       "      <td>30.0</td>\n",
       "    </tr>\n",
       "    <tr>\n",
       "      <th>415975</th>\n",
       "      <td>3286161</td>\n",
       "      <td>77320</td>\n",
       "      <td>9</td>\n",
       "      <td>3</td>\n",
       "      <td>2</td>\n",
       "      <td>8.0</td>\n",
       "    </tr>\n",
       "    <tr>\n",
       "      <th>457013</th>\n",
       "      <td>3384021</td>\n",
       "      <td>14881</td>\n",
       "      <td>6</td>\n",
       "      <td>3</td>\n",
       "      <td>2</td>\n",
       "      <td>30.0</td>\n",
       "    </tr>\n",
       "    <tr>\n",
       "      <th>178465</th>\n",
       "      <td>3389820</td>\n",
       "      <td>21703</td>\n",
       "      <td>2</td>\n",
       "      <td>3</td>\n",
       "      <td>2</td>\n",
       "      <td>11.0</td>\n",
       "    </tr>\n",
       "  </tbody>\n",
       "</table>\n",
       "<p>121 rows × 6 columns</p>\n",
       "</div>"
      ],
      "text/plain": [
       "        order_id  user_id  order_number  order_dow  order_hour_of_day  \\\n",
       "452265       191   176417            44          3                  2   \n",
       "468324    222962    54979            59          3                  2   \n",
       "247867    238782   196224             6          3                  2   \n",
       "417106    248760   204961            25          3                  2   \n",
       "328565    264348    34806             6          3                  2   \n",
       "...          ...      ...           ...        ...                ...   \n",
       "97378    3226444   149996             3          3                  2   \n",
       "416198   3275652   169225             7          3                  2   \n",
       "415975   3286161    77320             9          3                  2   \n",
       "457013   3384021    14881             6          3                  2   \n",
       "178465   3389820    21703             2          3                  2   \n",
       "\n",
       "        days_since_prior_order  \n",
       "452265                     6.0  \n",
       "468324                     3.0  \n",
       "247867                     3.0  \n",
       "417106                    15.0  \n",
       "328565                     5.0  \n",
       "...                        ...  \n",
       "97378                     23.0  \n",
       "416198                    30.0  \n",
       "415975                     8.0  \n",
       "457013                    30.0  \n",
       "178465                    11.0  \n",
       "\n",
       "[121 rows x 6 columns]"
      ]
     },
     "execution_count": 9,
     "metadata": {},
     "output_type": "execute_result"
    }
   ],
   "source": [
    "# Basándote en tus hallazgos,\n",
    "# Verifica todos los pedidos que se hicieron el miércoles a las 2:00 a.m.\n",
    "df_orders.query('order_dow == 3 and order_hour_of_day == 2').sort_values(by='order_id')"
   ]
  },
  {
   "cell_type": "markdown",
   "id": "vu2OWyoqwOx5",
   "metadata": {
    "id": "vu2OWyoqwOx5"
   },
   "source": [
    "**¿Qué sugiere este resultado?**\n",
    "\n",
    "Siendo que solamente existen registros duplicados los miércoles a las 2 AM puede sugerir diferentes cosas, entre las posibles causas que se me ocurre podría ser:\n",
    "- Alguna fecha en concreto, un miércoles a las 2 AM hubo algún fallo informático en el que se duplicaron las órdenes.\n",
    "- Había ciertos fallos en la red que provocaron las altas de ordenes duplicadas.\n",
    "- Podría ser que el sistema tenga alguna falla que solamente se presenta ocasionalmente los miércoles en algún momento de las 2 AM.\n",
    "\n",
    "Como sea, probablemente debería ser un asunto que se deba consultar. Además es necesario destacar que sabemos que es un error estos duplicados ya que los IDs son estrictamente únicos."
   ]
  },
  {
   "cell_type": "code",
   "execution_count": 10,
   "id": "480563c7",
   "metadata": {
    "id": "480563c7"
   },
   "outputs": [],
   "source": [
    "# Elimina los pedidos duplicados\n",
    "df_orders = df_orders.drop_duplicates()"
   ]
  },
  {
   "cell_type": "code",
   "execution_count": 11,
   "id": "0b2396a2",
   "metadata": {
    "id": "0b2396a2"
   },
   "outputs": [
    {
     "name": "stdout",
     "output_type": "stream",
     "text": [
      "0\n"
     ]
    }
   ],
   "source": [
    "# Vuelve a verificar si hay filas duplicadas\n",
    "print(df_orders.duplicated().sum())"
   ]
  },
  {
   "cell_type": "code",
   "execution_count": 12,
   "id": "f6113ef1",
   "metadata": {
    "id": "f6113ef1"
   },
   "outputs": [
    {
     "name": "stdout",
     "output_type": "stream",
     "text": [
      "0\n"
     ]
    }
   ],
   "source": [
    "# Vuelve a verificar únicamente si hay IDs duplicados de pedidos\n",
    "print(df_orders['order_id'].duplicated().sum())"
   ]
  },
  {
   "cell_type": "markdown",
   "id": "5e8905ae",
   "metadata": {
    "id": "5e8905ae"
   },
   "source": [
    "**Describe brevemente tus hallazgos y lo que hiciste con ellos**\n",
    "\n",
    "Descubrí registros duplicados, muy probablemente provocados por alguna falla informática, y eliminé los duplicados ya que era información innecesaria."
   ]
  },
  {
   "cell_type": "markdown",
   "id": "45e6bc46",
   "metadata": {
    "id": "45e6bc46"
   },
   "source": [
    "### `products` data frame"
   ]
  },
  {
   "cell_type": "code",
   "execution_count": 13,
   "id": "5f526b5b-8175-46fa-a0fd-441767d50e64",
   "metadata": {
    "id": "5f526b5b-8175-46fa-a0fd-441767d50e64"
   },
   "outputs": [
    {
     "data": {
      "application/vnd.microsoft.datawrangler.viewer.v0+json": {
       "columns": [
        {
         "name": "index",
         "rawType": "int64",
         "type": "integer"
        },
        {
         "name": "product_id",
         "rawType": "int64",
         "type": "integer"
        },
        {
         "name": "product_name",
         "rawType": "object",
         "type": "string"
        },
        {
         "name": "aisle_id",
         "rawType": "int64",
         "type": "integer"
        },
        {
         "name": "department_id",
         "rawType": "int64",
         "type": "integer"
        }
       ],
       "conversionMethod": "pd.DataFrame",
       "ref": "ed93695c-cfbe-4620-854a-01245a05c612",
       "rows": [],
       "shape": {
        "columns": 4,
        "rows": 0
       }
      },
      "text/html": [
       "<div>\n",
       "<style scoped>\n",
       "    .dataframe tbody tr th:only-of-type {\n",
       "        vertical-align: middle;\n",
       "    }\n",
       "\n",
       "    .dataframe tbody tr th {\n",
       "        vertical-align: top;\n",
       "    }\n",
       "\n",
       "    .dataframe thead th {\n",
       "        text-align: right;\n",
       "    }\n",
       "</style>\n",
       "<table border=\"1\" class=\"dataframe\">\n",
       "  <thead>\n",
       "    <tr style=\"text-align: right;\">\n",
       "      <th></th>\n",
       "      <th>product_id</th>\n",
       "      <th>product_name</th>\n",
       "      <th>aisle_id</th>\n",
       "      <th>department_id</th>\n",
       "    </tr>\n",
       "  </thead>\n",
       "  <tbody>\n",
       "  </tbody>\n",
       "</table>\n",
       "</div>"
      ],
      "text/plain": [
       "Empty DataFrame\n",
       "Columns: [product_id, product_name, aisle_id, department_id]\n",
       "Index: []"
      ]
     },
     "execution_count": 13,
     "metadata": {},
     "output_type": "execute_result"
    }
   ],
   "source": [
    "# Verifica si hay filas totalmente duplicadas\n",
    "df_products[df_products.duplicated()]"
   ]
  },
  {
   "cell_type": "code",
   "execution_count": 14,
   "id": "88daa4f4",
   "metadata": {
    "id": "88daa4f4"
   },
   "outputs": [
    {
     "data": {
      "application/vnd.microsoft.datawrangler.viewer.v0+json": {
       "columns": [
        {
         "name": "index",
         "rawType": "int64",
         "type": "integer"
        },
        {
         "name": "product_id",
         "rawType": "int64",
         "type": "integer"
        },
        {
         "name": "product_name",
         "rawType": "object",
         "type": "unknown"
        },
        {
         "name": "aisle_id",
         "rawType": "int64",
         "type": "integer"
        },
        {
         "name": "department_id",
         "rawType": "int64",
         "type": "integer"
        }
       ],
       "conversionMethod": "pd.DataFrame",
       "ref": "c24adabc-d380-4a60-b9f4-f3aa0203e137",
       "rows": [
        [
         "49668",
         "49669",
         null,
         "100",
         "21"
        ],
        [
         "13098",
         "13099",
         null,
         "100",
         "21"
        ],
        [
         "13095",
         "13096",
         null,
         "100",
         "21"
        ],
        [
         "49640",
         "49641",
         null,
         "100",
         "21"
        ],
        [
         "49663",
         "49664",
         null,
         "100",
         "21"
        ],
        [
         "109",
         "110",
         null,
         "100",
         "21"
        ],
        [
         "24737",
         "24738",
         null,
         "100",
         "21"
        ],
        [
         "24771",
         "24772",
         null,
         "100",
         "21"
        ],
        [
         "8901",
         "8902",
         null,
         "100",
         "21"
        ],
        [
         "2752",
         "2753",
         null,
         "100",
         "21"
        ],
        [
         "42033",
         "42034",
         null,
         "100",
         "21"
        ],
        [
         "42250",
         "42251",
         null,
         "100",
         "21"
        ],
        [
         "42325",
         "42326",
         null,
         "100",
         "21"
        ],
        [
         "41951",
         "41952",
         null,
         "100",
         "21"
        ],
        [
         "41935",
         "41936",
         null,
         "100",
         "21"
        ],
        [
         "41936",
         "41937",
         null,
         "100",
         "21"
        ],
        [
         "41925",
         "41926",
         null,
         "100",
         "21"
        ],
        [
         "16687",
         "16688",
         null,
         "100",
         "21"
        ],
        [
         "2766",
         "2767",
         null,
         "100",
         "21"
        ],
        [
         "2553",
         "2554",
         null,
         "100",
         "21"
        ],
        [
         "2556",
         "2557",
         null,
         "100",
         "21"
        ],
        [
         "2672",
         "2673",
         null,
         "100",
         "21"
        ],
        [
         "42120",
         "42121",
         null,
         "100",
         "21"
        ],
        [
         "41869",
         "41870",
         null,
         "100",
         "21"
        ],
        [
         "41842",
         "41843",
         null,
         "100",
         "21"
        ],
        [
         "42068",
         "42069",
         null,
         "100",
         "21"
        ],
        [
         "11809",
         "11810",
         null,
         "100",
         "21"
        ],
        [
         "11801",
         "11802",
         null,
         "100",
         "21"
        ],
        [
         "25038",
         "25039",
         null,
         "100",
         "21"
        ],
        [
         "25133",
         "25134",
         null,
         "100",
         "21"
        ],
        [
         "8674",
         "8675",
         null,
         "100",
         "21"
        ],
        [
         "25163",
         "25164",
         null,
         "100",
         "21"
        ],
        [
         "24587",
         "24588",
         null,
         "100",
         "21"
        ],
        [
         "8930",
         "8931",
         null,
         "100",
         "21"
        ],
        [
         "24591",
         "24592",
         null,
         "100",
         "21"
        ],
        [
         "25061",
         "25062",
         null,
         "100",
         "21"
        ],
        [
         "25057",
         "25058",
         null,
         "100",
         "21"
        ],
        [
         "25097",
         "25098",
         null,
         "100",
         "21"
        ],
        [
         "25018",
         "25019",
         null,
         "100",
         "21"
        ],
        [
         "24973",
         "24974",
         null,
         "100",
         "21"
        ],
        [
         "24584",
         "24585",
         null,
         "100",
         "21"
        ],
        [
         "49237",
         "49238",
         null,
         "100",
         "21"
        ],
        [
         "49483",
         "49484",
         null,
         "100",
         "21"
        ],
        [
         "25389",
         "25390",
         null,
         "100",
         "21"
        ],
        [
         "24427",
         "24428",
         null,
         "100",
         "21"
        ],
        [
         "24415",
         "24416",
         null,
         "100",
         "21"
        ],
        [
         "24408",
         "24409",
         null,
         "100",
         "21"
        ],
        [
         "24452",
         "24453",
         null,
         "100",
         "21"
        ],
        [
         "24355",
         "24356",
         null,
         "100",
         "21"
        ],
        [
         "24382",
         "24383",
         null,
         "100",
         "21"
        ]
       ],
       "shape": {
        "columns": 4,
        "rows": 49673
       }
      },
      "text/html": [
       "<div>\n",
       "<style scoped>\n",
       "    .dataframe tbody tr th:only-of-type {\n",
       "        vertical-align: middle;\n",
       "    }\n",
       "\n",
       "    .dataframe tbody tr th {\n",
       "        vertical-align: top;\n",
       "    }\n",
       "\n",
       "    .dataframe thead th {\n",
       "        text-align: right;\n",
       "    }\n",
       "</style>\n",
       "<table border=\"1\" class=\"dataframe\">\n",
       "  <thead>\n",
       "    <tr style=\"text-align: right;\">\n",
       "      <th></th>\n",
       "      <th>product_id</th>\n",
       "      <th>product_name</th>\n",
       "      <th>aisle_id</th>\n",
       "      <th>department_id</th>\n",
       "    </tr>\n",
       "  </thead>\n",
       "  <tbody>\n",
       "    <tr>\n",
       "      <th>49668</th>\n",
       "      <td>49669</td>\n",
       "      <td>NaN</td>\n",
       "      <td>100</td>\n",
       "      <td>21</td>\n",
       "    </tr>\n",
       "    <tr>\n",
       "      <th>13098</th>\n",
       "      <td>13099</td>\n",
       "      <td>NaN</td>\n",
       "      <td>100</td>\n",
       "      <td>21</td>\n",
       "    </tr>\n",
       "    <tr>\n",
       "      <th>13095</th>\n",
       "      <td>13096</td>\n",
       "      <td>NaN</td>\n",
       "      <td>100</td>\n",
       "      <td>21</td>\n",
       "    </tr>\n",
       "    <tr>\n",
       "      <th>49640</th>\n",
       "      <td>49641</td>\n",
       "      <td>NaN</td>\n",
       "      <td>100</td>\n",
       "      <td>21</td>\n",
       "    </tr>\n",
       "    <tr>\n",
       "      <th>49663</th>\n",
       "      <td>49664</td>\n",
       "      <td>NaN</td>\n",
       "      <td>100</td>\n",
       "      <td>21</td>\n",
       "    </tr>\n",
       "    <tr>\n",
       "      <th>...</th>\n",
       "      <td>...</td>\n",
       "      <td>...</td>\n",
       "      <td>...</td>\n",
       "      <td>...</td>\n",
       "    </tr>\n",
       "    <tr>\n",
       "      <th>46641</th>\n",
       "      <td>46642</td>\n",
       "      <td>Mild Heat Level Lamb Saag with Basmati Rice</td>\n",
       "      <td>38</td>\n",
       "      <td>1</td>\n",
       "    </tr>\n",
       "    <tr>\n",
       "      <th>11878</th>\n",
       "      <td>11879</td>\n",
       "      <td>Organic Salted Caramel Swirl Ice Cream Bar</td>\n",
       "      <td>37</td>\n",
       "      <td>1</td>\n",
       "    </tr>\n",
       "    <tr>\n",
       "      <th>16362</th>\n",
       "      <td>16363</td>\n",
       "      <td>Gluten Free Breaded Chicken Breast Tenders</td>\n",
       "      <td>34</td>\n",
       "      <td>1</td>\n",
       "    </tr>\n",
       "    <tr>\n",
       "      <th>11890</th>\n",
       "      <td>11891</td>\n",
       "      <td>Kidz Baked Chicken Nuggets</td>\n",
       "      <td>129</td>\n",
       "      <td>1</td>\n",
       "    </tr>\n",
       "    <tr>\n",
       "      <th>28552</th>\n",
       "      <td>28553</td>\n",
       "      <td>Whole Strawberries</td>\n",
       "      <td>116</td>\n",
       "      <td>1</td>\n",
       "    </tr>\n",
       "  </tbody>\n",
       "</table>\n",
       "<p>49673 rows × 4 columns</p>\n",
       "</div>"
      ],
      "text/plain": [
       "       product_id                                 product_name  aisle_id  \\\n",
       "49668       49669                                          NaN       100   \n",
       "13098       13099                                          NaN       100   \n",
       "13095       13096                                          NaN       100   \n",
       "49640       49641                                          NaN       100   \n",
       "49663       49664                                          NaN       100   \n",
       "...           ...                                          ...       ...   \n",
       "46641       46642  Mild Heat Level Lamb Saag with Basmati Rice        38   \n",
       "11878       11879   Organic Salted Caramel Swirl Ice Cream Bar        37   \n",
       "16362       16363   Gluten Free Breaded Chicken Breast Tenders        34   \n",
       "11890       11891                   Kidz Baked Chicken Nuggets       129   \n",
       "28552       28553                           Whole Strawberries       116   \n",
       "\n",
       "       department_id  \n",
       "49668             21  \n",
       "13098             21  \n",
       "13095             21  \n",
       "49640             21  \n",
       "49663             21  \n",
       "...              ...  \n",
       "46641              1  \n",
       "11878              1  \n",
       "16362              1  \n",
       "11890              1  \n",
       "28552              1  \n",
       "\n",
       "[49673 rows x 4 columns]"
      ]
     },
     "execution_count": 14,
     "metadata": {},
     "output_type": "execute_result"
    }
   ],
   "source": [
    "# Revisa únicamente si hay ID de departamentos duplicados\n",
    "df_products[df_products['department_id'].duplicated()].sort_values(by='department_id', ascending=False)"
   ]
  },
  {
   "cell_type": "code",
   "execution_count": 15,
   "id": "c773f0bf",
   "metadata": {
    "id": "c773f0bf"
   },
   "outputs": [
    {
     "data": {
      "application/vnd.microsoft.datawrangler.viewer.v0+json": {
       "columns": [
        {
         "name": "index",
         "rawType": "int64",
         "type": "integer"
        },
        {
         "name": "product_id",
         "rawType": "int64",
         "type": "integer"
        },
        {
         "name": "product_name",
         "rawType": "object",
         "type": "unknown"
        },
        {
         "name": "aisle_id",
         "rawType": "int64",
         "type": "integer"
        },
        {
         "name": "department_id",
         "rawType": "int64",
         "type": "integer"
        }
       ],
       "conversionMethod": "pd.DataFrame",
       "ref": "f95f2b9d-403e-4bf7-99bb-5b494490c9ca",
       "rows": [
        [
         "23339",
         "23340",
         "18-IN-1 HEMP PEPPERMINT PURE-CASTILE SOAP",
         "25",
         "11"
        ],
        [
         "31844",
         "31845",
         "18-IN-1 HEMP PEPPERMINT PURE-CASTILE SOAP",
         "25",
         "11"
        ],
        [
         "19941",
         "19942",
         "AGED BALSAMIC VINEGAR OF MODENA",
         "19",
         "13"
        ],
        [
         "13152",
         "13153",
         "AGED BALSAMIC VINEGAR OF MODENA",
         "19",
         "13"
        ],
        [
         "24830",
         "24831",
         "ALBACORE SOLID WHITE TUNA IN WATER",
         "95",
         "15"
        ],
        [
         "22582",
         "22583",
         "ALBACORE SOLID WHITE TUNA IN WATER",
         "95",
         "15"
        ],
        [
         "9037",
         "9038",
         "AMERICAN CHEESE SLICES",
         "21",
         "16"
        ],
        [
         "515",
         "516",
         "AMERICAN CHEESE SLICES",
         "21",
         "16"
        ],
        [
         "49530",
         "49531",
         "ANCHOVY FILLETS IN OLIVE OIL",
         "95",
         "15"
        ],
        [
         "12325",
         "12326",
         "ANCHOVY FILLETS IN OLIVE OIL",
         "95",
         "15"
        ],
        [
         "27802",
         "27803",
         "APRICOT ENERGY BAR",
         "3",
         "19"
        ],
        [
         "41221",
         "41222",
         "APRICOT ENERGY BAR",
         "3",
         "19"
        ],
        [
         "45230",
         "45231",
         "BAG OF ORANGES",
         "24",
         "4"
        ],
        [
         "4376",
         "4377",
         "BAG OF ORANGES",
         "24",
         "4"
        ],
        [
         "34449",
         "34450",
         "BAG OF ORGANIC LEMONS",
         "24",
         "4"
        ],
        [
         "48824",
         "48825",
         "BAG OF ORGANIC LEMONS",
         "24",
         "4"
        ],
        [
         "15609",
         "15610",
         "BALSAMIC VINEGAR OF MODENA",
         "19",
         "13"
        ],
        [
         "18760",
         "18761",
         "BALSAMIC VINEGAR OF MODENA",
         "19",
         "13"
        ],
        [
         "2690",
         "2691",
         "BBQ SAUCE",
         "5",
         "13"
        ],
        [
         "43287",
         "43288",
         "BBQ SAUCE",
         "5",
         "13"
        ],
        [
         "3881",
         "3882",
         "BEEF CHILI WITH BEANS",
         "59",
         "15"
        ],
        [
         "29517",
         "29518",
         "BEEF CHILI WITH BEANS",
         "59",
         "15"
        ],
        [
         "23332",
         "23333",
         "BEEF RAVIOLI IN TOMATO & MEAT SAUCE",
         "59",
         "15"
        ],
        [
         "18506",
         "18507",
         "BEEF RAVIOLI IN TOMATO & MEAT SAUCE",
         "59",
         "15"
        ],
        [
         "2058",
         "2059",
         "BIOTIN 1000 MCG",
         "47",
         "11"
        ],
        [
         "41",
         "42",
         "BIOTIN 1000 MCG",
         "47",
         "11"
        ],
        [
         "11163",
         "11164",
         "BLANC DE NOIRS",
         "62",
         "5"
        ],
        [
         "44078",
         "44079",
         "BLANC DE NOIRS",
         "134",
         "5"
        ],
        [
         "3172",
         "3173",
         "BLEU CHEESE SALAD DRESSING AND DIP",
         "89",
         "13"
        ],
        [
         "45031",
         "45032",
         "BLEU CHEESE SALAD DRESSING AND DIP",
         "89",
         "13"
        ],
        [
         "44314",
         "44315",
         "BURRITO- STEAK & CHEESE",
         "38",
         "1"
        ],
        [
         "49693",
         "49694",
         "BURRITO- STEAK & CHEESE",
         "38",
         "1"
        ],
        [
         "26989",
         "26990",
         "CANDY BAR",
         "45",
         "19"
        ],
        [
         "11148",
         "11149",
         "CANDY BAR",
         "45",
         "19"
        ],
        [
         "10101",
         "10102",
         "CARROT AND CELERY STICKS",
         "123",
         "4"
        ],
        [
         "41328",
         "41329",
         "CARROT AND CELERY STICKS",
         "123",
         "4"
        ],
        [
         "1538",
         "1539",
         "CAULIFLOWER HEAD",
         "83",
         "4"
        ],
        [
         "10410",
         "10411",
         "CAULIFLOWER HEAD",
         "83",
         "4"
        ],
        [
         "39396",
         "39397",
         "CHICKEN IN A BISKIT BAKED SNACK CRACKERS",
         "78",
         "19"
        ],
        [
         "17983",
         "17984",
         "CHICKEN IN A BISKIT BAKED SNACK CRACKERS",
         "78",
         "19"
        ],
        [
         "10747",
         "10748",
         "CHICKEN WITH RICE SOUP",
         "69",
         "15"
        ],
        [
         "31292",
         "31293",
         "CHICKEN WITH RICE SOUP",
         "13",
         "20"
        ],
        [
         "37634",
         "37635",
         "CHILI WITH BEANS",
         "59",
         "15"
        ],
        [
         "23548",
         "23549",
         "CHILI WITH BEANS",
         "59",
         "15"
        ],
        [
         "7740",
         "7741",
         "CHIPOTLE PEPPERS IN ADOBO SAUCE",
         "30",
         "6"
        ],
        [
         "22590",
         "22591",
         "CHIPOTLE PEPPERS IN ADOBO SAUCE",
         "30",
         "6"
        ],
        [
         "29911",
         "29912",
         "CHOPPED GARLIC IN WATER",
         "81",
         "15"
        ],
        [
         "18312",
         "18313",
         "CHOPPED GARLIC IN WATER",
         "123",
         "4"
        ],
        [
         "10008",
         "10009",
         "CHUNK LIGHT TUNA IN VEGETABLE OIL",
         "95",
         "15"
        ],
        [
         "30894",
         "30895",
         "CHUNK LIGHT TUNA IN VEGETABLE OIL",
         "95",
         "15"
        ]
       ],
       "shape": {
        "columns": 4,
        "rows": 1465
       }
      },
      "text/html": [
       "<div>\n",
       "<style scoped>\n",
       "    .dataframe tbody tr th:only-of-type {\n",
       "        vertical-align: middle;\n",
       "    }\n",
       "\n",
       "    .dataframe tbody tr th {\n",
       "        vertical-align: top;\n",
       "    }\n",
       "\n",
       "    .dataframe thead th {\n",
       "        text-align: right;\n",
       "    }\n",
       "</style>\n",
       "<table border=\"1\" class=\"dataframe\">\n",
       "  <thead>\n",
       "    <tr style=\"text-align: right;\">\n",
       "      <th></th>\n",
       "      <th>product_id</th>\n",
       "      <th>product_name</th>\n",
       "      <th>aisle_id</th>\n",
       "      <th>department_id</th>\n",
       "    </tr>\n",
       "  </thead>\n",
       "  <tbody>\n",
       "    <tr>\n",
       "      <th>23339</th>\n",
       "      <td>23340</td>\n",
       "      <td>18-IN-1 HEMP PEPPERMINT PURE-CASTILE SOAP</td>\n",
       "      <td>25</td>\n",
       "      <td>11</td>\n",
       "    </tr>\n",
       "    <tr>\n",
       "      <th>31844</th>\n",
       "      <td>31845</td>\n",
       "      <td>18-IN-1 HEMP PEPPERMINT PURE-CASTILE SOAP</td>\n",
       "      <td>25</td>\n",
       "      <td>11</td>\n",
       "    </tr>\n",
       "    <tr>\n",
       "      <th>19941</th>\n",
       "      <td>19942</td>\n",
       "      <td>AGED BALSAMIC VINEGAR OF MODENA</td>\n",
       "      <td>19</td>\n",
       "      <td>13</td>\n",
       "    </tr>\n",
       "    <tr>\n",
       "      <th>13152</th>\n",
       "      <td>13153</td>\n",
       "      <td>AGED BALSAMIC VINEGAR OF MODENA</td>\n",
       "      <td>19</td>\n",
       "      <td>13</td>\n",
       "    </tr>\n",
       "    <tr>\n",
       "      <th>24830</th>\n",
       "      <td>24831</td>\n",
       "      <td>ALBACORE SOLID WHITE TUNA IN WATER</td>\n",
       "      <td>95</td>\n",
       "      <td>15</td>\n",
       "    </tr>\n",
       "    <tr>\n",
       "      <th>...</th>\n",
       "      <td>...</td>\n",
       "      <td>...</td>\n",
       "      <td>...</td>\n",
       "      <td>...</td>\n",
       "    </tr>\n",
       "    <tr>\n",
       "      <th>49552</th>\n",
       "      <td>49553</td>\n",
       "      <td>NaN</td>\n",
       "      <td>100</td>\n",
       "      <td>21</td>\n",
       "    </tr>\n",
       "    <tr>\n",
       "      <th>49574</th>\n",
       "      <td>49575</td>\n",
       "      <td>NaN</td>\n",
       "      <td>100</td>\n",
       "      <td>21</td>\n",
       "    </tr>\n",
       "    <tr>\n",
       "      <th>49640</th>\n",
       "      <td>49641</td>\n",
       "      <td>NaN</td>\n",
       "      <td>100</td>\n",
       "      <td>21</td>\n",
       "    </tr>\n",
       "    <tr>\n",
       "      <th>49663</th>\n",
       "      <td>49664</td>\n",
       "      <td>NaN</td>\n",
       "      <td>100</td>\n",
       "      <td>21</td>\n",
       "    </tr>\n",
       "    <tr>\n",
       "      <th>49668</th>\n",
       "      <td>49669</td>\n",
       "      <td>NaN</td>\n",
       "      <td>100</td>\n",
       "      <td>21</td>\n",
       "    </tr>\n",
       "  </tbody>\n",
       "</table>\n",
       "<p>1465 rows × 4 columns</p>\n",
       "</div>"
      ],
      "text/plain": [
       "       product_id                               product_name  aisle_id  \\\n",
       "23339       23340  18-IN-1 HEMP PEPPERMINT PURE-CASTILE SOAP        25   \n",
       "31844       31845  18-IN-1 HEMP PEPPERMINT PURE-CASTILE SOAP        25   \n",
       "19941       19942            AGED BALSAMIC VINEGAR OF MODENA        19   \n",
       "13152       13153            AGED BALSAMIC VINEGAR OF MODENA        19   \n",
       "24830       24831         ALBACORE SOLID WHITE TUNA IN WATER        95   \n",
       "...           ...                                        ...       ...   \n",
       "49552       49553                                        NaN       100   \n",
       "49574       49575                                        NaN       100   \n",
       "49640       49641                                        NaN       100   \n",
       "49663       49664                                        NaN       100   \n",
       "49668       49669                                        NaN       100   \n",
       "\n",
       "       department_id  \n",
       "23339             11  \n",
       "31844             11  \n",
       "19941             13  \n",
       "13152             13  \n",
       "24830             15  \n",
       "...              ...  \n",
       "49552             21  \n",
       "49574             21  \n",
       "49640             21  \n",
       "49663             21  \n",
       "49668             21  \n",
       "\n",
       "[1465 rows x 4 columns]"
      ]
     },
     "execution_count": 15,
     "metadata": {},
     "output_type": "execute_result"
    }
   ],
   "source": [
    "# Revisa únicamente si hay nombres duplicados de productos (convierte los nombres a letras mayúsculas para compararlos mejor)\n",
    "# Primero convertir la columna a mayúsculas\n",
    "df_products['product_name'] = df_products['product_name'].str.upper()\n",
    "\n",
    "# Entonces mostrar los nombres duplicados, manteniendo las repeticiones y ordenando en orden alfabético para simplicidad\n",
    "df_products[df_products['product_name'].duplicated(keep=False)].sort_values(by='product_name')"
   ]
  },
  {
   "cell_type": "code",
   "execution_count": 16,
   "id": "01efd02e",
   "metadata": {
    "id": "01efd02e"
   },
   "outputs": [
    {
     "data": {
      "application/vnd.microsoft.datawrangler.viewer.v0+json": {
       "columns": [
        {
         "name": "index",
         "rawType": "int64",
         "type": "integer"
        },
        {
         "name": "product_id",
         "rawType": "int64",
         "type": "integer"
        },
        {
         "name": "product_name",
         "rawType": "object",
         "type": "string"
        },
        {
         "name": "aisle_id",
         "rawType": "int64",
         "type": "integer"
        },
        {
         "name": "department_id",
         "rawType": "int64",
         "type": "integer"
        }
       ],
       "conversionMethod": "pd.DataFrame",
       "ref": "f7da5dc2-9a16-4288-87af-4ed43ef477d1",
       "rows": [
        [
         "23339",
         "23340",
         "18-IN-1 HEMP PEPPERMINT PURE-CASTILE SOAP",
         "25",
         "11"
        ],
        [
         "31844",
         "31845",
         "18-IN-1 HEMP PEPPERMINT PURE-CASTILE SOAP",
         "25",
         "11"
        ],
        [
         "19941",
         "19942",
         "AGED BALSAMIC VINEGAR OF MODENA",
         "19",
         "13"
        ],
        [
         "13152",
         "13153",
         "AGED BALSAMIC VINEGAR OF MODENA",
         "19",
         "13"
        ],
        [
         "24830",
         "24831",
         "ALBACORE SOLID WHITE TUNA IN WATER",
         "95",
         "15"
        ],
        [
         "22582",
         "22583",
         "ALBACORE SOLID WHITE TUNA IN WATER",
         "95",
         "15"
        ],
        [
         "9037",
         "9038",
         "AMERICAN CHEESE SLICES",
         "21",
         "16"
        ],
        [
         "515",
         "516",
         "AMERICAN CHEESE SLICES",
         "21",
         "16"
        ],
        [
         "49530",
         "49531",
         "ANCHOVY FILLETS IN OLIVE OIL",
         "95",
         "15"
        ],
        [
         "12325",
         "12326",
         "ANCHOVY FILLETS IN OLIVE OIL",
         "95",
         "15"
        ],
        [
         "27802",
         "27803",
         "APRICOT ENERGY BAR",
         "3",
         "19"
        ],
        [
         "41221",
         "41222",
         "APRICOT ENERGY BAR",
         "3",
         "19"
        ],
        [
         "45230",
         "45231",
         "BAG OF ORANGES",
         "24",
         "4"
        ],
        [
         "4376",
         "4377",
         "BAG OF ORANGES",
         "24",
         "4"
        ],
        [
         "34449",
         "34450",
         "BAG OF ORGANIC LEMONS",
         "24",
         "4"
        ],
        [
         "48824",
         "48825",
         "BAG OF ORGANIC LEMONS",
         "24",
         "4"
        ],
        [
         "15609",
         "15610",
         "BALSAMIC VINEGAR OF MODENA",
         "19",
         "13"
        ],
        [
         "18760",
         "18761",
         "BALSAMIC VINEGAR OF MODENA",
         "19",
         "13"
        ],
        [
         "2690",
         "2691",
         "BBQ SAUCE",
         "5",
         "13"
        ],
        [
         "43287",
         "43288",
         "BBQ SAUCE",
         "5",
         "13"
        ],
        [
         "3881",
         "3882",
         "BEEF CHILI WITH BEANS",
         "59",
         "15"
        ],
        [
         "29517",
         "29518",
         "BEEF CHILI WITH BEANS",
         "59",
         "15"
        ],
        [
         "23332",
         "23333",
         "BEEF RAVIOLI IN TOMATO & MEAT SAUCE",
         "59",
         "15"
        ],
        [
         "18506",
         "18507",
         "BEEF RAVIOLI IN TOMATO & MEAT SAUCE",
         "59",
         "15"
        ],
        [
         "2058",
         "2059",
         "BIOTIN 1000 MCG",
         "47",
         "11"
        ],
        [
         "41",
         "42",
         "BIOTIN 1000 MCG",
         "47",
         "11"
        ],
        [
         "11163",
         "11164",
         "BLANC DE NOIRS",
         "62",
         "5"
        ],
        [
         "44078",
         "44079",
         "BLANC DE NOIRS",
         "134",
         "5"
        ],
        [
         "3172",
         "3173",
         "BLEU CHEESE SALAD DRESSING AND DIP",
         "89",
         "13"
        ],
        [
         "45031",
         "45032",
         "BLEU CHEESE SALAD DRESSING AND DIP",
         "89",
         "13"
        ],
        [
         "44314",
         "44315",
         "BURRITO- STEAK & CHEESE",
         "38",
         "1"
        ],
        [
         "49693",
         "49694",
         "BURRITO- STEAK & CHEESE",
         "38",
         "1"
        ],
        [
         "26989",
         "26990",
         "CANDY BAR",
         "45",
         "19"
        ],
        [
         "11148",
         "11149",
         "CANDY BAR",
         "45",
         "19"
        ],
        [
         "10101",
         "10102",
         "CARROT AND CELERY STICKS",
         "123",
         "4"
        ],
        [
         "41328",
         "41329",
         "CARROT AND CELERY STICKS",
         "123",
         "4"
        ],
        [
         "1538",
         "1539",
         "CAULIFLOWER HEAD",
         "83",
         "4"
        ],
        [
         "10410",
         "10411",
         "CAULIFLOWER HEAD",
         "83",
         "4"
        ],
        [
         "39396",
         "39397",
         "CHICKEN IN A BISKIT BAKED SNACK CRACKERS",
         "78",
         "19"
        ],
        [
         "17983",
         "17984",
         "CHICKEN IN A BISKIT BAKED SNACK CRACKERS",
         "78",
         "19"
        ],
        [
         "10747",
         "10748",
         "CHICKEN WITH RICE SOUP",
         "69",
         "15"
        ],
        [
         "31292",
         "31293",
         "CHICKEN WITH RICE SOUP",
         "13",
         "20"
        ],
        [
         "37634",
         "37635",
         "CHILI WITH BEANS",
         "59",
         "15"
        ],
        [
         "23548",
         "23549",
         "CHILI WITH BEANS",
         "59",
         "15"
        ],
        [
         "7740",
         "7741",
         "CHIPOTLE PEPPERS IN ADOBO SAUCE",
         "30",
         "6"
        ],
        [
         "22590",
         "22591",
         "CHIPOTLE PEPPERS IN ADOBO SAUCE",
         "30",
         "6"
        ],
        [
         "29911",
         "29912",
         "CHOPPED GARLIC IN WATER",
         "81",
         "15"
        ],
        [
         "18312",
         "18313",
         "CHOPPED GARLIC IN WATER",
         "123",
         "4"
        ],
        [
         "10008",
         "10009",
         "CHUNK LIGHT TUNA IN VEGETABLE OIL",
         "95",
         "15"
        ],
        [
         "30894",
         "30895",
         "CHUNK LIGHT TUNA IN VEGETABLE OIL",
         "95",
         "15"
        ]
       ],
       "shape": {
        "columns": 4,
        "rows": 207
       }
      },
      "text/html": [
       "<div>\n",
       "<style scoped>\n",
       "    .dataframe tbody tr th:only-of-type {\n",
       "        vertical-align: middle;\n",
       "    }\n",
       "\n",
       "    .dataframe tbody tr th {\n",
       "        vertical-align: top;\n",
       "    }\n",
       "\n",
       "    .dataframe thead th {\n",
       "        text-align: right;\n",
       "    }\n",
       "</style>\n",
       "<table border=\"1\" class=\"dataframe\">\n",
       "  <thead>\n",
       "    <tr style=\"text-align: right;\">\n",
       "      <th></th>\n",
       "      <th>product_id</th>\n",
       "      <th>product_name</th>\n",
       "      <th>aisle_id</th>\n",
       "      <th>department_id</th>\n",
       "    </tr>\n",
       "  </thead>\n",
       "  <tbody>\n",
       "    <tr>\n",
       "      <th>23339</th>\n",
       "      <td>23340</td>\n",
       "      <td>18-IN-1 HEMP PEPPERMINT PURE-CASTILE SOAP</td>\n",
       "      <td>25</td>\n",
       "      <td>11</td>\n",
       "    </tr>\n",
       "    <tr>\n",
       "      <th>31844</th>\n",
       "      <td>31845</td>\n",
       "      <td>18-IN-1 HEMP PEPPERMINT PURE-CASTILE SOAP</td>\n",
       "      <td>25</td>\n",
       "      <td>11</td>\n",
       "    </tr>\n",
       "    <tr>\n",
       "      <th>19941</th>\n",
       "      <td>19942</td>\n",
       "      <td>AGED BALSAMIC VINEGAR OF MODENA</td>\n",
       "      <td>19</td>\n",
       "      <td>13</td>\n",
       "    </tr>\n",
       "    <tr>\n",
       "      <th>13152</th>\n",
       "      <td>13153</td>\n",
       "      <td>AGED BALSAMIC VINEGAR OF MODENA</td>\n",
       "      <td>19</td>\n",
       "      <td>13</td>\n",
       "    </tr>\n",
       "    <tr>\n",
       "      <th>24830</th>\n",
       "      <td>24831</td>\n",
       "      <td>ALBACORE SOLID WHITE TUNA IN WATER</td>\n",
       "      <td>95</td>\n",
       "      <td>15</td>\n",
       "    </tr>\n",
       "    <tr>\n",
       "      <th>...</th>\n",
       "      <td>...</td>\n",
       "      <td>...</td>\n",
       "      <td>...</td>\n",
       "      <td>...</td>\n",
       "    </tr>\n",
       "    <tr>\n",
       "      <th>46873</th>\n",
       "      <td>46874</td>\n",
       "      <td>VITAMIN D3 5000 IU</td>\n",
       "      <td>47</td>\n",
       "      <td>11</td>\n",
       "    </tr>\n",
       "    <tr>\n",
       "      <th>21366</th>\n",
       "      <td>21367</td>\n",
       "      <td>WILD SARDINES IN SPRING WATER</td>\n",
       "      <td>95</td>\n",
       "      <td>15</td>\n",
       "    </tr>\n",
       "    <tr>\n",
       "      <th>40093</th>\n",
       "      <td>40094</td>\n",
       "      <td>WILD SARDINES IN SPRING WATER</td>\n",
       "      <td>95</td>\n",
       "      <td>15</td>\n",
       "    </tr>\n",
       "    <tr>\n",
       "      <th>1826</th>\n",
       "      <td>1827</td>\n",
       "      <td>YAMS CUT SWEET POTATOES IN SYRUP</td>\n",
       "      <td>81</td>\n",
       "      <td>15</td>\n",
       "    </tr>\n",
       "    <tr>\n",
       "      <th>38260</th>\n",
       "      <td>38261</td>\n",
       "      <td>YAMS CUT SWEET POTATOES IN SYRUP</td>\n",
       "      <td>81</td>\n",
       "      <td>15</td>\n",
       "    </tr>\n",
       "  </tbody>\n",
       "</table>\n",
       "<p>207 rows × 4 columns</p>\n",
       "</div>"
      ],
      "text/plain": [
       "       product_id                               product_name  aisle_id  \\\n",
       "23339       23340  18-IN-1 HEMP PEPPERMINT PURE-CASTILE SOAP        25   \n",
       "31844       31845  18-IN-1 HEMP PEPPERMINT PURE-CASTILE SOAP        25   \n",
       "19941       19942            AGED BALSAMIC VINEGAR OF MODENA        19   \n",
       "13152       13153            AGED BALSAMIC VINEGAR OF MODENA        19   \n",
       "24830       24831         ALBACORE SOLID WHITE TUNA IN WATER        95   \n",
       "...           ...                                        ...       ...   \n",
       "46873       46874                         VITAMIN D3 5000 IU        47   \n",
       "21366       21367              WILD SARDINES IN SPRING WATER        95   \n",
       "40093       40094              WILD SARDINES IN SPRING WATER        95   \n",
       "1826         1827           YAMS CUT SWEET POTATOES IN SYRUP        81   \n",
       "38260       38261           YAMS CUT SWEET POTATOES IN SYRUP        81   \n",
       "\n",
       "       department_id  \n",
       "23339             11  \n",
       "31844             11  \n",
       "19941             13  \n",
       "13152             13  \n",
       "24830             15  \n",
       "...              ...  \n",
       "46873             11  \n",
       "21366             15  \n",
       "40093             15  \n",
       "1826              15  \n",
       "38260             15  \n",
       "\n",
       "[207 rows x 4 columns]"
      ]
     },
     "execution_count": 16,
     "metadata": {},
     "output_type": "execute_result"
    }
   ],
   "source": [
    "# Revisa si hay nombres duplicados de productos no faltantes\n",
    "df_products[df_products['product_name'].notna() & df_products.duplicated(subset=['product_name'], keep=False)].sort_values(by='product_name')"
   ]
  },
  {
   "cell_type": "markdown",
   "id": "b43c8a83",
   "metadata": {},
   "source": [
    "#### Mis acciones en `products`"
   ]
  },
  {
   "cell_type": "code",
   "execution_count": 17,
   "id": "f8ee9584",
   "metadata": {},
   "outputs": [
    {
     "name": "stdout",
     "output_type": "stream",
     "text": [
      "0\n"
     ]
    }
   ],
   "source": [
    "# Elimina los productos que son nombres duplicados\n",
    "df_products = df_products.drop_duplicates(subset=['product_name'])\n",
    "\n",
    "# Verifica que ya no hay nombres duplicados.\n",
    "print(df_products['product_name'].duplicated().sum())"
   ]
  },
  {
   "cell_type": "markdown",
   "id": "9da8d293",
   "metadata": {
    "id": "9da8d293"
   },
   "source": [
    "**Describe brevemente tus hallazgos y lo que hiciste con ellos.**\n",
    "\n",
    "*Hallazgos*:\n",
    "- Muchos productos que no tenían nombre.\n",
    "- Productos con nombres duplicados.\n",
    "\n",
    "*Acción*:\n",
    "- Se eliminaron los duplicados ya que esto podría provocar conflictos.\n",
    "\n",
    "No se tocaron los IDs de los departamentos ya que estos naturalmente son necesarios que se repitan."
   ]
  },
  {
   "cell_type": "markdown",
   "id": "60f30db1",
   "metadata": {
    "id": "60f30db1"
   },
   "source": [
    "### `departments` data frame"
   ]
  },
  {
   "cell_type": "code",
   "execution_count": 18,
   "id": "fb410ad4-0fbf-4b80-bb09-23fdea79afe3",
   "metadata": {
    "id": "fb410ad4-0fbf-4b80-bb09-23fdea79afe3"
   },
   "outputs": [
    {
     "name": "stdout",
     "output_type": "stream",
     "text": [
      "0\n"
     ]
    }
   ],
   "source": [
    "# Revisa si hay filas totalmente duplicadas\n",
    "print(df_departments.duplicated().sum())"
   ]
  },
  {
   "cell_type": "code",
   "execution_count": 19,
   "id": "332b12bb",
   "metadata": {
    "id": "332b12bb"
   },
   "outputs": [
    {
     "name": "stdout",
     "output_type": "stream",
     "text": [
      "0\n"
     ]
    }
   ],
   "source": [
    "# Revisa únicamente si hay IDs duplicadas de productos\n",
    "print(df_departments['department_id'].duplicated().sum())"
   ]
  },
  {
   "cell_type": "markdown",
   "id": "bd30d78e",
   "metadata": {
    "id": "bd30d78e"
   },
   "source": [
    "**Describe brevemente tus hallazgos y lo que hiciste con ellos.**\n",
    "\n",
    "No hay registros de departamentos duplicados, no es necesario tomar acción."
   ]
  },
  {
   "cell_type": "markdown",
   "id": "889349c1",
   "metadata": {
    "id": "889349c1"
   },
   "source": [
    "### `aisles` data frame"
   ]
  },
  {
   "cell_type": "code",
   "execution_count": 20,
   "id": "9da89fb9-4679-40f5-ad0d-c34df753a3f8",
   "metadata": {
    "id": "9da89fb9-4679-40f5-ad0d-c34df753a3f8"
   },
   "outputs": [
    {
     "name": "stdout",
     "output_type": "stream",
     "text": [
      "0\n"
     ]
    }
   ],
   "source": [
    "# Revisa si hay filas totalmente duplicadas\n",
    "print(df_aisles.duplicated().sum())"
   ]
  },
  {
   "cell_type": "code",
   "execution_count": 21,
   "id": "da7c2822",
   "metadata": {
    "id": "da7c2822"
   },
   "outputs": [
    {
     "name": "stdout",
     "output_type": "stream",
     "text": [
      "0\n"
     ]
    }
   ],
   "source": [
    "# Revisa únicamente si hay IDs duplicadas de pasillos\n",
    "print(df_aisles['aisle_id'].duplicated().sum())"
   ]
  },
  {
   "cell_type": "markdown",
   "id": "ac63826f",
   "metadata": {
    "id": "ac63826f"
   },
   "source": [
    "**Describe brevemente tus hallazgos y lo que hiciste con ellos.**\n",
    "\n",
    "No hay registros de pasillos duplicados, no es necesario tomar acción."
   ]
  },
  {
   "cell_type": "markdown",
   "id": "274cd06a",
   "metadata": {
    "id": "274cd06a"
   },
   "source": [
    "### `order_products` data frame"
   ]
  },
  {
   "cell_type": "code",
   "execution_count": 22,
   "id": "52326689-84a8-4b8f-a881-7c68780f62c9",
   "metadata": {
    "id": "52326689-84a8-4b8f-a881-7c68780f62c9"
   },
   "outputs": [
    {
     "name": "stdout",
     "output_type": "stream",
     "text": [
      "0\n"
     ]
    }
   ],
   "source": [
    "# Revisa si hay filas totalmente duplicadas\n",
    "print(df_order_products.duplicated().sum())"
   ]
  },
  {
   "cell_type": "code",
   "execution_count": 23,
   "id": "7b861391",
   "metadata": {
    "id": "7b861391"
   },
   "outputs": [
    {
     "name": "stdout",
     "output_type": "stream",
     "text": [
      "0\n"
     ]
    }
   ],
   "source": [
    "# Vuelve a verificar si hay cualquier otro duplicado engañoso\n",
    "print(df_order_products.duplicated(subset=['order_id', 'product_id'], keep=False).sum())"
   ]
  },
  {
   "cell_type": "markdown",
   "id": "0b890492",
   "metadata": {
    "id": "0b890492"
   },
   "source": [
    "**Describe brevemente tus hallazgos y lo que hiciste con ellos.**\n",
    "\n",
    "Como este DataFrame sirve de relación muchos-muchos, tuve que verificar si hay filas donde hay duplicados en `order_id` junto con `product_id`, y no encontré coincidencias; ergo, no hay duplicados. No es necesario tomar acción."
   ]
  },
  {
   "cell_type": "markdown",
   "id": "1e46de76",
   "metadata": {
    "id": "1e46de76"
   },
   "source": [
    "## Encuentra y elimina los valores ausentes\n",
    "\n",
    "Al trabajar con valores duplicados, pudimos observar que también nos falta investigar valores ausentes:\n",
    "\n",
    "* La columna `'product_name'` de la tabla products.\n",
    "* La columna `'days_since_prior_order'` de la tabla orders.\n",
    "* La columna `'add_to_cart_order'` de la tabla order_productos."
   ]
  },
  {
   "cell_type": "markdown",
   "id": "c0aebd78",
   "metadata": {
    "id": "c0aebd78"
   },
   "source": [
    "### `products` data frame"
   ]
  },
  {
   "cell_type": "code",
   "execution_count": 24,
   "id": "fe4a8b0f",
   "metadata": {
    "id": "fe4a8b0f"
   },
   "outputs": [
    {
     "name": "stdout",
     "output_type": "stream",
     "text": [
      "1\n"
     ]
    }
   ],
   "source": [
    "# Encuentra los valores ausentes en la columna 'product_name'\n",
    "print(df_products['product_name'].isna().sum())"
   ]
  },
  {
   "cell_type": "markdown",
   "id": "-A6x1AbJhjkp",
   "metadata": {
    "id": "-A6x1AbJhjkp"
   },
   "source": [
    "**Describe brevemente cuáles son tus hallazgos.**\n",
    "\n",
    "Dado que ya me deshice de los duplicados, parece que solamente me quedó 1 fila con nombre ausente."
   ]
  },
  {
   "cell_type": "code",
   "execution_count": 25,
   "id": "e96167bc",
   "metadata": {
    "id": "e96167bc"
   },
   "outputs": [
    {
     "name": "stdout",
     "output_type": "stream",
     "text": [
      "True\n"
     ]
    }
   ],
   "source": [
    "#  ¿Todos los nombres de productos ausentes están relacionados con el pasillo con ID 100?\n",
    "print(df_products[df_products['product_name'].isna()]['aisle_id'].eq(100).all())"
   ]
  },
  {
   "cell_type": "markdown",
   "id": "WRpIfXRphpSL",
   "metadata": {
    "id": "WRpIfXRphpSL"
   },
   "source": [
    "**Describe brevemente cuáles son tus hallazgos.**\n",
    "\n",
    "El único nombre ausente que queda, que en realidad eran cientos iguales, sí está relacionado con el **pasillo** con IO **100**."
   ]
  },
  {
   "cell_type": "code",
   "execution_count": 26,
   "id": "8fd0a541",
   "metadata": {
    "id": "8fd0a541"
   },
   "outputs": [
    {
     "name": "stdout",
     "output_type": "stream",
     "text": [
      "True\n"
     ]
    }
   ],
   "source": [
    "# ¿Todos los nombres de productos ausentes están relacionados con el departamento con ID 21?\n",
    "print(df_products[df_products['product_name'].isna()]['department_id'].eq(21).all())"
   ]
  },
  {
   "cell_type": "markdown",
   "id": "qDpdYn1Fht_I",
   "metadata": {
    "id": "qDpdYn1Fht_I"
   },
   "source": [
    "**Describe brevemente cuáles son tus hallazgos.**\n",
    "\n",
    "El único nombre ausente que queda, que en realidad eran cientos iguales, sí está relacionado con el **departamento** con IO **21**."
   ]
  },
  {
   "cell_type": "code",
   "execution_count": 27,
   "id": "325c3464",
   "metadata": {
    "id": "325c3464"
   },
   "outputs": [
    {
     "name": "stdout",
     "output_type": "stream",
     "text": [
      "Pasillo con ID 100: missing\n",
      "Departamento con ID 21: missing\n"
     ]
    }
   ],
   "source": [
    "# Usa las tablas department y aisle para revisar los datos del pasillo con ID 100 y el departamento con ID 21.\n",
    "print(\"Pasillo con ID 100:\", df_aisles[df_aisles['aisle_id'] == 100]['aisle'].iloc[0])\n",
    "print(\"Departamento con ID 21:\", df_departments[df_departments['department_id'] == 21]['department'].iloc[0])"
   ]
  },
  {
   "cell_type": "markdown",
   "id": "nqhSTUPhhvEJ",
   "metadata": {
    "id": "nqhSTUPhhvEJ"
   },
   "source": [
    "**Describe brevemente cuáles son tus hallazgos.**\n",
    "\n",
    "Ambos tanto departamento como pasillo indican nombres 'missing'."
   ]
  },
  {
   "cell_type": "code",
   "execution_count": 28,
   "id": "6b295120",
   "metadata": {
    "id": "6b295120"
   },
   "outputs": [],
   "source": [
    "# Completa los nombres de productos ausentes con 'Unknown'\n",
    "df_products['product_name'] = df_products['product_name'].fillna('Unknown')"
   ]
  },
  {
   "cell_type": "markdown",
   "id": "fc70e5ad",
   "metadata": {
    "id": "fc70e5ad"
   },
   "source": [
    "**Describe brevemente tus hallazgos y lo que hiciste con ellos.**\n",
    "\n",
    "El registro con nombre de poroducto ausente que ya conocía lo rellené como 'Unknown'"
   ]
  },
  {
   "cell_type": "markdown",
   "id": "7eb45c86",
   "metadata": {
    "id": "7eb45c86"
   },
   "source": [
    "### `orders` data frame"
   ]
  },
  {
   "cell_type": "code",
   "execution_count": 29,
   "id": "93e41d96",
   "metadata": {
    "id": "93e41d96"
   },
   "outputs": [
    {
     "data": {
      "text/plain": [
       "order_id                      0\n",
       "user_id                       0\n",
       "order_number                  0\n",
       "order_dow                     0\n",
       "order_hour_of_day             0\n",
       "days_since_prior_order    28817\n",
       "dtype: int64"
      ]
     },
     "execution_count": 29,
     "metadata": {},
     "output_type": "execute_result"
    }
   ],
   "source": [
    "# Encuentra los valores ausentes\n",
    "df_orders.isna().sum()"
   ]
  },
  {
   "cell_type": "code",
   "execution_count": 30,
   "id": "166e5a86",
   "metadata": {
    "id": "166e5a86"
   },
   "outputs": [
    {
     "data": {
      "application/vnd.microsoft.datawrangler.viewer.v0+json": {
       "columns": [
        {
         "name": "index",
         "rawType": "int64",
         "type": "integer"
        },
        {
         "name": "order_id",
         "rawType": "int64",
         "type": "integer"
        },
        {
         "name": "user_id",
         "rawType": "int64",
         "type": "integer"
        },
        {
         "name": "order_number",
         "rawType": "int64",
         "type": "integer"
        },
        {
         "name": "order_dow",
         "rawType": "int64",
         "type": "integer"
        },
        {
         "name": "order_hour_of_day",
         "rawType": "int64",
         "type": "integer"
        },
        {
         "name": "days_since_prior_order",
         "rawType": "float64",
         "type": "float"
        }
       ],
       "conversionMethod": "pd.DataFrame",
       "ref": "4f9df898-7d68-4b66-8085-bb3ca668cdc4",
       "rows": [],
       "shape": {
        "columns": 6,
        "rows": 0
       }
      },
      "text/html": [
       "<div>\n",
       "<style scoped>\n",
       "    .dataframe tbody tr th:only-of-type {\n",
       "        vertical-align: middle;\n",
       "    }\n",
       "\n",
       "    .dataframe tbody tr th {\n",
       "        vertical-align: top;\n",
       "    }\n",
       "\n",
       "    .dataframe thead th {\n",
       "        text-align: right;\n",
       "    }\n",
       "</style>\n",
       "<table border=\"1\" class=\"dataframe\">\n",
       "  <thead>\n",
       "    <tr style=\"text-align: right;\">\n",
       "      <th></th>\n",
       "      <th>order_id</th>\n",
       "      <th>user_id</th>\n",
       "      <th>order_number</th>\n",
       "      <th>order_dow</th>\n",
       "      <th>order_hour_of_day</th>\n",
       "      <th>days_since_prior_order</th>\n",
       "    </tr>\n",
       "  </thead>\n",
       "  <tbody>\n",
       "  </tbody>\n",
       "</table>\n",
       "</div>"
      ],
      "text/plain": [
       "Empty DataFrame\n",
       "Columns: [order_id, user_id, order_number, order_dow, order_hour_of_day, days_since_prior_order]\n",
       "Index: []"
      ]
     },
     "execution_count": 30,
     "metadata": {},
     "output_type": "execute_result"
    }
   ],
   "source": [
    "# ¿Hay algún valor ausente que no sea el primer pedido del cliente?\n",
    "df_orders[\n",
    "    df_orders['days_since_prior_order'].isna() & # Valores ausentes\n",
    "    (df_orders['order_number'] != 1) # Que sea el primer pedido\n",
    "]"
   ]
  },
  {
   "cell_type": "markdown",
   "id": "4e23d089",
   "metadata": {
    "id": "4e23d089"
   },
   "source": [
    "**Describe brevemente tus hallazgos y lo que hiciste con ellos.**\n",
    "\n",
    "Las filas que tienen valor ausente en `days_since_prior_order` son las que son la primera compra, por lo tanto podemos decir que esa ausencia de información en esa columna, en esta situación en específico, es natural y va a cambiar una vez que ponga otra orden por parte del usuario."
   ]
  },
  {
   "cell_type": "markdown",
   "id": "69dc9ca4",
   "metadata": {
    "id": "69dc9ca4"
   },
   "source": [
    "### `order_products` data frame"
   ]
  },
  {
   "cell_type": "code",
   "execution_count": 31,
   "id": "b8240253",
   "metadata": {
    "id": "b8240253"
   },
   "outputs": [
    {
     "data": {
      "text/plain": [
       "order_id               0\n",
       "product_id             0\n",
       "add_to_cart_order    836\n",
       "reordered              0\n",
       "dtype: int64"
      ]
     },
     "execution_count": 31,
     "metadata": {},
     "output_type": "execute_result"
    }
   ],
   "source": [
    "# Encuentra los valores ausentes\n",
    "df_order_products.isna().sum()"
   ]
  },
  {
   "cell_type": "code",
   "execution_count": 32,
   "id": "9a78e5ee",
   "metadata": {
    "id": "9a78e5ee"
   },
   "outputs": [
    {
     "name": "stdout",
     "output_type": "stream",
     "text": [
      "Rango de add_to_cart_order: [1.0, 64.0]\n"
     ]
    }
   ],
   "source": [
    "# ¿Cuáles son los valores mínimos y máximos en esta columna?\n",
    "min_val = df_order_products['add_to_cart_order'].min()\n",
    "max_val = df_order_products['add_to_cart_order'].max()\n",
    "\n",
    "print(f\"Rango de add_to_cart_order: [{min_val}, {max_val}]\")"
   ]
  },
  {
   "cell_type": "markdown",
   "id": "-Z2Ja215jW78",
   "metadata": {
    "id": "-Z2Ja215jW78"
   },
   "source": [
    "**Describe brevemente cuáles son tus hallazgos.**\n",
    "\n",
    "El valor más bajo es 1.0, y el más alto es 64.0"
   ]
  },
  {
   "cell_type": "code",
   "execution_count": 33,
   "id": "ab9d0c2b",
   "metadata": {
    "id": "ab9d0c2b"
   },
   "outputs": [
    {
     "name": "stdout",
     "output_type": "stream",
     "text": [
      "Número de pedidos con valores ausentes: 836\n"
     ]
    }
   ],
   "source": [
    "# Guarda todas las IDs de pedidos que tengan un valor ausente en 'add_to_cart_order'\n",
    "order_ids_con_ausentes = df_order_products[df_order_products['add_to_cart_order'].isna()]['order_id']\n",
    "\n",
    "order_ids_series = pd.Series(order_ids_con_ausentes)  # Serie Pandas\n",
    "\n",
    "# Mostrar cantidad de pedidos afectados\n",
    "print(f\"Número de pedidos con valores ausentes: {len(order_ids_series)}\")"
   ]
  },
  {
   "cell_type": "code",
   "execution_count": 34,
   "id": "54c31695",
   "metadata": {
    "id": "54c31695"
   },
   "outputs": [
    {
     "name": "stdout",
     "output_type": "stream",
     "text": [
      "¿Todos los pedidos con ausentes tienen >64 productos? False\n",
      "Mínimo de productos en pedidos con ausentes: 1\n"
     ]
    }
   ],
   "source": [
    "# ¿Todos los pedidos con valores ausentes tienen más de 64 productos?\n",
    "# Agrupa todos los pedidos con datos ausentes por su ID de pedido.\n",
    "# Cuenta el número de 'product_id' en cada pedido y revisa el valor mínimo del conteo.\n",
    "\n",
    "# Filtrar pedidos con valores ausentes en 'add_to_cart_order'\n",
    "pedidos_ausentes = df_order_products[df_order_products['add_to_cart_order'].isna()]\n",
    "\n",
    "# Agrupar por order_id y contar productos en cada pedido ausente\n",
    "conteo_productos_ausentes = pedidos_ausentes.groupby('order_id')['product_id'].count()\n",
    "\n",
    "# Obtener el mínimo de productos en estos pedidos\n",
    "min_productos = conteo_productos_ausentes.min()\n",
    "\n",
    "# Resultado clave\n",
    "print(f\"¿Todos los pedidos con ausentes tienen >64 productos? {bool(min_productos > 64)}\")\n",
    "print(f\"Mínimo de productos en pedidos con ausentes: {min_productos}\")"
   ]
  },
  {
   "cell_type": "markdown",
   "id": "p9V6pddtjglj",
   "metadata": {
    "id": "p9V6pddtjglj"
   },
   "source": [
    "**Describe brevemente cuáles son tus hallazgos.**\n",
    "\n",
    "Agrupé los pedidos y conté los productos por pedido, tomando en cuenta el mínimo, si este resultaba tener más de 64 productos, entonces todos los pedidos iban a tener más de 64 productos.\n",
    "\n",
    "El valor mínimo de un pedido es de 1 producto."
   ]
  },
  {
   "cell_type": "code",
   "execution_count": 35,
   "id": "7a987d08",
   "metadata": {
    "id": "7a987d08"
   },
   "outputs": [
    {
     "name": "stdout",
     "output_type": "stream",
     "text": [
      "Valores únicos finales: [ 17   1  35   5   4  10  14   2  28   3  16   8   7   6   9  15  22  49\n",
      "  19  13  11  12  18  24  23  45  30  31  29  21  38  20  57  58  26  25\n",
      "  39  34  40  27 999  43  33  42  50  32  36  37  61  46  56  41  44  55\n",
      "  54  47  63  48  60  62  53  59  52  51  64]\n"
     ]
    }
   ],
   "source": [
    "# Remplaza los valores ausentes en la columna 'add_to_cart? con 999 y convierte la columna al tipo entero.\n",
    "df_order_products['add_to_cart_order'] = (\n",
    "    df_order_products['add_to_cart_order']\n",
    "    .fillna(999)\n",
    "    .astype(int)\n",
    ")\n",
    "\n",
    "# Verificación rápida\n",
    "print(\"Valores únicos finales:\", df_order_products['add_to_cart_order'].unique())"
   ]
  },
  {
   "cell_type": "markdown",
   "id": "fea4bcc7",
   "metadata": {
    "id": "fea4bcc7"
   },
   "source": [
    "**Describe brevemente tus hallazgos y lo que hiciste con ellos.**\n",
    "\n",
    "Identifiqué los valores ausentes en la columna de agregado al carrito, los reemplacé con 999 y convertí la columna a enteros.\n",
    "\n",
    "Ahora los datos están limpios, y el marcador 999 permite rastrear valores imputados."
   ]
  },
  {
   "cell_type": "markdown",
   "id": "RnplPFY1gSrb",
   "metadata": {
    "id": "RnplPFY1gSrb"
   },
   "source": [
    "## Conclusiones\n",
    "\n",
    "1. **Calidad de Datos**:\n",
    "   - Se identificaron y corrigieron valores ausentes en `product_name` (rellenados con \"Unknown\") y `add_to_cart_order` (imputados con 999).\n",
    "   - Se eliminaron nombres de productos duplicados, conservando la primera ocurrencia.\n",
    "\n",
    "2. **Duplicados**:\n",
    "   - *Pedidos totales*: Se detectaron duplicados exactos en `df_orders` (solo miércoles 2 AM, posible fallo técnico).\n",
    "   - *Items en pedidos*: Se encontraron pares `order_id` + `product_id` repetidos con diferencias en `add_to_cart_order` (consistencia afectada).\n",
    "\n",
    "3. **Relaciones entre Tablas**:\n",
    "   - Los productos sin nombre (*\"Unknown\"*) estaban concentrados en pasillo 100 y departamento 21, sugiriendo un error sistémico en esa categoría.\n",
    "\n",
    "4. **Decisiones Clave**:\n",
    "   - *Limpieza conservadora*: Eliminación de duplicados solo donde comprometían la integridad.\n"
   ]
  },
  {
   "cell_type": "markdown",
   "id": "UjrOIwTcz3ri",
   "metadata": {
    "id": "UjrOIwTcz3ri"
   },
   "source": [
    "# Paso 3. Análisis de los datos\n",
    "\n",
    "Una vez los datos estén procesados y listos, haz el siguiente análisis:"
   ]
  },
  {
   "cell_type": "markdown",
   "id": "turkish-kidney",
   "metadata": {
    "id": "turkish-kidney"
   },
   "source": [
    "# [A] Fácil (deben completarse todos para aprobar)\n",
    "\n",
    "1. Verifica que los valores en las columnas `'order_hour_of_day'` y `'order_dow'` en la tabla orders sean razonables (es decir, `'order_hour_of_day'` oscile entre 0 y 23 y `'order_dow'` oscile entre 0 y 6).\n",
    "2. Crea un gráfico que muestre el número de personas que hacen pedidos dependiendo de la hora del día.\n",
    "3. Crea un gráfico que muestre qué día de la semana la gente hace sus compras.\n",
    "4. Crea un gráfico que muestre el tiempo que la gente espera hasta hacer su siguiente pedido, y comenta sobre los valores mínimos y máximos."
   ]
  },
  {
   "cell_type": "markdown",
   "id": "short-capability",
   "metadata": {
    "id": "short-capability"
   },
   "source": [
    "### [A1] Verifica que los valores sean sensibles"
   ]
  },
  {
   "cell_type": "code",
   "execution_count": 36,
   "id": "growing-fruit",
   "metadata": {
    "id": "growing-fruit"
   },
   "outputs": [
    {
     "name": "stdout",
     "output_type": "stream",
     "text": [
      "Valores sensibles en 'order_hour_of_day'.\n",
      "Valor mínimo: 0\n",
      "Valor máximo: 23\n",
      "¿Es razonable? True\n"
     ]
    }
   ],
   "source": [
    "print(\"Valores sensibles en 'order_hour_of_day'.\")\n",
    "print('Valor mínimo:', df_orders['order_hour_of_day'].min())\n",
    "print('Valor máximo:', df_orders['order_hour_of_day'].max())\n",
    "print('¿Es razonable?', df_orders['order_hour_of_day'].between(0, 23).all())"
   ]
  },
  {
   "cell_type": "code",
   "execution_count": 37,
   "id": "accessory-malaysia",
   "metadata": {
    "id": "accessory-malaysia"
   },
   "outputs": [
    {
     "name": "stdout",
     "output_type": "stream",
     "text": [
      "Valores sensibles en 'order_dow'.\n",
      "Valor mínimo: 0\n",
      "Valor máximo: 6\n",
      "¿Es razonable? True\n"
     ]
    }
   ],
   "source": [
    "print(\"Valores sensibles en 'order_dow'.\")\n",
    "print('Valor mínimo:', df_orders['order_dow'].min())\n",
    "print('Valor máximo:', df_orders['order_dow'].max())\n",
    "print('¿Es razonable?', df_orders['order_dow'].between(0, 6).all())"
   ]
  },
  {
   "cell_type": "markdown",
   "id": "hmR2GNQ6lCsX",
   "metadata": {
    "id": "hmR2GNQ6lCsX"
   },
   "source": [
    "**Escribe aquí tus conclusiones**\n",
    "\n",
    "Los valores en la columna del día de la semana y la hora del día son consistentes a su propósito."
   ]
  },
  {
   "cell_type": "markdown",
   "id": "a6743a70",
   "metadata": {
    "id": "a6743a70"
   },
   "source": [
    "### [A2] Para cada hora del día, ¿cuántas personas hacen órdenes?"
   ]
  },
  {
   "cell_type": "code",
   "execution_count": 38,
   "id": "a36cca27",
   "metadata": {
    "id": "a36cca27"
   },
   "outputs": [
    {
     "data": {
      "text/plain": [
       "<Axes: title={'center': 'Usuarios únicos realizando pedidos por hora del día'}, xlabel='Hora del día (24h)', ylabel='Número de usuarios'>"
      ]
     },
     "execution_count": 38,
     "metadata": {},
     "output_type": "execute_result"
    },
    {
     "data": {
      "image/png": "[encoded data removed]",
      "text/plain": [
       "<Figure size 1200x600 with 1 Axes>"
      ]
     },
     "metadata": {},
     "output_type": "display_data"
    }
   ],
   "source": [
    "# Agrupar por hora del día y contar pedidos únicos por usuario\n",
    "pedidos_por_hora = df_orders.groupby('order_hour_of_day')['user_id'].nunique()\n",
    "\n",
    "# Crear gráfico de barras\n",
    "pedidos_por_hora.plot(\n",
    "    kind='bar',\n",
    "    figsize=(12, 6),\n",
    "    title='Usuarios únicos realizando pedidos por hora del día',\n",
    "    xlabel='Hora del día (24h)',\n",
    "    ylabel='Número de usuarios',\n",
    "    color='teal',\n",
    "    grid=True,\n",
    "    rot=0 # Rotación horizontal\n",
    ")"
   ]
  },
  {
   "cell_type": "markdown",
   "id": "11270eed",
   "metadata": {
    "id": "11270eed"
   },
   "source": [
    "**Escribe aquí tus conclusiones**\n",
    "\n",
    "En la madrugada suele haber baja actividad de pedidos, los usuarios empiezan a realizar más pedidos entre las 6-7h, los pedidos aumentan su frecuencia a partir de aquí y el auge llega por encima de los 30,000 a las 10h, se mantiene hasta las 16h que es entonces cuando empieza a bajar la frecuencia paulatinamente hasta llegar a las 23h."
   ]
  },
  {
   "cell_type": "markdown",
   "id": "documented-command",
   "metadata": {
    "id": "documented-command"
   },
   "source": [
    "### [A3] ¿Qué día de la semana compran víveres las personas?"
   ]
  },
  {
   "cell_type": "code",
   "execution_count": 39,
   "id": "chief-digit",
   "metadata": {
    "id": "chief-digit"
   },
   "outputs": [
    {
     "data": {
      "text/plain": [
       "<Axes: title={'center': 'Pedidos por día de la semana'}, xlabel='Día', ylabel='Total pedidos'>"
      ]
     },
     "execution_count": 39,
     "metadata": {},
     "output_type": "execute_result"
    },
    {
     "data": {
      "image/png": "[encoded data removed]",
      "text/plain": [
       "<Figure size 1000x500 with 1 Axes>"
      ]
     },
     "metadata": {},
     "output_type": "display_data"
    }
   ],
   "source": [
    "# Mapeo días de la semana\n",
    "dias_semana = {\n",
    "    0: 'Domingo',\n",
    "    1: 'Lunes',\n",
    "    2: 'Martes',\n",
    "    3: 'Miércoles',\n",
    "    4: 'Jueves',\n",
    "    5: 'Viernes',\n",
    "    6: 'Sábado'\n",
    "}\n",
    "\n",
    "# Contar pedidos por día\n",
    "compras_por_dia = (\n",
    "    df_orders['order_dow']\n",
    "    .value_counts()\n",
    "    .sort_index()  # Ordenar por número de día (0-6)\n",
    "    .rename(index=dias_semana)\n",
    ")\n",
    "\n",
    "# Generar gráfico\n",
    "compras_por_dia.plot(\n",
    "    kind='bar',\n",
    "    figsize=(10, 5),\n",
    "    title='Pedidos por día de la semana',\n",
    "    xlabel='Día',\n",
    "    ylabel='Total pedidos',\n",
    "    color='darkorange',\n",
    "    rot=0,\n",
    "    grid=True\n",
    ")"
   ]
  },
  {
   "cell_type": "markdown",
   "id": "dominant-lightning",
   "metadata": {
    "id": "dominant-lightning"
   },
   "source": [
    "**Escribe aquí tus conclusiones**\n",
    "\n",
    "Los días en los que más compran víveres las personas son los domingos y los lunes, superando los 80,000. Mientras que el resto de la semana se mantiene entre 60,000 y 70,000; una diferencia no muy significativa, pero definitivamente notable y digno de destacar."
   ]
  },
  {
   "cell_type": "markdown",
   "id": "cutting-concert",
   "metadata": {
    "id": "cutting-concert"
   },
   "source": [
    "### [A4] ¿Cuánto tiempo esperan las personas hasta hacer otro pedido? Comenta sobre los valores mínimos y máximos."
   ]
  },
  {
   "cell_type": "code",
   "execution_count": 40,
   "id": "c231f523",
   "metadata": {
    "id": "c231f523"
   },
   "outputs": [
    {
     "data": {
      "image/png": "[encoded data removed]",
      "text/plain": [
       "<Figure size 1000x500 with 1 Axes>"
      ]
     },
     "metadata": {},
     "output_type": "display_data"
    },
    {
     "name": "stdout",
     "output_type": "stream",
     "text": [
      "Estadísticos:\n",
      "- Mínimo: 0.0 días\n",
      "- Máximo: 30.0 días\n",
      "- Media: 11.1 días\n",
      "- Mediana: 7.0 días\n"
     ]
    }
   ],
   "source": [
    "# Calcular días entre pedidos (usando 'days_since_prior_order')\n",
    "tiempo_entre_pedidos = df_orders['days_since_prior_order'].dropna()\n",
    "\n",
    "# Estadísticos clave\n",
    "stats = {\n",
    "    'min': tiempo_entre_pedidos.min(),\n",
    "    'max': tiempo_entre_pedidos.max(),\n",
    "    'media': tiempo_entre_pedidos.mean(),\n",
    "    'mediana': tiempo_entre_pedidos.median()\n",
    "}\n",
    "\n",
    "# Gráfico de distribución (histograma)\n",
    "tiempo_entre_pedidos.plot(\n",
    "    kind='hist',\n",
    "    bins=30,\n",
    "    figsize=(10, 5),\n",
    "    color='steelblue',\n",
    "    edgecolor='black',\n",
    "    title='Distribución del tiempo entre pedidos (días)'\n",
    ")\n",
    "plt.show()\n",
    "\n",
    "# Mostrar estadísticos\n",
    "print(f\"\"\"Estadísticos:\n",
    "- Mínimo: {stats['min']} días\n",
    "- Máximo: {stats['max']} días\n",
    "- Media: {stats['media']:.1f} días\n",
    "- Mediana: {stats['mediana']} días\"\"\")"
   ]
  },
  {
   "cell_type": "markdown",
   "id": "discrete-vertex",
   "metadata": {
    "id": "discrete-vertex"
   },
   "source": [
    "**Escribe aquí tus conclusiones**\n",
    "\n",
    "Parece ser que la \"mayoría\" de pedidos se hacen después de los 30 días, pero parece contraintuitivo, así que esto podría sugerir algún tipo de error o inconsistencia en la información, o incluso una forma de rastrear valores imputados, así que esto lo dejaré de lado.\n",
    "\n",
    "Con la información consistente se puede apreciar que el pico de la mayoría de ordenes se hacen una semana despúes de la última orden, aunque también se puede apreciar que vuelven a haber picos en días posteriores múltiplos de 7, lo que sugiere que la gente vuelve a poner órdenes en el mismo día de la semana, ya sea la siguiente on en semanas posteriores."
   ]
  },
  {
   "cell_type": "markdown",
   "id": "tight-staff",
   "metadata": {
    "id": "tight-staff"
   },
   "source": [
    "# [B] Intermedio (deben completarse todos para aprobar)\n",
    "\n",
    "1. ¿Existe alguna diferencia entre las distribuciones `'order_hour_of_day'` de los miércoles y los sábados? Traza gráficos de barra de `'order_hour_of_day'` para ambos días en la misma figura y describe las diferencias que observes.\n",
    "2. Grafica la distribución para el número de órdenes que hacen los clientes (es decir, cuántos clientes hicieron solo 1 pedido, cuántos hicieron 2, cuántos 3, y así sucesivamente...).\n",
    "3. ¿Cuáles son los 20 principales productos que se piden con más frecuencia (muestra su identificación y nombre)?"
   ]
  },
  {
   "cell_type": "markdown",
   "id": "packed-classic",
   "metadata": {
    "id": "packed-classic"
   },
   "source": [
    "### [B1] Diferencia entre miércoles y sábados para  `'order_hour_of_day'`. Traza gráficos de barra para los dos días y describe las diferencias que veas."
   ]
  },
  {
   "cell_type": "code",
   "execution_count": 41,
   "id": "d89b8403",
   "metadata": {
    "id": "d89b8403"
   },
   "outputs": [],
   "source": [
    "# Filtrar datos para miércoles y sábados\n",
    "ordenes_mie_sab = df_orders[df_orders['order_dow'].isin([3, 6])]"
   ]
  },
  {
   "cell_type": "code",
   "execution_count": 42,
   "id": "94e54e8a",
   "metadata": {
    "id": "94e54e8a"
   },
   "outputs": [],
   "source": [
    "# Agrupar y contar pedidos por hora para cada día\n",
    "ordenes_mie_sab = ordenes_mie_sab.groupby(['order_dow', 'order_hour_of_day']).size().unstack(fill_value=0)"
   ]
  },
  {
   "cell_type": "code",
   "execution_count": 43,
   "id": "797c90a8",
   "metadata": {
    "id": "797c90a8"
   },
   "outputs": [
    {
     "data": {
      "image/png": "[encoded data removed]",
      "text/plain": [
       "<Figure size 1200x600 with 1 Axes>"
      ]
     },
     "metadata": {},
     "output_type": "display_data"
    }
   ],
   "source": [
    "# Graficar usando plot() directamente con los argumentos deseados\n",
    "ordenes_mie_sab.T.plot(\n",
    "    kind='bar',\n",
    "    figsize=(12, 6),\n",
    "    width=0.8,\n",
    "    title='Distribución de órdenes por hora del día (miércoles vs sábado)',\n",
    "    xlabel='Hora del día',\n",
    "    ylabel='Número de órdenes',\n",
    "    rot=0,\n",
    ")\n",
    "plt.grid(axis='y', linestyle='--', alpha=0.7)\n",
    "plt.tight_layout()\n",
    "plt.legend(['Miércoles', 'Sábado'])\n",
    "plt.show()"
   ]
  },
  {
   "cell_type": "markdown",
   "id": "charitable-congo",
   "metadata": {
    "id": "charitable-congo"
   },
   "source": [
    "**Escribe aquí tus conclusiones**\n",
    "\n",
    "En general ambos días parecen seguir un patrón consistente; ambos empiezan a tener un incremento de compras a las 6 h, manteniendo las compras estables aproximadamente a las 10 h, empezando una bajada después de las 16 h, cayendo de forma paulatina hasta media noche (0 h).\n",
    "\n",
    "Aunque ambos días presentan las siguiente diferencia:\n",
    "\n",
    "- Miércoles: Al alcanzar el primer pico a las 10 h, tiene una ligera caída que termina a las 13 h y vuelve a subir hasta las 16 h.\n",
    "\n",
    "- Sábado: Las compras son menos erráticos, teniendo incrementos y decrementos más digeribles, haciendo casi una curva perfecta al subir y bajas compras.\n",
    "\n",
    "En general se puede decir que ambos días presentan compras consistentes con recpecto a los horarios y rutinas de las personas; teniendo mayor actividad en horarios diurnos, pero tampoco dejando de haber actividad en horarios nocturnos. Pero además hay que destacar que los miércoles, a pesar de seguir teniendo alta actividad en el día, parece tener una ligera mayor concentración en las compras justo antes y después de medio día, esto podría deberse a temas de horarios en la rutina de la gente."
   ]
  },
  {
   "cell_type": "markdown",
   "id": "e3891143",
   "metadata": {
    "id": "e3891143"
   },
   "source": [
    "### [B2] ¿Cuál es la distribución para el número de pedidos por cliente?"
   ]
  },
  {
   "cell_type": "code",
   "execution_count": 44,
   "id": "d8c26c23",
   "metadata": {
    "id": "d8c26c23"
   },
   "outputs": [],
   "source": [
    "# Calcular cuántas órdenes hizo cada cliente\n",
    "ordenes_por_usuario = df_orders['user_id'].value_counts()\n",
    "\n",
    "# Calcular cuántos clientes hicieron cierto número de órdenes\n",
    "ordenes_por_usuario = ordenes_por_usuario.value_counts().sort_index()"
   ]
  },
  {
   "cell_type": "code",
   "execution_count": 45,
   "id": "00e69a66",
   "metadata": {
    "id": "00e69a66"
   },
   "outputs": [
    {
     "data": {
      "image/png": "[encoded data removed]",
      "text/plain": [
       "<Figure size 1200x600 with 1 Axes>"
      ]
     },
     "metadata": {},
     "output_type": "display_data"
    }
   ],
   "source": [
    "# Graficar\n",
    "ordenes_por_usuario.plot(\n",
    "    kind='bar',\n",
    "    figsize=(12, 6),\n",
    "    title='Distribución del número de órdenes por cliente',\n",
    "    xlabel='Número de órdenes realizadas',\n",
    "    ylabel='Número de clientes',\n",
    "    rot=0\n",
    ")\n",
    "plt.grid(axis='y', linestyle='--', alpha=0.7)\n",
    "plt.tight_layout()\n",
    "plt.show()"
   ]
  },
  {
   "cell_type": "markdown",
   "id": "d2eff7d5",
   "metadata": {
    "id": "d2eff7d5"
   },
   "source": [
    "**Escribe aquí tus conclusiones**\n",
    "\n",
    "Si bien es correcto decir que no todos los clientes hacen más de un pedido y que naturalmente hay menos usuarios que hacen más y más pedidos, también es correcto decir que la mayoría de usuarios han hecho más de un pedido, lo cual puede reflejar una buena retención de clientes.\n",
    "\n",
    "Además cabe destacar que la distribución de la gráfica recuerda mucho a una función logarítmica."
   ]
  },
  {
   "cell_type": "markdown",
   "id": "54a0319c",
   "metadata": {
    "id": "54a0319c"
   },
   "source": [
    "### [B3] ¿Cuáles son los 20 productos más populares (muestra su ID y nombre)?"
   ]
  },
  {
   "cell_type": "code",
   "execution_count": 46,
   "id": "exterior-arizona",
   "metadata": {
    "id": "exterior-arizona",
    "scrolled": true
   },
   "outputs": [],
   "source": [
    "# Contar la frecuencia de cada producto\n",
    "productos_mas_frecuentes = (\n",
    "    df_order_products['product_id']\n",
    "    .value_counts()\n",
    "    .head(20) # Tomar los primeros 20, los más frecuentes\n",
    "    .reset_index()\n",
    "    #.rename(columns={'index': 'product_id', 'product_id': 'frecuencia'})\n",
    ")"
   ]
  },
  {
   "cell_type": "code",
   "execution_count": 47,
   "id": "universal-facial",
   "metadata": {
    "id": "universal-facial"
   },
   "outputs": [
    {
     "data": {
      "application/vnd.microsoft.datawrangler.viewer.v0+json": {
       "columns": [
        {
         "name": "index",
         "rawType": "int64",
         "type": "integer"
        },
        {
         "name": "product_id",
         "rawType": "int64",
         "type": "integer"
        },
        {
         "name": "product_name",
         "rawType": "object",
         "type": "string"
        },
        {
         "name": "count",
         "rawType": "int64",
         "type": "integer"
        }
       ],
       "conversionMethod": "pd.DataFrame",
       "ref": "350179ac-0834-4c60-adab-135e1dc2867a",
       "rows": [
        [
         "0",
         "24852",
         "BANANA",
         "66050"
        ],
        [
         "1",
         "13176",
         "BAG OF ORGANIC BANANAS",
         "53297"
        ],
        [
         "2",
         "21137",
         "ORGANIC STRAWBERRIES",
         "37039"
        ],
        [
         "3",
         "21903",
         "ORGANIC BABY SPINACH",
         "33971"
        ],
        [
         "4",
         "47209",
         "ORGANIC HASS AVOCADO",
         "29773"
        ],
        [
         "5",
         "47766",
         "ORGANIC AVOCADO",
         "24689"
        ],
        [
         "6",
         "47626",
         "LARGE LEMON",
         "21495"
        ],
        [
         "7",
         "16797",
         "STRAWBERRIES",
         "20018"
        ],
        [
         "8",
         "26209",
         "LIMES",
         "19690"
        ],
        [
         "9",
         "27845",
         "ORGANIC WHOLE MILK",
         "19600"
        ],
        [
         "10",
         "27966",
         "ORGANIC RASPBERRIES",
         "19197"
        ],
        [
         "11",
         "22935",
         "ORGANIC YELLOW ONION",
         "15898"
        ],
        [
         "12",
         "24964",
         "ORGANIC GARLIC",
         "15292"
        ],
        [
         "13",
         "45007",
         "ORGANIC ZUCCHINI",
         "14584"
        ],
        [
         "14",
         "39275",
         "ORGANIC BLUEBERRIES",
         "13879"
        ],
        [
         "15",
         "49683",
         "CUCUMBER KIRBY",
         "13675"
        ],
        [
         "16",
         "28204",
         "ORGANIC FUJI APPLE",
         "12544"
        ],
        [
         "17",
         "5876",
         "ORGANIC LEMON",
         "12232"
        ],
        [
         "18",
         "8277",
         "APPLE HONEYCRISP ORGANIC",
         "11993"
        ],
        [
         "19",
         "40706",
         "ORGANIC GRAPE TOMATOES",
         "11781"
        ]
       ],
       "shape": {
        "columns": 3,
        "rows": 20
       }
      },
      "text/html": [
       "<div>\n",
       "<style scoped>\n",
       "    .dataframe tbody tr th:only-of-type {\n",
       "        vertical-align: middle;\n",
       "    }\n",
       "\n",
       "    .dataframe tbody tr th {\n",
       "        vertical-align: top;\n",
       "    }\n",
       "\n",
       "    .dataframe thead th {\n",
       "        text-align: right;\n",
       "    }\n",
       "</style>\n",
       "<table border=\"1\" class=\"dataframe\">\n",
       "  <thead>\n",
       "    <tr style=\"text-align: right;\">\n",
       "      <th></th>\n",
       "      <th>product_id</th>\n",
       "      <th>product_name</th>\n",
       "      <th>count</th>\n",
       "    </tr>\n",
       "  </thead>\n",
       "  <tbody>\n",
       "    <tr>\n",
       "      <th>0</th>\n",
       "      <td>24852</td>\n",
       "      <td>BANANA</td>\n",
       "      <td>66050</td>\n",
       "    </tr>\n",
       "    <tr>\n",
       "      <th>1</th>\n",
       "      <td>13176</td>\n",
       "      <td>BAG OF ORGANIC BANANAS</td>\n",
       "      <td>53297</td>\n",
       "    </tr>\n",
       "    <tr>\n",
       "      <th>2</th>\n",
       "      <td>21137</td>\n",
       "      <td>ORGANIC STRAWBERRIES</td>\n",
       "      <td>37039</td>\n",
       "    </tr>\n",
       "    <tr>\n",
       "      <th>3</th>\n",
       "      <td>21903</td>\n",
       "      <td>ORGANIC BABY SPINACH</td>\n",
       "      <td>33971</td>\n",
       "    </tr>\n",
       "    <tr>\n",
       "      <th>4</th>\n",
       "      <td>47209</td>\n",
       "      <td>ORGANIC HASS AVOCADO</td>\n",
       "      <td>29773</td>\n",
       "    </tr>\n",
       "    <tr>\n",
       "      <th>5</th>\n",
       "      <td>47766</td>\n",
       "      <td>ORGANIC AVOCADO</td>\n",
       "      <td>24689</td>\n",
       "    </tr>\n",
       "    <tr>\n",
       "      <th>6</th>\n",
       "      <td>47626</td>\n",
       "      <td>LARGE LEMON</td>\n",
       "      <td>21495</td>\n",
       "    </tr>\n",
       "    <tr>\n",
       "      <th>7</th>\n",
       "      <td>16797</td>\n",
       "      <td>STRAWBERRIES</td>\n",
       "      <td>20018</td>\n",
       "    </tr>\n",
       "    <tr>\n",
       "      <th>8</th>\n",
       "      <td>26209</td>\n",
       "      <td>LIMES</td>\n",
       "      <td>19690</td>\n",
       "    </tr>\n",
       "    <tr>\n",
       "      <th>9</th>\n",
       "      <td>27845</td>\n",
       "      <td>ORGANIC WHOLE MILK</td>\n",
       "      <td>19600</td>\n",
       "    </tr>\n",
       "    <tr>\n",
       "      <th>10</th>\n",
       "      <td>27966</td>\n",
       "      <td>ORGANIC RASPBERRIES</td>\n",
       "      <td>19197</td>\n",
       "    </tr>\n",
       "    <tr>\n",
       "      <th>11</th>\n",
       "      <td>22935</td>\n",
       "      <td>ORGANIC YELLOW ONION</td>\n",
       "      <td>15898</td>\n",
       "    </tr>\n",
       "    <tr>\n",
       "      <th>12</th>\n",
       "      <td>24964</td>\n",
       "      <td>ORGANIC GARLIC</td>\n",
       "      <td>15292</td>\n",
       "    </tr>\n",
       "    <tr>\n",
       "      <th>13</th>\n",
       "      <td>45007</td>\n",
       "      <td>ORGANIC ZUCCHINI</td>\n",
       "      <td>14584</td>\n",
       "    </tr>\n",
       "    <tr>\n",
       "      <th>14</th>\n",
       "      <td>39275</td>\n",
       "      <td>ORGANIC BLUEBERRIES</td>\n",
       "      <td>13879</td>\n",
       "    </tr>\n",
       "    <tr>\n",
       "      <th>15</th>\n",
       "      <td>49683</td>\n",
       "      <td>CUCUMBER KIRBY</td>\n",
       "      <td>13675</td>\n",
       "    </tr>\n",
       "    <tr>\n",
       "      <th>16</th>\n",
       "      <td>28204</td>\n",
       "      <td>ORGANIC FUJI APPLE</td>\n",
       "      <td>12544</td>\n",
       "    </tr>\n",
       "    <tr>\n",
       "      <th>17</th>\n",
       "      <td>5876</td>\n",
       "      <td>ORGANIC LEMON</td>\n",
       "      <td>12232</td>\n",
       "    </tr>\n",
       "    <tr>\n",
       "      <th>18</th>\n",
       "      <td>8277</td>\n",
       "      <td>APPLE HONEYCRISP ORGANIC</td>\n",
       "      <td>11993</td>\n",
       "    </tr>\n",
       "    <tr>\n",
       "      <th>19</th>\n",
       "      <td>40706</td>\n",
       "      <td>ORGANIC GRAPE TOMATOES</td>\n",
       "      <td>11781</td>\n",
       "    </tr>\n",
       "  </tbody>\n",
       "</table>\n",
       "</div>"
      ],
      "text/plain": [
       "    product_id              product_name  count\n",
       "0        24852                    BANANA  66050\n",
       "1        13176    BAG OF ORGANIC BANANAS  53297\n",
       "2        21137      ORGANIC STRAWBERRIES  37039\n",
       "3        21903      ORGANIC BABY SPINACH  33971\n",
       "4        47209      ORGANIC HASS AVOCADO  29773\n",
       "5        47766           ORGANIC AVOCADO  24689\n",
       "6        47626               LARGE LEMON  21495\n",
       "7        16797              STRAWBERRIES  20018\n",
       "8        26209                     LIMES  19690\n",
       "9        27845        ORGANIC WHOLE MILK  19600\n",
       "10       27966       ORGANIC RASPBERRIES  19197\n",
       "11       22935      ORGANIC YELLOW ONION  15898\n",
       "12       24964            ORGANIC GARLIC  15292\n",
       "13       45007          ORGANIC ZUCCHINI  14584\n",
       "14       39275       ORGANIC BLUEBERRIES  13879\n",
       "15       49683            CUCUMBER KIRBY  13675\n",
       "16       28204        ORGANIC FUJI APPLE  12544\n",
       "17        5876             ORGANIC LEMON  12232\n",
       "18        8277  APPLE HONEYCRISP ORGANIC  11993\n",
       "19       40706    ORGANIC GRAPE TOMATOES  11781"
      ]
     },
     "execution_count": 47,
     "metadata": {},
     "output_type": "execute_result"
    }
   ],
   "source": [
    "# Unir con los nombres de producto\n",
    "top_20_productos = productos_mas_frecuentes.merge(df_products, on='product_id')\n",
    "top_20_productos[['product_id', 'product_name', 'count']]"
   ]
  },
  {
   "cell_type": "code",
   "execution_count": 48,
   "id": "bbcdd20b",
   "metadata": {
    "id": "bbcdd20b"
   },
   "outputs": [
    {
     "data": {
      "image/png": "[encoded data removed]",
      "text/plain": [
       "<Figure size 1200x700 with 1 Axes>"
      ]
     },
     "metadata": {},
     "output_type": "display_data"
    }
   ],
   "source": [
    "top_20_productos.set_index('product_name')['count'].plot(\n",
    "    kind='bar',\n",
    "    figsize=(12, 7),\n",
    "    title='Top 20 productos más pedidos',\n",
    "    xlabel='Producto',\n",
    "    ylabel='Frecuencia de pedido',\n",
    "    rot=90,\n",
    ")\n",
    "plt.grid(axis='y', linestyle='--', alpha=0.7)\n",
    "plt.tight_layout()\n",
    "plt.show()"
   ]
  },
  {
   "cell_type": "markdown",
   "id": "7df00f47",
   "metadata": {
    "id": "7df00f47"
   },
   "source": [
    "**Escribe aquí tus conclusiones**\n",
    "\n",
    "Los productos orgánicos predominan, en los top 20 tenemos frutas, aunque parte de este punto es importante destacar que los productos como tal se repiten, siendo que tienen diferentes nombres como en el top 2 que son 'BANANA' y 'BAG OF ORGANIC BANANAS', siendo que son 2 productos con posiblemente difernte presentación, resta determinar si esta diferencia es relevante o no para el análisis de esta información.\n",
    "\n",
    "El plátano predomina por mucho, y lo haría más si se agrupara por el mismo tipo de producto en lugar de separarlo por la presentación/nombre, lo que nos indica que en general el plátano es un producto extremadamente común.\n",
    "\n",
    "Podemos ver que al principio hay una caída notablemente abrupta, pero después del plátano la disminución es cada vez más gradual, siendo que desde el top 8 los productos tienen frecuencias muy cercanas. Esto nos puede indicar que hay una base sólida de productos populares que se repiten mucho entre los compradores."
   ]
  },
  {
   "cell_type": "markdown",
   "id": "gross-theme",
   "metadata": {
    "id": "gross-theme"
   },
   "source": [
    "# [C] Difícil (deben completarse todos para aprobar)\n",
    "\n",
    "1. ¿Cuántos artículos suelen comprar las personas en un pedido? ¿Cómo es la distribución?\n",
    "2. ¿Cuáles son los 20 principales artículos que vuelven a pedirse con mayor frecuencia (muestra sus nombres e IDs de los productos)?\n",
    "3. Para cada producto, ¿cuál es la tasa de repetición del pedido (número de repeticiones de pedido/total de pedidos?\n",
    "4. Para cada cliente, ¿qué proporción de los productos que pidió ya los había pedido? Calcula la tasa de repetición de pedido para cada usuario en lugar de para cada producto.\n",
    "5. ¿Cuáles son los 20 principales artículos que la gente pone primero en sus carritos (muestra las IDs de los productos, sus nombres, y el número de veces en que fueron el primer artículo en añadirse al carrito)?"
   ]
  },
  {
   "cell_type": "markdown",
   "id": "romantic-deposit",
   "metadata": {
    "id": "romantic-deposit"
   },
   "source": [
    "### [C1] ¿Cuántos artículos compran normalmente las personas en un pedido? ¿Cómo es la distribución?"
   ]
  },
  {
   "cell_type": "code",
   "execution_count": 49,
   "id": "virtual-punch",
   "metadata": {
    "id": "virtual-punch"
   },
   "outputs": [],
   "source": [
    "# Contar cuántos artículos hay en cada orden\n",
    "articulos_por_orden = df_order_products['order_id'].value_counts()"
   ]
  },
  {
   "cell_type": "code",
   "execution_count": 50,
   "id": "sensitive-breathing",
   "metadata": {
    "id": "sensitive-breathing"
   },
   "outputs": [],
   "source": [
    "# Calcular la distribución de cuántas órdenes tienen cierta cantidad de artículos\n",
    "distribucion_articulos = articulos_por_orden.value_counts().sort_index()"
   ]
  },
  {
   "cell_type": "code",
   "execution_count": 51,
   "id": "completed-frank",
   "metadata": {
    "id": "completed-frank"
   },
   "outputs": [
    {
     "data": {
      "image/png": "[encoded data removed]",
      "text/plain": [
       "<Figure size 1400x600 with 1 Axes>"
      ]
     },
     "metadata": {},
     "output_type": "display_data"
    }
   ],
   "source": [
    "# Graficar\n",
    "distribucion_articulos.plot(\n",
    "    kind='bar',\n",
    "    figsize=(14, 6),\n",
    "    title='Distribución del número de artículos por pedido',\n",
    "    xlabel='Número de artículos en el pedido',\n",
    "    ylabel='Número de pedidos',\n",
    "    rot=90\n",
    ")\n",
    "plt.grid(axis='y', linestyle='--', alpha=0.7)\n",
    "plt.tight_layout()\n",
    "plt.show()"
   ]
  },
  {
   "cell_type": "markdown",
   "id": "designed-mortality",
   "metadata": {
    "id": "designed-mortality"
   },
   "source": [
    "**Escribe aquí tus conclusiones**\n",
    "\n",
    "Podemos apreciar un claro pico alrededor de la cantidad de 5 artículos, lo cual sugiere que la mayoría de los pedidos no son compras grandes, sino probablemente reposición o compras rápidas.\n",
    "\n",
    "A partir de los 5 artículos, claramente la frecuencia baja de forma progresiva, indicando que cada vez hay menos gente que compra más.\n",
    "\n",
    "Y también podemos ver valores atípicos hacia la derecha del gráfico, órdenes con muchos artículos, aunque son poco comunes, ya son bastante pocos los pedidos que tienen muchos artículos aproximadamente a partir de los 40 artículos."
   ]
  },
  {
   "cell_type": "markdown",
   "id": "5e6b5537",
   "metadata": {
    "id": "5e6b5537"
   },
   "source": [
    "### [C2] ¿Cuáles son los 20 principales artículos que vuelven a pedirse con mayor frecuencia (muestra sus nombres e IDs de los productos)?"
   ]
  },
  {
   "cell_type": "code",
   "execution_count": 52,
   "id": "9374e55a",
   "metadata": {
    "id": "9374e55a"
   },
   "outputs": [],
   "source": [
    "# Filtrar productos que fueron re-ordenados\n",
    "reordenados = df_order_products[df_order_products['reordered'] == 1]"
   ]
  },
  {
   "cell_type": "code",
   "execution_count": 53,
   "id": "possible-change",
   "metadata": {
    "id": "possible-change",
    "scrolled": true
   },
   "outputs": [],
   "source": [
    "# Contar frecuencia de cada producto re-ordenado\n",
    "top_20_reordenado = (\n",
    "    reordenados['product_id']\n",
    "    .value_counts()\n",
    "    .head(20)\n",
    "    .reset_index()\n",
    "    .rename(columns={'count': 'reordenes'})\n",
    ")"
   ]
  },
  {
   "cell_type": "code",
   "execution_count": 54,
   "id": "professional-surfing",
   "metadata": {
    "id": "professional-surfing",
    "scrolled": true
   },
   "outputs": [],
   "source": [
    "# Unir con nombres de productos\n",
    "top_20_reordenado = top_20_reordenado.merge(df_products, on='product_id')"
   ]
  },
  {
   "cell_type": "code",
   "execution_count": 55,
   "id": "48dd3658",
   "metadata": {
    "id": "48dd3658"
   },
   "outputs": [
    {
     "data": {
      "image/png": "[encoded data removed]",
      "text/plain": [
       "<Figure size 1200x600 with 1 Axes>"
      ]
     },
     "metadata": {},
     "output_type": "display_data"
    }
   ],
   "source": [
    "top_20_reordenado.set_index('product_name')['reordenes'].plot(\n",
    "    kind='bar',\n",
    "    figsize=(12, 6),\n",
    "    title='Top 20 productos más re-ordenados',\n",
    "    xlabel='Producto',\n",
    "    ylabel='Cantidad de re-ordenes',\n",
    "    rot=90\n",
    ")\n",
    "plt.grid(axis='y', linestyle='--', alpha=0.7)\n",
    "plt.tight_layout()\n",
    "plt.show()\n"
   ]
  },
  {
   "cell_type": "markdown",
   "id": "80e70c74",
   "metadata": {
    "id": "80e70c74"
   },
   "source": [
    "**Escribe aquí tus conclusiones**\n",
    "\n",
    "Al igual que los top de pedidos, los productos orgánicos predominan, y nuevamente el plátano es el más re-ordenado.\n",
    "\n",
    "Muchos de los productos del top anterior también están en esta lista, lo cual refuerza el papel de estos productos como esenciales."
   ]
  },
  {
   "cell_type": "markdown",
   "id": "9d312b14",
   "metadata": {
    "id": "9d312b14"
   },
   "source": [
    "### [C3] Para cada producto, ¿cuál es la proporción de las veces que se pide y que se vuelve a pedir?"
   ]
  },
  {
   "cell_type": "code",
   "execution_count": 56,
   "id": "8ae9f4b1",
   "metadata": {
    "id": "8ae9f4b1"
   },
   "outputs": [],
   "source": [
    "# Agrupar por productos y calcular total de pedidos y total de re-ordenes\n",
    "reorder_stats = (\n",
    "    df_order_products\n",
    "    .groupby('product_id')['reordered']\n",
    "    .agg(['sum', 'count'])\n",
    "    .rename(columns={'sum': 'total_reordenes', 'count': 'total_pedidos'})\n",
    ")"
   ]
  },
  {
   "cell_type": "code",
   "execution_count": 57,
   "id": "103e7fe1",
   "metadata": {
    "id": "103e7fe1"
   },
   "outputs": [],
   "source": [
    "# Calculoar tasa de repetición\n",
    "reorder_stats['tasa_reorden'] = reorder_stats['total_reordenes'] / reorder_stats['total_pedidos']\n",
    "\n",
    "# Unir con nombres de productos\n",
    "tasa_reorden_por_producto = reorder_stats.reset_index().merge(df_products, on='product_id')\n",
    "\n",
    "# Filtrar productos con un número mínimo de pedidos, por ejemplo al menos 100\n",
    "tasa_filtrada = tasa_reorden_por_producto[tasa_reorden_por_producto['total_pedidos'] >= 100]"
   ]
  },
  {
   "cell_type": "code",
   "execution_count": 58,
   "id": "social-individual",
   "metadata": {
    "id": "social-individual"
   },
   "outputs": [
    {
     "data": {
      "image/png": "[encoded data removed]",
      "text/plain": [
       "<Figure size 1200x600 with 1 Axes>"
      ]
     },
     "metadata": {},
     "output_type": "display_data"
    }
   ],
   "source": [
    "# Graficar tasas de reorden, usando el top 10\n",
    "tasa_filtrada.sort_values(by='tasa_reorden', ascending=False).head(10).set_index('product_name')['tasa_reorden'].plot(\n",
    "    kind='bar',\n",
    "    figsize=(12, 6),\n",
    "    title='Top 10 productos con mayor tasa de repetición (≥100 pedidos)',\n",
    "    xlabel='Producto',\n",
    "    ylabel='Tasa de repetición',\n",
    "    ylim=(0.84, 0.88),\n",
    "    rot=90\n",
    ")\n",
    "plt.grid(axis='y', linestyle='--', alpha=0.7)\n",
    "plt.tight_layout()\n",
    "plt.show()"
   ]
  },
  {
   "cell_type": "markdown",
   "id": "I10dEIAyldcO",
   "metadata": {
    "id": "I10dEIAyldcO"
   },
   "source": [
    "**Escribe aquí tus conclusiones**\n",
    "\n",
    "Los resultados muestran que ciertos productos tienen una altísima tasa de repetición, con proporciones superiores al 85 %. Es decir, cada vez que un cliente compra uno de estos productos, es muy probable que lo vuelva a pedir en futuras compras. Notablemente, los productos con mayor fidelidad son en su mayoría lácteos. Esto sugiere que estos artículos forman parte de la compra habitual o esencial de los usuarios, probablemente ligados a rutinas de consumo muy establecidas.\n",
    "\n",
    "**¿Por qué aplicar el filtro de 100 pedidos?**\n",
    "\n",
    "El filtro de al menos 100 pedidos por producto se aplicó para evitar conclusiones sesgadas por productos con pocos datos. Por ejemplo, si un producto fue pedido una sola vez y luego reordenado una vez, tendría una tasa de repetición de 100 %, pero ese dato no es significativo."
   ]
  },
  {
   "cell_type": "markdown",
   "id": "subject-boxing",
   "metadata": {
    "id": "subject-boxing"
   },
   "source": [
    "### [C4] Para cada cliente, ¿qué proporción de sus productos ya los había pedido?"
   ]
  },
  {
   "cell_type": "code",
   "execution_count": 59,
   "id": "medical-couple",
   "metadata": {
    "id": "medical-couple",
    "scrolled": true
   },
   "outputs": [
    {
     "data": {
      "application/vnd.microsoft.datawrangler.viewer.v0+json": {
       "columns": [
        {
         "name": "user_id",
         "rawType": "int64",
         "type": "integer"
        },
        {
         "name": "total_reordenes",
         "rawType": "int64",
         "type": "integer"
        },
        {
         "name": "total_pedidos",
         "rawType": "int64",
         "type": "integer"
        },
        {
         "name": "tasa_reorden_usuario",
         "rawType": "float64",
         "type": "float"
        }
       ],
       "conversionMethod": "pd.DataFrame",
       "ref": "926a2714-0d37-4a6d-b300-0aa5be55592a",
       "rows": [
        [
         "2",
         "1",
         "26",
         "0.038461538461538464"
        ],
        [
         "4",
         "0",
         "2",
         "0.0"
        ],
        [
         "5",
         "8",
         "12",
         "0.6666666666666666"
        ],
        [
         "6",
         "0",
         "4",
         "0.0"
        ],
        [
         "7",
         "13",
         "14",
         "0.9285714285714286"
        ],
        [
         "11",
         "3",
         "15",
         "0.2"
        ],
        [
         "12",
         "3",
         "12",
         "0.25"
        ],
        [
         "13",
         "13",
         "23",
         "0.5652173913043478"
        ],
        [
         "14",
         "22",
         "61",
         "0.36065573770491804"
        ],
        [
         "15",
         "7",
         "13",
         "0.5384615384615384"
        ]
       ],
       "shape": {
        "columns": 3,
        "rows": 10
       }
      },
      "text/html": [
       "<div>\n",
       "<style scoped>\n",
       "    .dataframe tbody tr th:only-of-type {\n",
       "        vertical-align: middle;\n",
       "    }\n",
       "\n",
       "    .dataframe tbody tr th {\n",
       "        vertical-align: top;\n",
       "    }\n",
       "\n",
       "    .dataframe thead th {\n",
       "        text-align: right;\n",
       "    }\n",
       "</style>\n",
       "<table border=\"1\" class=\"dataframe\">\n",
       "  <thead>\n",
       "    <tr style=\"text-align: right;\">\n",
       "      <th></th>\n",
       "      <th>total_reordenes</th>\n",
       "      <th>total_pedidos</th>\n",
       "      <th>tasa_reorden_usuario</th>\n",
       "    </tr>\n",
       "    <tr>\n",
       "      <th>user_id</th>\n",
       "      <th></th>\n",
       "      <th></th>\n",
       "      <th></th>\n",
       "    </tr>\n",
       "  </thead>\n",
       "  <tbody>\n",
       "    <tr>\n",
       "      <th>2</th>\n",
       "      <td>1</td>\n",
       "      <td>26</td>\n",
       "      <td>0.038462</td>\n",
       "    </tr>\n",
       "    <tr>\n",
       "      <th>4</th>\n",
       "      <td>0</td>\n",
       "      <td>2</td>\n",
       "      <td>0.000000</td>\n",
       "    </tr>\n",
       "    <tr>\n",
       "      <th>5</th>\n",
       "      <td>8</td>\n",
       "      <td>12</td>\n",
       "      <td>0.666667</td>\n",
       "    </tr>\n",
       "    <tr>\n",
       "      <th>6</th>\n",
       "      <td>0</td>\n",
       "      <td>4</td>\n",
       "      <td>0.000000</td>\n",
       "    </tr>\n",
       "    <tr>\n",
       "      <th>7</th>\n",
       "      <td>13</td>\n",
       "      <td>14</td>\n",
       "      <td>0.928571</td>\n",
       "    </tr>\n",
       "    <tr>\n",
       "      <th>11</th>\n",
       "      <td>3</td>\n",
       "      <td>15</td>\n",
       "      <td>0.200000</td>\n",
       "    </tr>\n",
       "    <tr>\n",
       "      <th>12</th>\n",
       "      <td>3</td>\n",
       "      <td>12</td>\n",
       "      <td>0.250000</td>\n",
       "    </tr>\n",
       "    <tr>\n",
       "      <th>13</th>\n",
       "      <td>13</td>\n",
       "      <td>23</td>\n",
       "      <td>0.565217</td>\n",
       "    </tr>\n",
       "    <tr>\n",
       "      <th>14</th>\n",
       "      <td>22</td>\n",
       "      <td>61</td>\n",
       "      <td>0.360656</td>\n",
       "    </tr>\n",
       "    <tr>\n",
       "      <th>15</th>\n",
       "      <td>7</td>\n",
       "      <td>13</td>\n",
       "      <td>0.538462</td>\n",
       "    </tr>\n",
       "  </tbody>\n",
       "</table>\n",
       "</div>"
      ],
      "text/plain": [
       "         total_reordenes  total_pedidos  tasa_reorden_usuario\n",
       "user_id                                                      \n",
       "2                      1             26              0.038462\n",
       "4                      0              2              0.000000\n",
       "5                      8             12              0.666667\n",
       "6                      0              4              0.000000\n",
       "7                     13             14              0.928571\n",
       "11                     3             15              0.200000\n",
       "12                     3             12              0.250000\n",
       "13                    13             23              0.565217\n",
       "14                    22             61              0.360656\n",
       "15                     7             13              0.538462"
      ]
     },
     "execution_count": 59,
     "metadata": {},
     "output_type": "execute_result"
    }
   ],
   "source": [
    "# Unir órdenes con productos pedidos\n",
    "ordenes_con_productos = df_orders.merge(df_order_products, on='order_id')\n",
    "\n",
    "# Agrupar por usuario y calcular total de pedidos y reordenes\n",
    "tasa_usuario = (\n",
    "    ordenes_con_productos\n",
    "    .groupby('user_id')['reordered']\n",
    "    .agg(['sum', 'count'])\n",
    "    .rename(columns={'sum': 'total_reordenes', 'count': 'total_pedidos'})\n",
    ")\n",
    "\n",
    "# Calcular la tasa de reorden para cada usuario\n",
    "tasa_usuario['tasa_reorden_usuario'] = tasa_usuario['total_reordenes'] / tasa_usuario['total_pedidos']\n",
    "\n",
    "# Mostrar primeros resultados\n",
    "tasa_usuario.head(10)"
   ]
  },
  {
   "cell_type": "code",
   "execution_count": 60,
   "id": "8892e4b4",
   "metadata": {
    "id": "8892e4b4"
   },
   "outputs": [
    {
     "data": {
      "image/png": "[encoded data removed]",
      "text/plain": [
       "<Figure size 1000x600 with 1 Axes>"
      ]
     },
     "metadata": {},
     "output_type": "display_data"
    }
   ],
   "source": [
    "# Histograma de la tasa de repetición por usuario\n",
    "tasa_usuario['tasa_reorden_usuario'].plot(\n",
    "    kind='hist',\n",
    "    bins=30,\n",
    "    figsize=(10, 6),\n",
    "    title='Distribución de la tasa de repetición por usuario',\n",
    "    xlabel='Tasa de repetición',\n",
    "    ylabel='Número de usuarios',\n",
    "    grid=True,\n",
    "    alpha=0.7\n",
    ")\n",
    "\n",
    "plt.tight_layout()\n",
    "plt.show()"
   ]
  },
  {
   "cell_type": "markdown",
   "id": "BgJSvXDsleXz",
   "metadata": {
    "id": "BgJSvXDsleXz"
   },
   "source": [
    "**Escribe aquí tus conclusiones**\n",
    "\n",
    "La distribución de la tasa de repetición muestra una clara bimodalidad:\n",
    "- Hay un gran grupo de usuarios con una tasa cercana a 0, lo que indica que no suelen repetir productos (posiblemente usuarios nuevos o de comportamiento muy explorador).\n",
    "- También hay un pico notable cerca de 1, lo que sugiere que otro grupo importante tiende a reordenar los mismos productos frecuentemente, mostrando hábitos de compra más fijos.\n",
    "- El resto de la distribución es relativamente uniforme, lo que indica una variedad de comportamientos intermedios, sin una tendencia dominante.\n",
    "\n",
    "Esto sugiere que hay dos perfiles claros de usuarios:\n",
    "- *Exploradores*, que prueban productos nuevos frecuentemente.\n",
    "- *Leales*, que repiten compras de productos ya conocidos."
   ]
  },
  {
   "cell_type": "markdown",
   "id": "92d35137",
   "metadata": {
    "id": "92d35137"
   },
   "source": [
    "### [C5] ¿Cuáles son los 20 principales artículos que las personas ponen primero en sus carritos?"
   ]
  },
  {
   "cell_type": "code",
   "execution_count": 61,
   "id": "0ae57274",
   "metadata": {
    "id": "0ae57274",
    "scrolled": true
   },
   "outputs": [],
   "source": [
    "# Filtrar los artículos que fueron los primeros en añadirse al carrito\n",
    "primeros_articulos = df_order_products[df_order_products['add_to_cart_order'] == 1]"
   ]
  },
  {
   "cell_type": "code",
   "execution_count": 62,
   "id": "forty-netherlands",
   "metadata": {
    "id": "forty-netherlands",
    "scrolled": true
   },
   "outputs": [],
   "source": [
    "\n",
    "# Contar cuántas veces cada producto fue el primero en añadirse\n",
    "conteo_primeros = (\n",
    "    primeros_articulos['product_id']\n",
    "    .value_counts()\n",
    "    .head(20)\n",
    "    .reset_index()\n",
    "    .rename(columns={'count': 'veces_primero'})\n",
    ")\n",
    "\n",
    "# Añadir los nombres de los productos\n",
    "top_primeros = conteo_primeros.merge(df_products, on='product_id')"
   ]
  },
  {
   "cell_type": "code",
   "execution_count": 63,
   "id": "08e41ec2",
   "metadata": {
    "id": "08e41ec2"
   },
   "outputs": [
    {
     "data": {
      "image/png": "[encoded data removed]",
      "text/plain": [
       "<Figure size 1000x800 with 1 Axes>"
      ]
     },
     "metadata": {},
     "output_type": "display_data"
    }
   ],
   "source": [
    "top_primeros.set_index('product_name')['veces_primero'].sort_values().plot(\n",
    "    kind='barh',\n",
    "    figsize=(10, 8),\n",
    "    title='Top 20 productos añadidos primero al carrito',\n",
    "    xlabel='Número de veces como primer producto',\n",
    "    ylabel='Producto',\n",
    "    grid=True\n",
    ")\n",
    "\n",
    "plt.tight_layout()\n",
    "plt.show()"
   ]
  },
  {
   "cell_type": "markdown",
   "id": "28ce9872",
   "metadata": {
    "id": "28ce9872"
   },
   "source": [
    "**Escribe aquí tus conclusiones**\n",
    "\n",
    "Los productos que los usuarios añaden primero al carrito tienden a ser básicos, de alta rotación y de consumo frecuente, especialmente frutas frescas (como bananas, fresas, aguacates) y lácteos (como leche y crema). Esto sugiere que muchos usuarios siguen patrones de compra rutinarios y priorizan artículos esenciales desde el inicio de su sesión."
   ]
  },
  {
   "cell_type": "markdown",
   "id": "uITbFCEoDosC",
   "metadata": {
    "id": "uITbFCEoDosC"
   },
   "source": [
    "### Conclusion general del proyecto:\n",
    "\n",
    "Este Sprint en general ha sido bastante nutritivo, aprendí a analizar desde diferentes puntos de vista información con las herramientas proveidas en Python. Practiqué más la limpieza de información lo cual siento que fortalece mis habilidades en el análisis de datos.\n",
    "\n",
    "Siendo que las preguntas propuestas para este proyecto fueron algo especialmente específicos me ayudó a agilizar mi pensamiento crítico al momento de buscar soluciones o respuestas.\n",
    "\n",
    "El por fin graficar información me ha ayudado significativamente no solamente a poder entender la información, sino ayudar a fundamentar mis argumentos a favor o en contra de alguna pregunta o planteamiento.\n",
    "\n",
    "En general espero aprender todavíá más y poder agilizar mis habilidades como analista de datos."
   ]
  }
 ],
 "metadata": {
  "colab": {
   "provenance": []
  },
  "kernelspec": {
   "display_name": ".venv (3.10.12)",
   "language": "python",
   "name": "python3"
  },
  "language_info": {
   "codemirror_mode": {
    "name": "ipython",
    "version": 3
   },
   "file_extension": ".py",
   "mimetype": "text/x-python",
   "name": "python",
   "nbconvert_exporter": "python",
   "pygments_lexer": "ipython3",
   "version": "3.10.12"
  },
  "toc": {
   "base_numbering": 1,
   "nav_menu": {},
   "number_sections": true,
   "sideBar": true,
   "skip_h1_title": true,
   "title_cell": "Table of Contents",
   "title_sidebar": "Contents",
   "toc_cell": false,
   "toc_position": {},
   "toc_section_display": true,
   "toc_window_display": false
  }
 },
 "nbformat": 4,
 "nbformat_minor": 5
}
